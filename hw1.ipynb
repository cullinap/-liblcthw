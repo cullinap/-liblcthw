{
  "nbformat": 4,
  "nbformat_minor": 0,
  "metadata": {
    "colab": {
      "provenance": [],
      "collapsed_sections": [],
      "authorship_tag": "ABX9TyMsPzp08x7d1YcIHTblZFNC",
      "include_colab_link": true
    },
    "kernelspec": {
      "name": "python3",
      "display_name": "Python 3"
    },
    "language_info": {
      "name": "python"
    },
    "accelerator": "GPU",
    "gpuClass": "standard",
    "widgets": {
      "application/vnd.jupyter.widget-state+json": {
        "b932f4b1412a415bb5ada00bc12ec608": {
          "model_module": "@jupyter-widgets/controls",
          "model_name": "HBoxModel",
          "model_module_version": "1.5.0",
          "state": {
            "_dom_classes": [],
            "_model_module": "@jupyter-widgets/controls",
            "_model_module_version": "1.5.0",
            "_model_name": "HBoxModel",
            "_view_count": null,
            "_view_module": "@jupyter-widgets/controls",
            "_view_module_version": "1.5.0",
            "_view_name": "HBoxView",
            "box_style": "",
            "children": [
              "IPY_MODEL_97eac66ba8da497cb40b1669554106be",
              "IPY_MODEL_138b2477a33d4a89926473fda403a370",
              "IPY_MODEL_f84c92cf30144e6495ddd7340acad0a3"
            ],
            "layout": "IPY_MODEL_fe41651604eb4d43b424148f083269a7"
          }
        },
        "97eac66ba8da497cb40b1669554106be": {
          "model_module": "@jupyter-widgets/controls",
          "model_name": "HTMLModel",
          "model_module_version": "1.5.0",
          "state": {
            "_dom_classes": [],
            "_model_module": "@jupyter-widgets/controls",
            "_model_module_version": "1.5.0",
            "_model_name": "HTMLModel",
            "_view_count": null,
            "_view_module": "@jupyter-widgets/controls",
            "_view_module_version": "1.5.0",
            "_view_name": "HTMLView",
            "description": "",
            "description_tooltip": null,
            "layout": "IPY_MODEL_5f07b6af75d14c8180d844369bc53ec7",
            "placeholder": "​",
            "style": "IPY_MODEL_aff70f8c4b9f4c918ad1a1ecb861c526",
            "value": "100%"
          }
        },
        "138b2477a33d4a89926473fda403a370": {
          "model_module": "@jupyter-widgets/controls",
          "model_name": "FloatProgressModel",
          "model_module_version": "1.5.0",
          "state": {
            "_dom_classes": [],
            "_model_module": "@jupyter-widgets/controls",
            "_model_module_version": "1.5.0",
            "_model_name": "FloatProgressModel",
            "_view_count": null,
            "_view_module": "@jupyter-widgets/controls",
            "_view_module_version": "1.5.0",
            "_view_name": "ProgressView",
            "bar_style": "success",
            "description": "",
            "description_tooltip": null,
            "layout": "IPY_MODEL_581a2988c6814718834cb4b9700e6803",
            "max": 9912422,
            "min": 0,
            "orientation": "horizontal",
            "style": "IPY_MODEL_aadca3c6c6784fb9b3310e39e5fe8ae6",
            "value": 9912422
          }
        },
        "f84c92cf30144e6495ddd7340acad0a3": {
          "model_module": "@jupyter-widgets/controls",
          "model_name": "HTMLModel",
          "model_module_version": "1.5.0",
          "state": {
            "_dom_classes": [],
            "_model_module": "@jupyter-widgets/controls",
            "_model_module_version": "1.5.0",
            "_model_name": "HTMLModel",
            "_view_count": null,
            "_view_module": "@jupyter-widgets/controls",
            "_view_module_version": "1.5.0",
            "_view_name": "HTMLView",
            "description": "",
            "description_tooltip": null,
            "layout": "IPY_MODEL_015e5365dec943189d4f8c77b3af45d4",
            "placeholder": "​",
            "style": "IPY_MODEL_88e2baa3f7854ce5b4b9193fed47b28e",
            "value": " 9912422/9912422 [00:00&lt;00:00, 21394376.77it/s]"
          }
        },
        "fe41651604eb4d43b424148f083269a7": {
          "model_module": "@jupyter-widgets/base",
          "model_name": "LayoutModel",
          "model_module_version": "1.2.0",
          "state": {
            "_model_module": "@jupyter-widgets/base",
            "_model_module_version": "1.2.0",
            "_model_name": "LayoutModel",
            "_view_count": null,
            "_view_module": "@jupyter-widgets/base",
            "_view_module_version": "1.2.0",
            "_view_name": "LayoutView",
            "align_content": null,
            "align_items": null,
            "align_self": null,
            "border": null,
            "bottom": null,
            "display": null,
            "flex": null,
            "flex_flow": null,
            "grid_area": null,
            "grid_auto_columns": null,
            "grid_auto_flow": null,
            "grid_auto_rows": null,
            "grid_column": null,
            "grid_gap": null,
            "grid_row": null,
            "grid_template_areas": null,
            "grid_template_columns": null,
            "grid_template_rows": null,
            "height": null,
            "justify_content": null,
            "justify_items": null,
            "left": null,
            "margin": null,
            "max_height": null,
            "max_width": null,
            "min_height": null,
            "min_width": null,
            "object_fit": null,
            "object_position": null,
            "order": null,
            "overflow": null,
            "overflow_x": null,
            "overflow_y": null,
            "padding": null,
            "right": null,
            "top": null,
            "visibility": null,
            "width": null
          }
        },
        "5f07b6af75d14c8180d844369bc53ec7": {
          "model_module": "@jupyter-widgets/base",
          "model_name": "LayoutModel",
          "model_module_version": "1.2.0",
          "state": {
            "_model_module": "@jupyter-widgets/base",
            "_model_module_version": "1.2.0",
            "_model_name": "LayoutModel",
            "_view_count": null,
            "_view_module": "@jupyter-widgets/base",
            "_view_module_version": "1.2.0",
            "_view_name": "LayoutView",
            "align_content": null,
            "align_items": null,
            "align_self": null,
            "border": null,
            "bottom": null,
            "display": null,
            "flex": null,
            "flex_flow": null,
            "grid_area": null,
            "grid_auto_columns": null,
            "grid_auto_flow": null,
            "grid_auto_rows": null,
            "grid_column": null,
            "grid_gap": null,
            "grid_row": null,
            "grid_template_areas": null,
            "grid_template_columns": null,
            "grid_template_rows": null,
            "height": null,
            "justify_content": null,
            "justify_items": null,
            "left": null,
            "margin": null,
            "max_height": null,
            "max_width": null,
            "min_height": null,
            "min_width": null,
            "object_fit": null,
            "object_position": null,
            "order": null,
            "overflow": null,
            "overflow_x": null,
            "overflow_y": null,
            "padding": null,
            "right": null,
            "top": null,
            "visibility": null,
            "width": null
          }
        },
        "aff70f8c4b9f4c918ad1a1ecb861c526": {
          "model_module": "@jupyter-widgets/controls",
          "model_name": "DescriptionStyleModel",
          "model_module_version": "1.5.0",
          "state": {
            "_model_module": "@jupyter-widgets/controls",
            "_model_module_version": "1.5.0",
            "_model_name": "DescriptionStyleModel",
            "_view_count": null,
            "_view_module": "@jupyter-widgets/base",
            "_view_module_version": "1.2.0",
            "_view_name": "StyleView",
            "description_width": ""
          }
        },
        "581a2988c6814718834cb4b9700e6803": {
          "model_module": "@jupyter-widgets/base",
          "model_name": "LayoutModel",
          "model_module_version": "1.2.0",
          "state": {
            "_model_module": "@jupyter-widgets/base",
            "_model_module_version": "1.2.0",
            "_model_name": "LayoutModel",
            "_view_count": null,
            "_view_module": "@jupyter-widgets/base",
            "_view_module_version": "1.2.0",
            "_view_name": "LayoutView",
            "align_content": null,
            "align_items": null,
            "align_self": null,
            "border": null,
            "bottom": null,
            "display": null,
            "flex": null,
            "flex_flow": null,
            "grid_area": null,
            "grid_auto_columns": null,
            "grid_auto_flow": null,
            "grid_auto_rows": null,
            "grid_column": null,
            "grid_gap": null,
            "grid_row": null,
            "grid_template_areas": null,
            "grid_template_columns": null,
            "grid_template_rows": null,
            "height": null,
            "justify_content": null,
            "justify_items": null,
            "left": null,
            "margin": null,
            "max_height": null,
            "max_width": null,
            "min_height": null,
            "min_width": null,
            "object_fit": null,
            "object_position": null,
            "order": null,
            "overflow": null,
            "overflow_x": null,
            "overflow_y": null,
            "padding": null,
            "right": null,
            "top": null,
            "visibility": null,
            "width": null
          }
        },
        "aadca3c6c6784fb9b3310e39e5fe8ae6": {
          "model_module": "@jupyter-widgets/controls",
          "model_name": "ProgressStyleModel",
          "model_module_version": "1.5.0",
          "state": {
            "_model_module": "@jupyter-widgets/controls",
            "_model_module_version": "1.5.0",
            "_model_name": "ProgressStyleModel",
            "_view_count": null,
            "_view_module": "@jupyter-widgets/base",
            "_view_module_version": "1.2.0",
            "_view_name": "StyleView",
            "bar_color": null,
            "description_width": ""
          }
        },
        "015e5365dec943189d4f8c77b3af45d4": {
          "model_module": "@jupyter-widgets/base",
          "model_name": "LayoutModel",
          "model_module_version": "1.2.0",
          "state": {
            "_model_module": "@jupyter-widgets/base",
            "_model_module_version": "1.2.0",
            "_model_name": "LayoutModel",
            "_view_count": null,
            "_view_module": "@jupyter-widgets/base",
            "_view_module_version": "1.2.0",
            "_view_name": "LayoutView",
            "align_content": null,
            "align_items": null,
            "align_self": null,
            "border": null,
            "bottom": null,
            "display": null,
            "flex": null,
            "flex_flow": null,
            "grid_area": null,
            "grid_auto_columns": null,
            "grid_auto_flow": null,
            "grid_auto_rows": null,
            "grid_column": null,
            "grid_gap": null,
            "grid_row": null,
            "grid_template_areas": null,
            "grid_template_columns": null,
            "grid_template_rows": null,
            "height": null,
            "justify_content": null,
            "justify_items": null,
            "left": null,
            "margin": null,
            "max_height": null,
            "max_width": null,
            "min_height": null,
            "min_width": null,
            "object_fit": null,
            "object_position": null,
            "order": null,
            "overflow": null,
            "overflow_x": null,
            "overflow_y": null,
            "padding": null,
            "right": null,
            "top": null,
            "visibility": null,
            "width": null
          }
        },
        "88e2baa3f7854ce5b4b9193fed47b28e": {
          "model_module": "@jupyter-widgets/controls",
          "model_name": "DescriptionStyleModel",
          "model_module_version": "1.5.0",
          "state": {
            "_model_module": "@jupyter-widgets/controls",
            "_model_module_version": "1.5.0",
            "_model_name": "DescriptionStyleModel",
            "_view_count": null,
            "_view_module": "@jupyter-widgets/base",
            "_view_module_version": "1.2.0",
            "_view_name": "StyleView",
            "description_width": ""
          }
        },
        "f10ad236c86240528f96b82084fc1d2f": {
          "model_module": "@jupyter-widgets/controls",
          "model_name": "HBoxModel",
          "model_module_version": "1.5.0",
          "state": {
            "_dom_classes": [],
            "_model_module": "@jupyter-widgets/controls",
            "_model_module_version": "1.5.0",
            "_model_name": "HBoxModel",
            "_view_count": null,
            "_view_module": "@jupyter-widgets/controls",
            "_view_module_version": "1.5.0",
            "_view_name": "HBoxView",
            "box_style": "",
            "children": [
              "IPY_MODEL_41b8b5bfd06e43f38909fba7a3113a3d",
              "IPY_MODEL_ef634b448a934eccbfbc91d6e9b2e120",
              "IPY_MODEL_47e3d675ad5e43cfba9e269d420d4105"
            ],
            "layout": "IPY_MODEL_ed618b34664742e9a43fe774864bbebf"
          }
        },
        "41b8b5bfd06e43f38909fba7a3113a3d": {
          "model_module": "@jupyter-widgets/controls",
          "model_name": "HTMLModel",
          "model_module_version": "1.5.0",
          "state": {
            "_dom_classes": [],
            "_model_module": "@jupyter-widgets/controls",
            "_model_module_version": "1.5.0",
            "_model_name": "HTMLModel",
            "_view_count": null,
            "_view_module": "@jupyter-widgets/controls",
            "_view_module_version": "1.5.0",
            "_view_name": "HTMLView",
            "description": "",
            "description_tooltip": null,
            "layout": "IPY_MODEL_bb2f45d98169451fb9d3246ea50ca055",
            "placeholder": "​",
            "style": "IPY_MODEL_1d0ec56a0c8b4beebd34bb09fd0e4077",
            "value": "100%"
          }
        },
        "ef634b448a934eccbfbc91d6e9b2e120": {
          "model_module": "@jupyter-widgets/controls",
          "model_name": "FloatProgressModel",
          "model_module_version": "1.5.0",
          "state": {
            "_dom_classes": [],
            "_model_module": "@jupyter-widgets/controls",
            "_model_module_version": "1.5.0",
            "_model_name": "FloatProgressModel",
            "_view_count": null,
            "_view_module": "@jupyter-widgets/controls",
            "_view_module_version": "1.5.0",
            "_view_name": "ProgressView",
            "bar_style": "success",
            "description": "",
            "description_tooltip": null,
            "layout": "IPY_MODEL_cc322fad49f94584991b67204a21ea92",
            "max": 28881,
            "min": 0,
            "orientation": "horizontal",
            "style": "IPY_MODEL_4e62e39b49214ebeb3656211cec2845b",
            "value": 28881
          }
        },
        "47e3d675ad5e43cfba9e269d420d4105": {
          "model_module": "@jupyter-widgets/controls",
          "model_name": "HTMLModel",
          "model_module_version": "1.5.0",
          "state": {
            "_dom_classes": [],
            "_model_module": "@jupyter-widgets/controls",
            "_model_module_version": "1.5.0",
            "_model_name": "HTMLModel",
            "_view_count": null,
            "_view_module": "@jupyter-widgets/controls",
            "_view_module_version": "1.5.0",
            "_view_name": "HTMLView",
            "description": "",
            "description_tooltip": null,
            "layout": "IPY_MODEL_7444f249a524461792ccc9570a4d9cbc",
            "placeholder": "​",
            "style": "IPY_MODEL_1c53cf067e714c15983e5893af50d768",
            "value": " 28881/28881 [00:00&lt;00:00, 859490.23it/s]"
          }
        },
        "ed618b34664742e9a43fe774864bbebf": {
          "model_module": "@jupyter-widgets/base",
          "model_name": "LayoutModel",
          "model_module_version": "1.2.0",
          "state": {
            "_model_module": "@jupyter-widgets/base",
            "_model_module_version": "1.2.0",
            "_model_name": "LayoutModel",
            "_view_count": null,
            "_view_module": "@jupyter-widgets/base",
            "_view_module_version": "1.2.0",
            "_view_name": "LayoutView",
            "align_content": null,
            "align_items": null,
            "align_self": null,
            "border": null,
            "bottom": null,
            "display": null,
            "flex": null,
            "flex_flow": null,
            "grid_area": null,
            "grid_auto_columns": null,
            "grid_auto_flow": null,
            "grid_auto_rows": null,
            "grid_column": null,
            "grid_gap": null,
            "grid_row": null,
            "grid_template_areas": null,
            "grid_template_columns": null,
            "grid_template_rows": null,
            "height": null,
            "justify_content": null,
            "justify_items": null,
            "left": null,
            "margin": null,
            "max_height": null,
            "max_width": null,
            "min_height": null,
            "min_width": null,
            "object_fit": null,
            "object_position": null,
            "order": null,
            "overflow": null,
            "overflow_x": null,
            "overflow_y": null,
            "padding": null,
            "right": null,
            "top": null,
            "visibility": null,
            "width": null
          }
        },
        "bb2f45d98169451fb9d3246ea50ca055": {
          "model_module": "@jupyter-widgets/base",
          "model_name": "LayoutModel",
          "model_module_version": "1.2.0",
          "state": {
            "_model_module": "@jupyter-widgets/base",
            "_model_module_version": "1.2.0",
            "_model_name": "LayoutModel",
            "_view_count": null,
            "_view_module": "@jupyter-widgets/base",
            "_view_module_version": "1.2.0",
            "_view_name": "LayoutView",
            "align_content": null,
            "align_items": null,
            "align_self": null,
            "border": null,
            "bottom": null,
            "display": null,
            "flex": null,
            "flex_flow": null,
            "grid_area": null,
            "grid_auto_columns": null,
            "grid_auto_flow": null,
            "grid_auto_rows": null,
            "grid_column": null,
            "grid_gap": null,
            "grid_row": null,
            "grid_template_areas": null,
            "grid_template_columns": null,
            "grid_template_rows": null,
            "height": null,
            "justify_content": null,
            "justify_items": null,
            "left": null,
            "margin": null,
            "max_height": null,
            "max_width": null,
            "min_height": null,
            "min_width": null,
            "object_fit": null,
            "object_position": null,
            "order": null,
            "overflow": null,
            "overflow_x": null,
            "overflow_y": null,
            "padding": null,
            "right": null,
            "top": null,
            "visibility": null,
            "width": null
          }
        },
        "1d0ec56a0c8b4beebd34bb09fd0e4077": {
          "model_module": "@jupyter-widgets/controls",
          "model_name": "DescriptionStyleModel",
          "model_module_version": "1.5.0",
          "state": {
            "_model_module": "@jupyter-widgets/controls",
            "_model_module_version": "1.5.0",
            "_model_name": "DescriptionStyleModel",
            "_view_count": null,
            "_view_module": "@jupyter-widgets/base",
            "_view_module_version": "1.2.0",
            "_view_name": "StyleView",
            "description_width": ""
          }
        },
        "cc322fad49f94584991b67204a21ea92": {
          "model_module": "@jupyter-widgets/base",
          "model_name": "LayoutModel",
          "model_module_version": "1.2.0",
          "state": {
            "_model_module": "@jupyter-widgets/base",
            "_model_module_version": "1.2.0",
            "_model_name": "LayoutModel",
            "_view_count": null,
            "_view_module": "@jupyter-widgets/base",
            "_view_module_version": "1.2.0",
            "_view_name": "LayoutView",
            "align_content": null,
            "align_items": null,
            "align_self": null,
            "border": null,
            "bottom": null,
            "display": null,
            "flex": null,
            "flex_flow": null,
            "grid_area": null,
            "grid_auto_columns": null,
            "grid_auto_flow": null,
            "grid_auto_rows": null,
            "grid_column": null,
            "grid_gap": null,
            "grid_row": null,
            "grid_template_areas": null,
            "grid_template_columns": null,
            "grid_template_rows": null,
            "height": null,
            "justify_content": null,
            "justify_items": null,
            "left": null,
            "margin": null,
            "max_height": null,
            "max_width": null,
            "min_height": null,
            "min_width": null,
            "object_fit": null,
            "object_position": null,
            "order": null,
            "overflow": null,
            "overflow_x": null,
            "overflow_y": null,
            "padding": null,
            "right": null,
            "top": null,
            "visibility": null,
            "width": null
          }
        },
        "4e62e39b49214ebeb3656211cec2845b": {
          "model_module": "@jupyter-widgets/controls",
          "model_name": "ProgressStyleModel",
          "model_module_version": "1.5.0",
          "state": {
            "_model_module": "@jupyter-widgets/controls",
            "_model_module_version": "1.5.0",
            "_model_name": "ProgressStyleModel",
            "_view_count": null,
            "_view_module": "@jupyter-widgets/base",
            "_view_module_version": "1.2.0",
            "_view_name": "StyleView",
            "bar_color": null,
            "description_width": ""
          }
        },
        "7444f249a524461792ccc9570a4d9cbc": {
          "model_module": "@jupyter-widgets/base",
          "model_name": "LayoutModel",
          "model_module_version": "1.2.0",
          "state": {
            "_model_module": "@jupyter-widgets/base",
            "_model_module_version": "1.2.0",
            "_model_name": "LayoutModel",
            "_view_count": null,
            "_view_module": "@jupyter-widgets/base",
            "_view_module_version": "1.2.0",
            "_view_name": "LayoutView",
            "align_content": null,
            "align_items": null,
            "align_self": null,
            "border": null,
            "bottom": null,
            "display": null,
            "flex": null,
            "flex_flow": null,
            "grid_area": null,
            "grid_auto_columns": null,
            "grid_auto_flow": null,
            "grid_auto_rows": null,
            "grid_column": null,
            "grid_gap": null,
            "grid_row": null,
            "grid_template_areas": null,
            "grid_template_columns": null,
            "grid_template_rows": null,
            "height": null,
            "justify_content": null,
            "justify_items": null,
            "left": null,
            "margin": null,
            "max_height": null,
            "max_width": null,
            "min_height": null,
            "min_width": null,
            "object_fit": null,
            "object_position": null,
            "order": null,
            "overflow": null,
            "overflow_x": null,
            "overflow_y": null,
            "padding": null,
            "right": null,
            "top": null,
            "visibility": null,
            "width": null
          }
        },
        "1c53cf067e714c15983e5893af50d768": {
          "model_module": "@jupyter-widgets/controls",
          "model_name": "DescriptionStyleModel",
          "model_module_version": "1.5.0",
          "state": {
            "_model_module": "@jupyter-widgets/controls",
            "_model_module_version": "1.5.0",
            "_model_name": "DescriptionStyleModel",
            "_view_count": null,
            "_view_module": "@jupyter-widgets/base",
            "_view_module_version": "1.2.0",
            "_view_name": "StyleView",
            "description_width": ""
          }
        },
        "9fe1494edb224b88af4eee006239dc34": {
          "model_module": "@jupyter-widgets/controls",
          "model_name": "HBoxModel",
          "model_module_version": "1.5.0",
          "state": {
            "_dom_classes": [],
            "_model_module": "@jupyter-widgets/controls",
            "_model_module_version": "1.5.0",
            "_model_name": "HBoxModel",
            "_view_count": null,
            "_view_module": "@jupyter-widgets/controls",
            "_view_module_version": "1.5.0",
            "_view_name": "HBoxView",
            "box_style": "",
            "children": [
              "IPY_MODEL_91450c887688476f90373fbc1be2d0fb",
              "IPY_MODEL_38c731e73c1c486d83acfcb1055f5722",
              "IPY_MODEL_fc94d0e3cd044e8cb4a9c684d8612428"
            ],
            "layout": "IPY_MODEL_815da49987644f8d826923d17b744af3"
          }
        },
        "91450c887688476f90373fbc1be2d0fb": {
          "model_module": "@jupyter-widgets/controls",
          "model_name": "HTMLModel",
          "model_module_version": "1.5.0",
          "state": {
            "_dom_classes": [],
            "_model_module": "@jupyter-widgets/controls",
            "_model_module_version": "1.5.0",
            "_model_name": "HTMLModel",
            "_view_count": null,
            "_view_module": "@jupyter-widgets/controls",
            "_view_module_version": "1.5.0",
            "_view_name": "HTMLView",
            "description": "",
            "description_tooltip": null,
            "layout": "IPY_MODEL_33179d61471144d4a5e6f3ebedfa929c",
            "placeholder": "​",
            "style": "IPY_MODEL_c9621307471943bba2ab0c26a839d009",
            "value": "100%"
          }
        },
        "38c731e73c1c486d83acfcb1055f5722": {
          "model_module": "@jupyter-widgets/controls",
          "model_name": "FloatProgressModel",
          "model_module_version": "1.5.0",
          "state": {
            "_dom_classes": [],
            "_model_module": "@jupyter-widgets/controls",
            "_model_module_version": "1.5.0",
            "_model_name": "FloatProgressModel",
            "_view_count": null,
            "_view_module": "@jupyter-widgets/controls",
            "_view_module_version": "1.5.0",
            "_view_name": "ProgressView",
            "bar_style": "success",
            "description": "",
            "description_tooltip": null,
            "layout": "IPY_MODEL_c8a88b610f934556b464ce08cbf0671c",
            "max": 1648877,
            "min": 0,
            "orientation": "horizontal",
            "style": "IPY_MODEL_e3aa109377f74be5a0322604862bf446",
            "value": 1648877
          }
        },
        "fc94d0e3cd044e8cb4a9c684d8612428": {
          "model_module": "@jupyter-widgets/controls",
          "model_name": "HTMLModel",
          "model_module_version": "1.5.0",
          "state": {
            "_dom_classes": [],
            "_model_module": "@jupyter-widgets/controls",
            "_model_module_version": "1.5.0",
            "_model_name": "HTMLModel",
            "_view_count": null,
            "_view_module": "@jupyter-widgets/controls",
            "_view_module_version": "1.5.0",
            "_view_name": "HTMLView",
            "description": "",
            "description_tooltip": null,
            "layout": "IPY_MODEL_2294a796d90e4337851913d1c6eb2118",
            "placeholder": "​",
            "style": "IPY_MODEL_089cf5aa7e0041f7a89257a4eef11da9",
            "value": " 1648877/1648877 [00:00&lt;00:00, 18574079.67it/s]"
          }
        },
        "815da49987644f8d826923d17b744af3": {
          "model_module": "@jupyter-widgets/base",
          "model_name": "LayoutModel",
          "model_module_version": "1.2.0",
          "state": {
            "_model_module": "@jupyter-widgets/base",
            "_model_module_version": "1.2.0",
            "_model_name": "LayoutModel",
            "_view_count": null,
            "_view_module": "@jupyter-widgets/base",
            "_view_module_version": "1.2.0",
            "_view_name": "LayoutView",
            "align_content": null,
            "align_items": null,
            "align_self": null,
            "border": null,
            "bottom": null,
            "display": null,
            "flex": null,
            "flex_flow": null,
            "grid_area": null,
            "grid_auto_columns": null,
            "grid_auto_flow": null,
            "grid_auto_rows": null,
            "grid_column": null,
            "grid_gap": null,
            "grid_row": null,
            "grid_template_areas": null,
            "grid_template_columns": null,
            "grid_template_rows": null,
            "height": null,
            "justify_content": null,
            "justify_items": null,
            "left": null,
            "margin": null,
            "max_height": null,
            "max_width": null,
            "min_height": null,
            "min_width": null,
            "object_fit": null,
            "object_position": null,
            "order": null,
            "overflow": null,
            "overflow_x": null,
            "overflow_y": null,
            "padding": null,
            "right": null,
            "top": null,
            "visibility": null,
            "width": null
          }
        },
        "33179d61471144d4a5e6f3ebedfa929c": {
          "model_module": "@jupyter-widgets/base",
          "model_name": "LayoutModel",
          "model_module_version": "1.2.0",
          "state": {
            "_model_module": "@jupyter-widgets/base",
            "_model_module_version": "1.2.0",
            "_model_name": "LayoutModel",
            "_view_count": null,
            "_view_module": "@jupyter-widgets/base",
            "_view_module_version": "1.2.0",
            "_view_name": "LayoutView",
            "align_content": null,
            "align_items": null,
            "align_self": null,
            "border": null,
            "bottom": null,
            "display": null,
            "flex": null,
            "flex_flow": null,
            "grid_area": null,
            "grid_auto_columns": null,
            "grid_auto_flow": null,
            "grid_auto_rows": null,
            "grid_column": null,
            "grid_gap": null,
            "grid_row": null,
            "grid_template_areas": null,
            "grid_template_columns": null,
            "grid_template_rows": null,
            "height": null,
            "justify_content": null,
            "justify_items": null,
            "left": null,
            "margin": null,
            "max_height": null,
            "max_width": null,
            "min_height": null,
            "min_width": null,
            "object_fit": null,
            "object_position": null,
            "order": null,
            "overflow": null,
            "overflow_x": null,
            "overflow_y": null,
            "padding": null,
            "right": null,
            "top": null,
            "visibility": null,
            "width": null
          }
        },
        "c9621307471943bba2ab0c26a839d009": {
          "model_module": "@jupyter-widgets/controls",
          "model_name": "DescriptionStyleModel",
          "model_module_version": "1.5.0",
          "state": {
            "_model_module": "@jupyter-widgets/controls",
            "_model_module_version": "1.5.0",
            "_model_name": "DescriptionStyleModel",
            "_view_count": null,
            "_view_module": "@jupyter-widgets/base",
            "_view_module_version": "1.2.0",
            "_view_name": "StyleView",
            "description_width": ""
          }
        },
        "c8a88b610f934556b464ce08cbf0671c": {
          "model_module": "@jupyter-widgets/base",
          "model_name": "LayoutModel",
          "model_module_version": "1.2.0",
          "state": {
            "_model_module": "@jupyter-widgets/base",
            "_model_module_version": "1.2.0",
            "_model_name": "LayoutModel",
            "_view_count": null,
            "_view_module": "@jupyter-widgets/base",
            "_view_module_version": "1.2.0",
            "_view_name": "LayoutView",
            "align_content": null,
            "align_items": null,
            "align_self": null,
            "border": null,
            "bottom": null,
            "display": null,
            "flex": null,
            "flex_flow": null,
            "grid_area": null,
            "grid_auto_columns": null,
            "grid_auto_flow": null,
            "grid_auto_rows": null,
            "grid_column": null,
            "grid_gap": null,
            "grid_row": null,
            "grid_template_areas": null,
            "grid_template_columns": null,
            "grid_template_rows": null,
            "height": null,
            "justify_content": null,
            "justify_items": null,
            "left": null,
            "margin": null,
            "max_height": null,
            "max_width": null,
            "min_height": null,
            "min_width": null,
            "object_fit": null,
            "object_position": null,
            "order": null,
            "overflow": null,
            "overflow_x": null,
            "overflow_y": null,
            "padding": null,
            "right": null,
            "top": null,
            "visibility": null,
            "width": null
          }
        },
        "e3aa109377f74be5a0322604862bf446": {
          "model_module": "@jupyter-widgets/controls",
          "model_name": "ProgressStyleModel",
          "model_module_version": "1.5.0",
          "state": {
            "_model_module": "@jupyter-widgets/controls",
            "_model_module_version": "1.5.0",
            "_model_name": "ProgressStyleModel",
            "_view_count": null,
            "_view_module": "@jupyter-widgets/base",
            "_view_module_version": "1.2.0",
            "_view_name": "StyleView",
            "bar_color": null,
            "description_width": ""
          }
        },
        "2294a796d90e4337851913d1c6eb2118": {
          "model_module": "@jupyter-widgets/base",
          "model_name": "LayoutModel",
          "model_module_version": "1.2.0",
          "state": {
            "_model_module": "@jupyter-widgets/base",
            "_model_module_version": "1.2.0",
            "_model_name": "LayoutModel",
            "_view_count": null,
            "_view_module": "@jupyter-widgets/base",
            "_view_module_version": "1.2.0",
            "_view_name": "LayoutView",
            "align_content": null,
            "align_items": null,
            "align_self": null,
            "border": null,
            "bottom": null,
            "display": null,
            "flex": null,
            "flex_flow": null,
            "grid_area": null,
            "grid_auto_columns": null,
            "grid_auto_flow": null,
            "grid_auto_rows": null,
            "grid_column": null,
            "grid_gap": null,
            "grid_row": null,
            "grid_template_areas": null,
            "grid_template_columns": null,
            "grid_template_rows": null,
            "height": null,
            "justify_content": null,
            "justify_items": null,
            "left": null,
            "margin": null,
            "max_height": null,
            "max_width": null,
            "min_height": null,
            "min_width": null,
            "object_fit": null,
            "object_position": null,
            "order": null,
            "overflow": null,
            "overflow_x": null,
            "overflow_y": null,
            "padding": null,
            "right": null,
            "top": null,
            "visibility": null,
            "width": null
          }
        },
        "089cf5aa7e0041f7a89257a4eef11da9": {
          "model_module": "@jupyter-widgets/controls",
          "model_name": "DescriptionStyleModel",
          "model_module_version": "1.5.0",
          "state": {
            "_model_module": "@jupyter-widgets/controls",
            "_model_module_version": "1.5.0",
            "_model_name": "DescriptionStyleModel",
            "_view_count": null,
            "_view_module": "@jupyter-widgets/base",
            "_view_module_version": "1.2.0",
            "_view_name": "StyleView",
            "description_width": ""
          }
        },
        "4bac679aac11443a865e10d0ed6f7cea": {
          "model_module": "@jupyter-widgets/controls",
          "model_name": "HBoxModel",
          "model_module_version": "1.5.0",
          "state": {
            "_dom_classes": [],
            "_model_module": "@jupyter-widgets/controls",
            "_model_module_version": "1.5.0",
            "_model_name": "HBoxModel",
            "_view_count": null,
            "_view_module": "@jupyter-widgets/controls",
            "_view_module_version": "1.5.0",
            "_view_name": "HBoxView",
            "box_style": "",
            "children": [
              "IPY_MODEL_e904285f577447e796e951ffb164ebd3",
              "IPY_MODEL_e0012f58c2cb41bc9ea454478b67bfe7",
              "IPY_MODEL_41ffd1da6f744704a4c5621875165ba1"
            ],
            "layout": "IPY_MODEL_071cea99c20f46128407126bd4fc9184"
          }
        },
        "e904285f577447e796e951ffb164ebd3": {
          "model_module": "@jupyter-widgets/controls",
          "model_name": "HTMLModel",
          "model_module_version": "1.5.0",
          "state": {
            "_dom_classes": [],
            "_model_module": "@jupyter-widgets/controls",
            "_model_module_version": "1.5.0",
            "_model_name": "HTMLModel",
            "_view_count": null,
            "_view_module": "@jupyter-widgets/controls",
            "_view_module_version": "1.5.0",
            "_view_name": "HTMLView",
            "description": "",
            "description_tooltip": null,
            "layout": "IPY_MODEL_37ee8152e8794c33a7c9c97ccac8135e",
            "placeholder": "​",
            "style": "IPY_MODEL_066ff2140a024aa4b17873eecbb65208",
            "value": "100%"
          }
        },
        "e0012f58c2cb41bc9ea454478b67bfe7": {
          "model_module": "@jupyter-widgets/controls",
          "model_name": "FloatProgressModel",
          "model_module_version": "1.5.0",
          "state": {
            "_dom_classes": [],
            "_model_module": "@jupyter-widgets/controls",
            "_model_module_version": "1.5.0",
            "_model_name": "FloatProgressModel",
            "_view_count": null,
            "_view_module": "@jupyter-widgets/controls",
            "_view_module_version": "1.5.0",
            "_view_name": "ProgressView",
            "bar_style": "success",
            "description": "",
            "description_tooltip": null,
            "layout": "IPY_MODEL_a49b5a0b35764bd0bfdd8ad94bf3d107",
            "max": 4542,
            "min": 0,
            "orientation": "horizontal",
            "style": "IPY_MODEL_ced0a64f3f044fcbb20d94becb34c542",
            "value": 4542
          }
        },
        "41ffd1da6f744704a4c5621875165ba1": {
          "model_module": "@jupyter-widgets/controls",
          "model_name": "HTMLModel",
          "model_module_version": "1.5.0",
          "state": {
            "_dom_classes": [],
            "_model_module": "@jupyter-widgets/controls",
            "_model_module_version": "1.5.0",
            "_model_name": "HTMLModel",
            "_view_count": null,
            "_view_module": "@jupyter-widgets/controls",
            "_view_module_version": "1.5.0",
            "_view_name": "HTMLView",
            "description": "",
            "description_tooltip": null,
            "layout": "IPY_MODEL_6bfe4b6f4990497f9ced80365d65814f",
            "placeholder": "​",
            "style": "IPY_MODEL_d99d02215c62424081cef3435c84689e",
            "value": " 4542/4542 [00:00&lt;00:00, 79732.68it/s]"
          }
        },
        "071cea99c20f46128407126bd4fc9184": {
          "model_module": "@jupyter-widgets/base",
          "model_name": "LayoutModel",
          "model_module_version": "1.2.0",
          "state": {
            "_model_module": "@jupyter-widgets/base",
            "_model_module_version": "1.2.0",
            "_model_name": "LayoutModel",
            "_view_count": null,
            "_view_module": "@jupyter-widgets/base",
            "_view_module_version": "1.2.0",
            "_view_name": "LayoutView",
            "align_content": null,
            "align_items": null,
            "align_self": null,
            "border": null,
            "bottom": null,
            "display": null,
            "flex": null,
            "flex_flow": null,
            "grid_area": null,
            "grid_auto_columns": null,
            "grid_auto_flow": null,
            "grid_auto_rows": null,
            "grid_column": null,
            "grid_gap": null,
            "grid_row": null,
            "grid_template_areas": null,
            "grid_template_columns": null,
            "grid_template_rows": null,
            "height": null,
            "justify_content": null,
            "justify_items": null,
            "left": null,
            "margin": null,
            "max_height": null,
            "max_width": null,
            "min_height": null,
            "min_width": null,
            "object_fit": null,
            "object_position": null,
            "order": null,
            "overflow": null,
            "overflow_x": null,
            "overflow_y": null,
            "padding": null,
            "right": null,
            "top": null,
            "visibility": null,
            "width": null
          }
        },
        "37ee8152e8794c33a7c9c97ccac8135e": {
          "model_module": "@jupyter-widgets/base",
          "model_name": "LayoutModel",
          "model_module_version": "1.2.0",
          "state": {
            "_model_module": "@jupyter-widgets/base",
            "_model_module_version": "1.2.0",
            "_model_name": "LayoutModel",
            "_view_count": null,
            "_view_module": "@jupyter-widgets/base",
            "_view_module_version": "1.2.0",
            "_view_name": "LayoutView",
            "align_content": null,
            "align_items": null,
            "align_self": null,
            "border": null,
            "bottom": null,
            "display": null,
            "flex": null,
            "flex_flow": null,
            "grid_area": null,
            "grid_auto_columns": null,
            "grid_auto_flow": null,
            "grid_auto_rows": null,
            "grid_column": null,
            "grid_gap": null,
            "grid_row": null,
            "grid_template_areas": null,
            "grid_template_columns": null,
            "grid_template_rows": null,
            "height": null,
            "justify_content": null,
            "justify_items": null,
            "left": null,
            "margin": null,
            "max_height": null,
            "max_width": null,
            "min_height": null,
            "min_width": null,
            "object_fit": null,
            "object_position": null,
            "order": null,
            "overflow": null,
            "overflow_x": null,
            "overflow_y": null,
            "padding": null,
            "right": null,
            "top": null,
            "visibility": null,
            "width": null
          }
        },
        "066ff2140a024aa4b17873eecbb65208": {
          "model_module": "@jupyter-widgets/controls",
          "model_name": "DescriptionStyleModel",
          "model_module_version": "1.5.0",
          "state": {
            "_model_module": "@jupyter-widgets/controls",
            "_model_module_version": "1.5.0",
            "_model_name": "DescriptionStyleModel",
            "_view_count": null,
            "_view_module": "@jupyter-widgets/base",
            "_view_module_version": "1.2.0",
            "_view_name": "StyleView",
            "description_width": ""
          }
        },
        "a49b5a0b35764bd0bfdd8ad94bf3d107": {
          "model_module": "@jupyter-widgets/base",
          "model_name": "LayoutModel",
          "model_module_version": "1.2.0",
          "state": {
            "_model_module": "@jupyter-widgets/base",
            "_model_module_version": "1.2.0",
            "_model_name": "LayoutModel",
            "_view_count": null,
            "_view_module": "@jupyter-widgets/base",
            "_view_module_version": "1.2.0",
            "_view_name": "LayoutView",
            "align_content": null,
            "align_items": null,
            "align_self": null,
            "border": null,
            "bottom": null,
            "display": null,
            "flex": null,
            "flex_flow": null,
            "grid_area": null,
            "grid_auto_columns": null,
            "grid_auto_flow": null,
            "grid_auto_rows": null,
            "grid_column": null,
            "grid_gap": null,
            "grid_row": null,
            "grid_template_areas": null,
            "grid_template_columns": null,
            "grid_template_rows": null,
            "height": null,
            "justify_content": null,
            "justify_items": null,
            "left": null,
            "margin": null,
            "max_height": null,
            "max_width": null,
            "min_height": null,
            "min_width": null,
            "object_fit": null,
            "object_position": null,
            "order": null,
            "overflow": null,
            "overflow_x": null,
            "overflow_y": null,
            "padding": null,
            "right": null,
            "top": null,
            "visibility": null,
            "width": null
          }
        },
        "ced0a64f3f044fcbb20d94becb34c542": {
          "model_module": "@jupyter-widgets/controls",
          "model_name": "ProgressStyleModel",
          "model_module_version": "1.5.0",
          "state": {
            "_model_module": "@jupyter-widgets/controls",
            "_model_module_version": "1.5.0",
            "_model_name": "ProgressStyleModel",
            "_view_count": null,
            "_view_module": "@jupyter-widgets/base",
            "_view_module_version": "1.2.0",
            "_view_name": "StyleView",
            "bar_color": null,
            "description_width": ""
          }
        },
        "6bfe4b6f4990497f9ced80365d65814f": {
          "model_module": "@jupyter-widgets/base",
          "model_name": "LayoutModel",
          "model_module_version": "1.2.0",
          "state": {
            "_model_module": "@jupyter-widgets/base",
            "_model_module_version": "1.2.0",
            "_model_name": "LayoutModel",
            "_view_count": null,
            "_view_module": "@jupyter-widgets/base",
            "_view_module_version": "1.2.0",
            "_view_name": "LayoutView",
            "align_content": null,
            "align_items": null,
            "align_self": null,
            "border": null,
            "bottom": null,
            "display": null,
            "flex": null,
            "flex_flow": null,
            "grid_area": null,
            "grid_auto_columns": null,
            "grid_auto_flow": null,
            "grid_auto_rows": null,
            "grid_column": null,
            "grid_gap": null,
            "grid_row": null,
            "grid_template_areas": null,
            "grid_template_columns": null,
            "grid_template_rows": null,
            "height": null,
            "justify_content": null,
            "justify_items": null,
            "left": null,
            "margin": null,
            "max_height": null,
            "max_width": null,
            "min_height": null,
            "min_width": null,
            "object_fit": null,
            "object_position": null,
            "order": null,
            "overflow": null,
            "overflow_x": null,
            "overflow_y": null,
            "padding": null,
            "right": null,
            "top": null,
            "visibility": null,
            "width": null
          }
        },
        "d99d02215c62424081cef3435c84689e": {
          "model_module": "@jupyter-widgets/controls",
          "model_name": "DescriptionStyleModel",
          "model_module_version": "1.5.0",
          "state": {
            "_model_module": "@jupyter-widgets/controls",
            "_model_module_version": "1.5.0",
            "_model_name": "DescriptionStyleModel",
            "_view_count": null,
            "_view_module": "@jupyter-widgets/base",
            "_view_module_version": "1.2.0",
            "_view_name": "StyleView",
            "description_width": ""
          }
        }
      }
    }
  },
  "cells": [
    {
      "cell_type": "markdown",
      "metadata": {
        "id": "view-in-github",
        "colab_type": "text"
      },
      "source": [
        "<a href=\"https://colab.research.google.com/github/cullinap/-liblcthw/blob/master/hw1.ipynb\" target=\"_parent\"><img src=\"https://colab.research.google.com/assets/colab-badge.svg\" alt=\"Open In Colab\"/></a>"
      ]
    },
    {
      "cell_type": "code",
      "execution_count": null,
      "metadata": {
        "id": "DYpz2OK44KQ8"
      },
      "outputs": [],
      "source": []
    },
    {
      "cell_type": "code",
      "execution_count": 1,
      "metadata": {
        "id": "9so-oN9YeTHU"
      },
      "outputs": [],
      "source": [
        "import torch\n",
        "from torch.autograd import Variable\n",
        "import torch.nn as nn\n",
        "import torch.nn.functional as F\n",
        "import torch.optim as optim\n",
        "import torchvision\n",
        "from torchvision import datasets  \n",
        "import torchvision.transforms as transforms\n",
        "from torch.utils.data import DataLoader, random_split\n",
        "\n",
        "import matplotlib.pyplot as plt\n",
        "import numpy as np\n",
        "from tqdm import tqdm\n",
        "from torch.cuda import is_available"
      ]
    },
    {
      "cell_type": "code",
      "source": [
        "transforms = transforms.Compose(\n",
        "    [ \n",
        "        transforms.ToTensor()\n",
        "    ]\n",
        ")"
      ],
      "metadata": {
        "id": "Lik7Oa6f4pf5"
      },
      "execution_count": 2,
      "outputs": []
    },
    {
      "cell_type": "code",
      "source": [
        "train = datasets.MNIST('', train = True, transform=transforms, download=True)\n",
        "test = datasets.MNIST('', train = False, transform=transforms, download=True)\n",
        "\n",
        "# split training set into 50k train set & 10k validation set\n",
        "train, valid = random_split(train, [50000, 10000])\n",
        "BATCH_SIZE = 100"
      ],
      "metadata": {
        "colab": {
          "base_uri": "https://localhost:8080/",
          "height": 423,
          "referenced_widgets": [
            "b932f4b1412a415bb5ada00bc12ec608",
            "97eac66ba8da497cb40b1669554106be",
            "138b2477a33d4a89926473fda403a370",
            "f84c92cf30144e6495ddd7340acad0a3",
            "fe41651604eb4d43b424148f083269a7",
            "5f07b6af75d14c8180d844369bc53ec7",
            "aff70f8c4b9f4c918ad1a1ecb861c526",
            "581a2988c6814718834cb4b9700e6803",
            "aadca3c6c6784fb9b3310e39e5fe8ae6",
            "015e5365dec943189d4f8c77b3af45d4",
            "88e2baa3f7854ce5b4b9193fed47b28e",
            "f10ad236c86240528f96b82084fc1d2f",
            "41b8b5bfd06e43f38909fba7a3113a3d",
            "ef634b448a934eccbfbc91d6e9b2e120",
            "47e3d675ad5e43cfba9e269d420d4105",
            "ed618b34664742e9a43fe774864bbebf",
            "bb2f45d98169451fb9d3246ea50ca055",
            "1d0ec56a0c8b4beebd34bb09fd0e4077",
            "cc322fad49f94584991b67204a21ea92",
            "4e62e39b49214ebeb3656211cec2845b",
            "7444f249a524461792ccc9570a4d9cbc",
            "1c53cf067e714c15983e5893af50d768",
            "9fe1494edb224b88af4eee006239dc34",
            "91450c887688476f90373fbc1be2d0fb",
            "38c731e73c1c486d83acfcb1055f5722",
            "fc94d0e3cd044e8cb4a9c684d8612428",
            "815da49987644f8d826923d17b744af3",
            "33179d61471144d4a5e6f3ebedfa929c",
            "c9621307471943bba2ab0c26a839d009",
            "c8a88b610f934556b464ce08cbf0671c",
            "e3aa109377f74be5a0322604862bf446",
            "2294a796d90e4337851913d1c6eb2118",
            "089cf5aa7e0041f7a89257a4eef11da9",
            "4bac679aac11443a865e10d0ed6f7cea",
            "e904285f577447e796e951ffb164ebd3",
            "e0012f58c2cb41bc9ea454478b67bfe7",
            "41ffd1da6f744704a4c5621875165ba1",
            "071cea99c20f46128407126bd4fc9184",
            "37ee8152e8794c33a7c9c97ccac8135e",
            "066ff2140a024aa4b17873eecbb65208",
            "a49b5a0b35764bd0bfdd8ad94bf3d107",
            "ced0a64f3f044fcbb20d94becb34c542",
            "6bfe4b6f4990497f9ced80365d65814f",
            "d99d02215c62424081cef3435c84689e"
          ]
        },
        "id": "y5lafkxs5Apb",
        "outputId": "378d4b45-d046-419c-8050-68ffd4963cc3"
      },
      "execution_count": 3,
      "outputs": [
        {
          "output_type": "stream",
          "name": "stdout",
          "text": [
            "Downloading http://yann.lecun.com/exdb/mnist/train-images-idx3-ubyte.gz\n",
            "Downloading http://yann.lecun.com/exdb/mnist/train-images-idx3-ubyte.gz to MNIST/raw/train-images-idx3-ubyte.gz\n"
          ]
        },
        {
          "output_type": "display_data",
          "data": {
            "text/plain": [
              "  0%|          | 0/9912422 [00:00<?, ?it/s]"
            ],
            "application/vnd.jupyter.widget-view+json": {
              "version_major": 2,
              "version_minor": 0,
              "model_id": "b932f4b1412a415bb5ada00bc12ec608"
            }
          },
          "metadata": {}
        },
        {
          "output_type": "stream",
          "name": "stdout",
          "text": [
            "Extracting MNIST/raw/train-images-idx3-ubyte.gz to MNIST/raw\n",
            "\n",
            "Downloading http://yann.lecun.com/exdb/mnist/train-labels-idx1-ubyte.gz\n",
            "Downloading http://yann.lecun.com/exdb/mnist/train-labels-idx1-ubyte.gz to MNIST/raw/train-labels-idx1-ubyte.gz\n"
          ]
        },
        {
          "output_type": "display_data",
          "data": {
            "text/plain": [
              "  0%|          | 0/28881 [00:00<?, ?it/s]"
            ],
            "application/vnd.jupyter.widget-view+json": {
              "version_major": 2,
              "version_minor": 0,
              "model_id": "f10ad236c86240528f96b82084fc1d2f"
            }
          },
          "metadata": {}
        },
        {
          "output_type": "stream",
          "name": "stdout",
          "text": [
            "Extracting MNIST/raw/train-labels-idx1-ubyte.gz to MNIST/raw\n",
            "\n",
            "Downloading http://yann.lecun.com/exdb/mnist/t10k-images-idx3-ubyte.gz\n",
            "Downloading http://yann.lecun.com/exdb/mnist/t10k-images-idx3-ubyte.gz to MNIST/raw/t10k-images-idx3-ubyte.gz\n"
          ]
        },
        {
          "output_type": "display_data",
          "data": {
            "text/plain": [
              "  0%|          | 0/1648877 [00:00<?, ?it/s]"
            ],
            "application/vnd.jupyter.widget-view+json": {
              "version_major": 2,
              "version_minor": 0,
              "model_id": "9fe1494edb224b88af4eee006239dc34"
            }
          },
          "metadata": {}
        },
        {
          "output_type": "stream",
          "name": "stdout",
          "text": [
            "Extracting MNIST/raw/t10k-images-idx3-ubyte.gz to MNIST/raw\n",
            "\n",
            "Downloading http://yann.lecun.com/exdb/mnist/t10k-labels-idx1-ubyte.gz\n",
            "Downloading http://yann.lecun.com/exdb/mnist/t10k-labels-idx1-ubyte.gz to MNIST/raw/t10k-labels-idx1-ubyte.gz\n"
          ]
        },
        {
          "output_type": "display_data",
          "data": {
            "text/plain": [
              "  0%|          | 0/4542 [00:00<?, ?it/s]"
            ],
            "application/vnd.jupyter.widget-view+json": {
              "version_major": 2,
              "version_minor": 0,
              "model_id": "4bac679aac11443a865e10d0ed6f7cea"
            }
          },
          "metadata": {}
        },
        {
          "output_type": "stream",
          "name": "stdout",
          "text": [
            "Extracting MNIST/raw/t10k-labels-idx1-ubyte.gz to MNIST/raw\n",
            "\n"
          ]
        }
      ]
    },
    {
      "cell_type": "code",
      "source": [
        "trainLoader = DataLoader(train, batch_size=BATCH_SIZE)\n",
        "validLoader = DataLoader(valid, batch_size=BATCH_SIZE)\n",
        "testLoader = DataLoader(test, batch_size=100)"
      ],
      "metadata": {
        "id": "LatpVqIP7vma"
      },
      "execution_count": 4,
      "outputs": []
    },
    {
      "cell_type": "code",
      "source": [
        "examples = enumerate(testLoader)\n",
        "batch_idx, (example_data, example_targets) = next(examples)\n",
        "example_data.shape"
      ],
      "metadata": {
        "colab": {
          "base_uri": "https://localhost:8080/",
          "height": 0
        },
        "id": "BdCSrHH1_L9x",
        "outputId": "2ee67303-3224-4d36-8d8c-3451a06e4981"
      },
      "execution_count": 5,
      "outputs": [
        {
          "output_type": "execute_result",
          "data": {
            "text/plain": [
              "torch.Size([100, 1, 28, 28])"
            ]
          },
          "metadata": {},
          "execution_count": 5
        }
      ]
    },
    {
      "cell_type": "code",
      "source": [
        "fig = plt.figure()\n",
        "for i in range(6):\n",
        "  plt.subplot(2,3,i+1)\n",
        "  plt.tight_layout()\n",
        "  plt.imshow(example_data[i][0], cmap='gray', interpolation='none')\n",
        "  plt.title(\"Ground Truth: {}\".format(example_targets[i]))\n",
        "  plt.xticks([])\n",
        "  plt.yticks([])\n",
        "fig"
      ],
      "metadata": {
        "colab": {
          "base_uri": "https://localhost:8080/",
          "height": 551
        },
        "id": "XOUI7KGV_iyw",
        "outputId": "6a158db7-bba0-40ce-8562-476e3f0e2269"
      },
      "execution_count": 6,
      "outputs": [
        {
          "output_type": "execute_result",
          "data": {
            "text/plain": [
              "<Figure size 432x288 with 6 Axes>"
            ],
            "image/png": "[encoded data removed]"
          },
          "metadata": {},
          "execution_count": 6
        },
        {
          "output_type": "display_data",
          "data": {
            "text/plain": [
              "<Figure size 432x288 with 6 Axes>"
            ],
            "image/png": "[encoded data removed]"
          },
          "metadata": {}
        }
      ]
    },
    {
      "cell_type": "code",
      "source": [
        "class SimpleNetwork(nn.Module):\n",
        "  def __init__(self):\n",
        "    super(SimpleNetwork, self).__init__()\n",
        "    self.layer1 = nn.Linear(784, 256)\n",
        "    self.layer2 = nn.Linear(256, 10)\n",
        "\n",
        "  def forward(self, x):\n",
        "    h_relu = F.relu(self.layer1(x.view(BATCH_SIZE, -1)))\n",
        "    y_pred = self.layer2(h_relu)\n",
        "    return y_pred\n",
        "\n",
        "\n",
        "class ThreeLayer(nn.Module):\n",
        "  def __init__(self):\n",
        "    super(ThreeLayer, self).__init__()\n",
        "    self.layer1 = nn.Linear(784, 500)\n",
        "    self.layer2 = nn.Linear(500, 10)\n",
        "\n",
        "  def forward(self, x):\n",
        "    h_relu = F.relu(self.layer1(x.view(BATCH_SIZE, -1)))\n",
        "    y_pred = self.layer2(h_relu)\n",
        "    return y_pred"
      ],
      "metadata": {
        "id": "NtLg5yo75XF9"
      },
      "execution_count": 7,
      "outputs": []
    },
    {
      "cell_type": "markdown",
      "source": [
        "Networks"
      ],
      "metadata": {
        "id": "DAk7tg85LhQn"
      }
    },
    {
      "cell_type": "code",
      "source": [
        "model = SimpleNetwork()\n",
        "\n",
        "if torch.cuda.is_available():\n",
        "    model = model.cuda()\n",
        "\n",
        "model"
      ],
      "metadata": {
        "colab": {
          "base_uri": "https://localhost:8080/",
          "height": 0
        },
        "id": "hzAk48bT6YfZ",
        "outputId": "845e69b5-b53f-44e8-8999-304f34036d3f"
      },
      "execution_count": 8,
      "outputs": [
        {
          "output_type": "execute_result",
          "data": {
            "text/plain": [
              "SimpleNetwork(\n",
              "  (layer1): Linear(in_features=784, out_features=256, bias=True)\n",
              "  (layer2): Linear(in_features=256, out_features=10, bias=True)\n",
              ")"
            ]
          },
          "metadata": {},
          "execution_count": 8
        }
      ]
    },
    {
      "cell_type": "code",
      "source": [
        "criterion = nn.CrossEntropyLoss()\n",
        "optimizer = torch.optim.SGD(model.parameters(), lr = 0.01)\n",
        "optimizerL2 = torch.optim.SGD(model.parameters(), lr=0.01, weight_decay=1e-5)"
      ],
      "metadata": {
        "id": "Es9PolJ16f_K"
      },
      "execution_count": 9,
      "outputs": []
    },
    {
      "cell_type": "markdown",
      "source": [
        "First attempt by just using a simple network with 10 epochs to check if the code is working and the data is in its proper form. Also this will allow me us to understand how a basic model will perform. "
      ],
      "metadata": {
        "id": "KwdTvbONc8IT"
      }
    },
    {
      "cell_type": "code",
      "source": [
        "# 50k in train set, batch_size = 100 50k/100 = 500 iterations\n",
        "n_epochs = 10\n",
        "\n",
        "epoch_loss_capture = []\n",
        "batch_loss_capture = []\n",
        "valid_loss_capture = []\n",
        "for e in range(n_epochs):\n",
        "  train_loss = 0.0\n",
        "\n",
        "  for data, labels in tqdm(trainLoader):\n",
        "    if torch.cuda.is_available():\n",
        "      data, labels = data.cuda(), labels.cuda()\n",
        "\n",
        "    optimizer.zero_grad()\n",
        "    target = model(data)\n",
        "    loss = criterion(target, labels)\n",
        "    loss.backward()\n",
        "    optimizer.step()\n",
        "    train_loss += loss.item()\n",
        "    batch_loss_capture.append(train_loss / BATCH_SIZE)\n",
        "\n",
        "  valid_loss = 0.0\n",
        "  model.eval()\n",
        "  for data, labels in validLoader:\n",
        "    if torch.cuda.is_available():\n",
        "            data, labels = data.cuda(), labels.cuda()\n",
        "         \n",
        "    # Forward Pass\n",
        "    target = model(data)\n",
        "    # Find the Loss\n",
        "    loss = criterion(target,labels)\n",
        "    # Calculate Loss\n",
        "    valid_loss += loss.item()\n",
        "  \n",
        "  epoch_loss_capture.append(train_loss / len(trainLoader))\n",
        "  valid_loss_capture.append(valid_loss / len(validLoader))\n",
        "  print(f'epoch {e+1} \\n Training Loss: {train_loss / len(trainLoader)}')\n",
        "  print(f'Epoch {e+1} \\n Validation Loss {valid_loss / len(validLoader)}')\n",
        "\n",
        "print('\\n')\n",
        "fig, (ax1, ax2) = plt.subplots(1, 2, sharey=True)\n",
        "fig.suptitle('Training Loss (batch) vs. Validation Loss (epoch)')\n",
        "ax1.plot(batch_loss_capture, color='blue')\n",
        "ax2.plot(valid_loss_capture, color='red')\n",
        "\n",
        "plt.show()"
      ],
      "metadata": {
        "colab": {
          "base_uri": "https://localhost:8080/",
          "height": 1197
        },
        "id": "UriB9wjN7e-v",
        "outputId": "8fcbf589-19c2-4cb8-c8dc-cf91dff2b95b"
      },
      "execution_count": 10,
      "outputs": [
        {
          "output_type": "stream",
          "name": "stderr",
          "text": [
            "100%|██████████| 500/500 [00:07<00:00, 65.71it/s]\n"
          ]
        },
        {
          "output_type": "stream",
          "name": "stdout",
          "text": [
            "epoch 1 \n",
            " Training Loss: 1.671081536412239\n",
            "Epoch 1 \n",
            " Validation Loss 0.9883960747718811\n"
          ]
        },
        {
          "output_type": "stream",
          "name": "stderr",
          "text": [
            "100%|██████████| 500/500 [00:05<00:00, 98.59it/s]\n"
          ]
        },
        {
          "output_type": "stream",
          "name": "stdout",
          "text": [
            "epoch 2 \n",
            " Training Loss: 0.7355099559426308\n",
            "Epoch 2 \n",
            " Validation Loss 0.5797502437233925\n"
          ]
        },
        {
          "output_type": "stream",
          "name": "stderr",
          "text": [
            "100%|██████████| 500/500 [00:07<00:00, 70.05it/s]\n"
          ]
        },
        {
          "output_type": "stream",
          "name": "stdout",
          "text": [
            "epoch 3 \n",
            " Training Loss: 0.5166770638823509\n",
            "Epoch 3 \n",
            " Validation Loss 0.4668006807565689\n"
          ]
        },
        {
          "output_type": "stream",
          "name": "stderr",
          "text": [
            "100%|██████████| 500/500 [00:09<00:00, 50.63it/s]\n"
          ]
        },
        {
          "output_type": "stream",
          "name": "stdout",
          "text": [
            "epoch 4 \n",
            " Training Loss: 0.437781942397356\n",
            "Epoch 4 \n",
            " Validation Loss 0.41499062210321425\n"
          ]
        },
        {
          "output_type": "stream",
          "name": "stderr",
          "text": [
            "100%|██████████| 500/500 [00:07<00:00, 70.26it/s]\n"
          ]
        },
        {
          "output_type": "stream",
          "name": "stdout",
          "text": [
            "epoch 5 \n",
            " Training Loss: 0.3963848594427109\n",
            "Epoch 5 \n",
            " Validation Loss 0.38491621375083923\n"
          ]
        },
        {
          "output_type": "stream",
          "name": "stderr",
          "text": [
            "100%|██████████| 500/500 [00:06<00:00, 81.79it/s]\n"
          ]
        },
        {
          "output_type": "stream",
          "name": "stdout",
          "text": [
            "epoch 6 \n",
            " Training Loss: 0.3701101755797863\n",
            "Epoch 6 \n",
            " Validation Loss 0.36475038409233096\n"
          ]
        },
        {
          "output_type": "stream",
          "name": "stderr",
          "text": [
            "100%|██████████| 500/500 [00:05<00:00, 85.91it/s]\n"
          ]
        },
        {
          "output_type": "stream",
          "name": "stdout",
          "text": [
            "epoch 7 \n",
            " Training Loss: 0.3513022500872612\n",
            "Epoch 7 \n",
            " Validation Loss 0.34983666375279426\n"
          ]
        },
        {
          "output_type": "stream",
          "name": "stderr",
          "text": [
            "100%|██████████| 500/500 [00:06<00:00, 73.04it/s]\n"
          ]
        },
        {
          "output_type": "stream",
          "name": "stdout",
          "text": [
            "epoch 8 \n",
            " Training Loss: 0.3367171828150749\n",
            "Epoch 8 \n",
            " Validation Loss 0.33801789581775665\n"
          ]
        },
        {
          "output_type": "stream",
          "name": "stderr",
          "text": [
            "100%|██████████| 500/500 [00:05<00:00, 90.03it/s]\n"
          ]
        },
        {
          "output_type": "stream",
          "name": "stdout",
          "text": [
            "epoch 9 \n",
            " Training Loss: 0.32474375987052917\n",
            "Epoch 9 \n",
            " Validation Loss 0.32815357491374014\n"
          ]
        },
        {
          "output_type": "stream",
          "name": "stderr",
          "text": [
            "100%|██████████| 500/500 [00:07<00:00, 65.34it/s]\n"
          ]
        },
        {
          "output_type": "stream",
          "name": "stdout",
          "text": [
            "epoch 10 \n",
            " Training Loss: 0.3144617519676685\n",
            "Epoch 10 \n",
            " Validation Loss 0.3196116304397583\n",
            "\n",
            "\n"
          ]
        },
        {
          "output_type": "display_data",
          "data": {
            "text/plain": [
              "<Figure size 432x288 with 2 Axes>"
            ],
            "image/png": "[encoded data removed]"
          },
          "metadata": {
            "needs_background": "light"
          }
        }
      ]
    },
    {
      "cell_type": "code",
      "source": [
        "plt.title('Training vs. Validation Loss Over Epochs')\n",
        "plt.plot(valid_loss_capture, color='red')\n",
        "plt.plot(epoch_loss_capture, color='blue')\n",
        "plt.show()"
      ],
      "metadata": {
        "colab": {
          "base_uri": "https://localhost:8080/",
          "height": 281
        },
        "id": "okldfbDrWV_T",
        "outputId": "764e2ac1-afa3-41e4-e724-634ede3e4323"
      },
      "execution_count": 11,
      "outputs": [
        {
          "output_type": "display_data",
          "data": {
            "text/plain": [
              "<Figure size 432x288 with 1 Axes>"
            ],
            "image/png": "[encoded data removed]"
          },
          "metadata": {
            "needs_background": "light"
          }
        }
      ]
    },
    {
      "cell_type": "code",
      "source": [
        "from sklearn.metrics import confusion_matrix\n",
        "import pandas as pd \n",
        "import numpy as np\n",
        "\n",
        "def predict_val(model_name, val_data):\n",
        "  model.eval()\n",
        "  y_pred, y_true = [], []\n",
        "  for i, (images, labels) in enumerate(val_data):\n",
        "    images = images.cuda() \n",
        "    x = model(images)\n",
        "    value, pred = torch.max(x, 1)\n",
        "    pred = pred.data.cpu()\n",
        "    y_pred.extend(list(pred.numpy()))\n",
        "    y_true.extend(list(labels.numpy()))\n",
        "  return np.array(y_pred), np.array(y_true)"
      ],
      "metadata": {
        "id": "8EpLmkUjGBCk"
      },
      "execution_count": 14,
      "outputs": []
    },
    {
      "cell_type": "code",
      "source": [
        "y_pred, y_true = predict_val(model, testLoader)"
      ],
      "metadata": {
        "id": "2SbhhQPNAv31"
      },
      "execution_count": 15,
      "outputs": []
    },
    {
      "cell_type": "code",
      "source": [
        "diffs = y_true - y_pred"
      ],
      "metadata": {
        "id": "c8xwacGmZdUm"
      },
      "execution_count": 16,
      "outputs": []
    },
    {
      "cell_type": "code",
      "source": [
        "100 - len([v for v in diffs if v != 0])/len(diffs)*100"
      ],
      "metadata": {
        "colab": {
          "base_uri": "https://localhost:8080/",
          "height": 0
        },
        "id": "8F3KgqG7ZgG9",
        "outputId": "d8a30907-074a-4812-d35a-72fb5d6f9094"
      },
      "execution_count": 17,
      "outputs": [
        {
          "output_type": "execute_result",
          "data": {
            "text/plain": [
              "91.68"
            ]
          },
          "metadata": {},
          "execution_count": 17
        }
      ]
    },
    {
      "cell_type": "code",
      "source": [
        "pd.DataFrame(confusion_matrix(y_true, y_pred, labels=np.arange(0, 10)))"
      ],
      "metadata": {
        "colab": {
          "base_uri": "https://localhost:8080/",
          "height": 363
        },
        "id": "2whEplUpI9Hg",
        "outputId": "73896b63-d9e5-49bd-e3d1-70873ada8f7a"
      },
      "execution_count": 18,
      "outputs": [
        {
          "output_type": "execute_result",
          "data": {
            "text/plain": [
              "     0     1    2    3    4    5    6    7    8    9\n",
              "0  957     0    3    2    1    2   11    1    3    0\n",
              "1    0  1107    2    2    0    1    4    1   18    0\n",
              "2   10     7  919   15   12    1   15   12   35    6\n",
              "3    4     1   22  906    0   30    2   14   20   11\n",
              "4    1     2    6    1  906    0   13    2    7   44\n",
              "5   12     3    6   41    9  760   17    7   29    8\n",
              "6   12     3    4    1   14   10  908    1    5    0\n",
              "7    3    11   29    4    8    0    0  941    2   30\n",
              "8    8     8    9   21    9   20   13    9  862   15\n",
              "9   11     7    4   11   41    9    1   17    6  902"
            ],
            "text/html": [
              "\n",
              "  <div id=\"df-e8d7768d-4fa0-46d9-88b3-0ed1f5d3cc9e\">\n",
              "    <div class=\"colab-df-container\">\n",
              "      <div>\n",
              "<style scoped>\n",
              "    .dataframe tbody tr th:only-of-type {\n",
              "        vertical-align: middle;\n",
              "    }\n",
              "\n",
              "    .dataframe tbody tr th {\n",
              "        vertical-align: top;\n",
              "    }\n",
              "\n",
              "    .dataframe thead th {\n",
              "        text-align: right;\n",
              "    }\n",
              "</style>\n",
              "<table border=\"1\" class=\"dataframe\">\n",
              "  <thead>\n",
              "    <tr style=\"text-align: right;\">\n",
              "      <th></th>\n",
              "      <th>0</th>\n",
              "      <th>1</th>\n",
              "      <th>2</th>\n",
              "      <th>3</th>\n",
              "      <th>4</th>\n",
              "      <th>5</th>\n",
              "      <th>6</th>\n",
              "      <th>7</th>\n",
              "      <th>8</th>\n",
              "      <th>9</th>\n",
              "    </tr>\n",
              "  </thead>\n",
              "  <tbody>\n",
              "    <tr>\n",
              "      <th>0</th>\n",
              "      <td>957</td>\n",
              "      <td>0</td>\n",
              "      <td>3</td>\n",
              "      <td>2</td>\n",
              "      <td>1</td>\n",
              "      <td>2</td>\n",
              "      <td>11</td>\n",
              "      <td>1</td>\n",
              "      <td>3</td>\n",
              "      <td>0</td>\n",
              "    </tr>\n",
              "    <tr>\n",
              "      <th>1</th>\n",
              "      <td>0</td>\n",
              "      <td>1107</td>\n",
              "      <td>2</td>\n",
              "      <td>2</td>\n",
              "      <td>0</td>\n",
              "      <td>1</td>\n",
              "      <td>4</td>\n",
              "      <td>1</td>\n",
              "      <td>18</td>\n",
              "      <td>0</td>\n",
              "    </tr>\n",
              "    <tr>\n",
              "      <th>2</th>\n",
              "      <td>10</td>\n",
              "      <td>7</td>\n",
              "      <td>919</td>\n",
              "      <td>15</td>\n",
              "      <td>12</td>\n",
              "      <td>1</td>\n",
              "      <td>15</td>\n",
              "      <td>12</td>\n",
              "      <td>35</td>\n",
              "      <td>6</td>\n",
              "    </tr>\n",
              "    <tr>\n",
              "      <th>3</th>\n",
              "      <td>4</td>\n",
              "      <td>1</td>\n",
              "      <td>22</td>\n",
              "      <td>906</td>\n",
              "      <td>0</td>\n",
              "      <td>30</td>\n",
              "      <td>2</td>\n",
              "      <td>14</td>\n",
              "      <td>20</td>\n",
              "      <td>11</td>\n",
              "    </tr>\n",
              "    <tr>\n",
              "      <th>4</th>\n",
              "      <td>1</td>\n",
              "      <td>2</td>\n",
              "      <td>6</td>\n",
              "      <td>1</td>\n",
              "      <td>906</td>\n",
              "      <td>0</td>\n",
              "      <td>13</td>\n",
              "      <td>2</td>\n",
              "      <td>7</td>\n",
              "      <td>44</td>\n",
              "    </tr>\n",
              "    <tr>\n",
              "      <th>5</th>\n",
              "      <td>12</td>\n",
              "      <td>3</td>\n",
              "      <td>6</td>\n",
              "      <td>41</td>\n",
              "      <td>9</td>\n",
              "      <td>760</td>\n",
              "      <td>17</td>\n",
              "      <td>7</td>\n",
              "      <td>29</td>\n",
              "      <td>8</td>\n",
              "    </tr>\n",
              "    <tr>\n",
              "      <th>6</th>\n",
              "      <td>12</td>\n",
              "      <td>3</td>\n",
              "      <td>4</td>\n",
              "      <td>1</td>\n",
              "      <td>14</td>\n",
              "      <td>10</td>\n",
              "      <td>908</td>\n",
              "      <td>1</td>\n",
              "      <td>5</td>\n",
              "      <td>0</td>\n",
              "    </tr>\n",
              "    <tr>\n",
              "      <th>7</th>\n",
              "      <td>3</td>\n",
              "      <td>11</td>\n",
              "      <td>29</td>\n",
              "      <td>4</td>\n",
              "      <td>8</td>\n",
              "      <td>0</td>\n",
              "      <td>0</td>\n",
              "      <td>941</td>\n",
              "      <td>2</td>\n",
              "      <td>30</td>\n",
              "    </tr>\n",
              "    <tr>\n",
              "      <th>8</th>\n",
              "      <td>8</td>\n",
              "      <td>8</td>\n",
              "      <td>9</td>\n",
              "      <td>21</td>\n",
              "      <td>9</td>\n",
              "      <td>20</td>\n",
              "      <td>13</td>\n",
              "      <td>9</td>\n",
              "      <td>862</td>\n",
              "      <td>15</td>\n",
              "    </tr>\n",
              "    <tr>\n",
              "      <th>9</th>\n",
              "      <td>11</td>\n",
              "      <td>7</td>\n",
              "      <td>4</td>\n",
              "      <td>11</td>\n",
              "      <td>41</td>\n",
              "      <td>9</td>\n",
              "      <td>1</td>\n",
              "      <td>17</td>\n",
              "      <td>6</td>\n",
              "      <td>902</td>\n",
              "    </tr>\n",
              "  </tbody>\n",
              "</table>\n",
              "</div>\n",
              "      <button class=\"colab-df-convert\" onclick=\"convertToInteractive('df-e8d7768d-4fa0-46d9-88b3-0ed1f5d3cc9e')\"\n",
              "              title=\"Convert this dataframe to an interactive table.\"\n",
              "              style=\"display:none;\">\n",
              "        \n",
              "  <svg xmlns=\"http://www.w3.org/2000/svg\" height=\"24px\"viewBox=\"0 0 24 24\"\n",
              "       width=\"24px\">\n",
              "    <path d=\"M0 0h24v24H0V0z\" fill=\"none\"/>\n",
              "    <path d=\"M18.56 5.44l.94 2.06.94-2.06 2.06-.94-2.06-.94-.94-2.06-.94 2.06-2.06.94zm-11 1L8.5 8.5l.94-2.06 2.06-.94-2.06-.94L8.5 2.5l-.94 2.06-2.06.94zm10 10l.94 2.06.94-2.06 2.06-.94-2.06-.94-.94-2.06-.94 2.06-2.06.94z\"/><path d=\"M17.41 7.96l-1.37-1.37c-.4-.4-.92-.59-1.43-.59-.52 0-1.04.2-1.43.59L10.3 9.45l-7.72 7.72c-.78.78-.78 2.05 0 2.83L4 21.41c.39.39.9.59 1.41.59.51 0 1.02-.2 1.41-.59l7.78-7.78 2.81-2.81c.8-.78.8-2.07 0-2.86zM5.41 20L4 18.59l7.72-7.72 1.47 1.35L5.41 20z\"/>\n",
              "  </svg>\n",
              "      </button>\n",
              "      \n",
              "  <style>\n",
              "    .colab-df-container {\n",
              "      display:flex;\n",
              "      flex-wrap:wrap;\n",
              "      gap: 12px;\n",
              "    }\n",
              "\n",
              "    .colab-df-convert {\n",
              "      background-color: #E8F0FE;\n",
              "      border: none;\n",
              "      border-radius: 50%;\n",
              "      cursor: pointer;\n",
              "      display: none;\n",
              "      fill: #1967D2;\n",
              "      height: 32px;\n",
              "      padding: 0 0 0 0;\n",
              "      width: 32px;\n",
              "    }\n",
              "\n",
              "    .colab-df-convert:hover {\n",
              "      background-color: #E2EBFA;\n",
              "      box-shadow: 0px 1px 2px rgba(60, 64, 67, 0.3), 0px 1px 3px 1px rgba(60, 64, 67, 0.15);\n",
              "      fill: #174EA6;\n",
              "    }\n",
              "\n",
              "    [theme=dark] .colab-df-convert {\n",
              "      background-color: #3B4455;\n",
              "      fill: #D2E3FC;\n",
              "    }\n",
              "\n",
              "    [theme=dark] .colab-df-convert:hover {\n",
              "      background-color: #434B5C;\n",
              "      box-shadow: 0px 1px 3px 1px rgba(0, 0, 0, 0.15);\n",
              "      filter: drop-shadow(0px 1px 2px rgba(0, 0, 0, 0.3));\n",
              "      fill: #FFFFFF;\n",
              "    }\n",
              "  </style>\n",
              "\n",
              "      <script>\n",
              "        const buttonEl =\n",
              "          document.querySelector('#df-e8d7768d-4fa0-46d9-88b3-0ed1f5d3cc9e button.colab-df-convert');\n",
              "        buttonEl.style.display =\n",
              "          google.colab.kernel.accessAllowed ? 'block' : 'none';\n",
              "\n",
              "        async function convertToInteractive(key) {\n",
              "          const element = document.querySelector('#df-e8d7768d-4fa0-46d9-88b3-0ed1f5d3cc9e');\n",
              "          const dataTable =\n",
              "            await google.colab.kernel.invokeFunction('convertToInteractive',\n",
              "                                                     [key], {});\n",
              "          if (!dataTable) return;\n",
              "\n",
              "          const docLinkHtml = 'Like what you see? Visit the ' +\n",
              "            '<a target=\"_blank\" href=https://colab.research.google.com/notebooks/data_table.ipynb>data table notebook</a>'\n",
              "            + ' to learn more about interactive tables.';\n",
              "          element.innerHTML = '';\n",
              "          dataTable['output_type'] = 'display_data';\n",
              "          await google.colab.output.renderOutput(dataTable, element);\n",
              "          const docLink = document.createElement('div');\n",
              "          docLink.innerHTML = docLinkHtml;\n",
              "          element.appendChild(docLink);\n",
              "        }\n",
              "      </script>\n",
              "    </div>\n",
              "  </div>\n",
              "  "
            ]
          },
          "metadata": {},
          "execution_count": 18
        }
      ]
    },
    {
      "cell_type": "markdown",
      "source": [
        "With 10 epochs we achieved an accuracy score of 91.68, and the confusion matrix (above) displays the ground truth on the X-axis and the model predictions on the y-axis. Where the numbers meet (diagonally across the middle) is where there is label & prediction agreement. Otherwise we can see where a prediction of \"0\" was made when if fact we had another number. "
      ],
      "metadata": {
        "id": "Xdksp6O7dXTv"
      }
    },
    {
      "cell_type": "code",
      "source": [
        "model = ThreeLayer()\n",
        "\n",
        "if torch.cuda.is_available():\n",
        "    model = model.cuda()\n",
        "\n",
        "optimizer = torch.optim.SGD(model.parameters(), lr = 0.01)"
      ],
      "metadata": {
        "id": "IRsx5cBgLIYL"
      },
      "execution_count": 41,
      "outputs": []
    },
    {
      "cell_type": "markdown",
      "source": [
        "Next we constructed a 3-layer model with two hiddens of 500 each and an output layer of 10"
      ],
      "metadata": {
        "id": "1RSYNApdeGJD"
      }
    },
    {
      "cell_type": "code",
      "source": [
        "# 50k in train set, batch_size = 100 50k/100 = 500 iterations\n",
        "\n",
        "n_epochs = 250\n",
        "print(f'using model {model} with optimizer {optimizer} and criterion {criterion} with {n_epochs} epochs\\n\\n')\n",
        "\n",
        "epoch_loss_capture = []\n",
        "batch_loss_capture = []\n",
        "valid_loss_capture = []\n",
        "for e in range(n_epochs):\n",
        "  train_loss = 0.0\n",
        "\n",
        "  for data, labels in tqdm(trainLoader):\n",
        "    if torch.cuda.is_available():\n",
        "      data, labels = data.cuda(), labels.cuda()\n",
        "\n",
        "    optimizer.zero_grad()\n",
        "    target = model(data)\n",
        "    loss = criterion(target, labels)\n",
        "    loss.backward()\n",
        "    optimizer.step()\n",
        "    train_loss += loss.item()\n",
        "    batch_loss_capture.append(train_loss / BATCH_SIZE)\n",
        "\n",
        "  valid_loss = 0.0\n",
        "  model.eval()\n",
        "  for data, labels in validLoader:\n",
        "    if torch.cuda.is_available():\n",
        "            data, labels = data.cuda(), labels.cuda()\n",
        "         \n",
        "    # Forward Pass\n",
        "    target = model(data)\n",
        "    # Find the Loss\n",
        "    loss = criterion(target,labels)\n",
        "    # Calculate Loss\n",
        "    valid_loss += loss.item()\n",
        "  \n",
        "  epoch_loss_capture.append(train_loss / len(trainLoader))\n",
        "  valid_loss_capture.append(valid_loss / len(validLoader))\n",
        "  print(f'epoch {e+1} \\n Training Loss: {train_loss / len(trainLoader)}')\n",
        "  print(f'Epoch {e+1} \\n Validation Loss {valid_loss / len(validLoader)}')\n",
        "\n",
        "print('\\n')\n",
        "fig, (ax1, ax2) = plt.subplots(1, 2, sharey=True)\n",
        "fig.suptitle('Training Loss (batch) vs. Validation Loss (epoch)')\n",
        "ax1.plot(batch_loss_capture, color='blue')\n",
        "ax2.plot(valid_loss_capture, color='red')\n",
        "\n",
        "plt.show()"
      ],
      "metadata": {
        "colab": {
          "base_uri": "https://localhost:8080/",
          "height": 22288
        },
        "id": "A2HpzLxbLt2M",
        "outputId": "4d878e97-3568-45ec-a37d-5ddefb562ccd"
      },
      "execution_count": 42,
      "outputs": [
        {
          "output_type": "stream",
          "name": "stdout",
          "text": [
            "using model ThreeLayer(\n",
            "  (layer1): Linear(in_features=784, out_features=500, bias=True)\n",
            "  (layer2): Linear(in_features=500, out_features=10, bias=True)\n",
            ") with optimizer SGD (\n",
            "Parameter Group 0\n",
            "    dampening: 0\n",
            "    foreach: None\n",
            "    lr: 0.01\n",
            "    maximize: False\n",
            "    momentum: 0\n",
            "    nesterov: False\n",
            "    weight_decay: 0\n",
            ") and criterion CrossEntropyLoss() with 250 epochs\n",
            "\n",
            "\n"
          ]
        },
        {
          "output_type": "stream",
          "name": "stderr",
          "text": [
            "100%|██████████| 500/500 [00:04<00:00, 104.49it/s]\n"
          ]
        },
        {
          "output_type": "stream",
          "name": "stdout",
          "text": [
            "epoch 1 \n",
            " Training Loss: 1.5852272018194198\n",
            "Epoch 1 \n",
            " Validation Loss 0.9140912878513336\n"
          ]
        },
        {
          "output_type": "stream",
          "name": "stderr",
          "text": [
            "100%|██████████| 500/500 [00:04<00:00, 106.59it/s]\n"
          ]
        },
        {
          "output_type": "stream",
          "name": "stdout",
          "text": [
            "epoch 2 \n",
            " Training Loss: 0.6939670362472534\n",
            "Epoch 2 \n",
            " Validation Loss 0.5556840738654136\n"
          ]
        },
        {
          "output_type": "stream",
          "name": "stderr",
          "text": [
            "100%|██████████| 500/500 [00:05<00:00, 92.05it/s]\n"
          ]
        },
        {
          "output_type": "stream",
          "name": "stdout",
          "text": [
            "epoch 3 \n",
            " Training Loss: 0.49839529913663866\n",
            "Epoch 3 \n",
            " Validation Loss 0.45263802230358124\n"
          ]
        },
        {
          "output_type": "stream",
          "name": "stderr",
          "text": [
            "100%|██████████| 500/500 [00:04<00:00, 103.41it/s]\n"
          ]
        },
        {
          "output_type": "stream",
          "name": "stdout",
          "text": [
            "epoch 4 \n",
            " Training Loss: 0.4254469205439091\n",
            "Epoch 4 \n",
            " Validation Loss 0.4041967737674713\n"
          ]
        },
        {
          "output_type": "stream",
          "name": "stderr",
          "text": [
            "100%|██████████| 500/500 [00:04<00:00, 103.82it/s]\n"
          ]
        },
        {
          "output_type": "stream",
          "name": "stdout",
          "text": [
            "epoch 5 \n",
            " Training Loss: 0.386321684718132\n",
            "Epoch 5 \n",
            " Validation Loss 0.37546387732028963\n"
          ]
        },
        {
          "output_type": "stream",
          "name": "stderr",
          "text": [
            "100%|██████████| 500/500 [00:04<00:00, 104.87it/s]\n"
          ]
        },
        {
          "output_type": "stream",
          "name": "stdout",
          "text": [
            "epoch 6 \n",
            " Training Loss: 0.36096503180265427\n",
            "Epoch 6 \n",
            " Validation Loss 0.3557623529434204\n"
          ]
        },
        {
          "output_type": "stream",
          "name": "stderr",
          "text": [
            "100%|██████████| 500/500 [00:04<00:00, 105.69it/s]\n"
          ]
        },
        {
          "output_type": "stream",
          "name": "stdout",
          "text": [
            "epoch 7 \n",
            " Training Loss: 0.34244265300035476\n",
            "Epoch 7 \n",
            " Validation Loss 0.3408714459836483\n"
          ]
        },
        {
          "output_type": "stream",
          "name": "stderr",
          "text": [
            "100%|██████████| 500/500 [00:04<00:00, 104.22it/s]\n"
          ]
        },
        {
          "output_type": "stream",
          "name": "stdout",
          "text": [
            "epoch 8 \n",
            " Training Loss: 0.327792017608881\n",
            "Epoch 8 \n",
            " Validation Loss 0.32887177854776384\n"
          ]
        },
        {
          "output_type": "stream",
          "name": "stderr",
          "text": [
            "100%|██████████| 500/500 [00:04<00:00, 102.34it/s]\n"
          ]
        },
        {
          "output_type": "stream",
          "name": "stdout",
          "text": [
            "epoch 9 \n",
            " Training Loss: 0.3155657318532467\n",
            "Epoch 9 \n",
            " Validation Loss 0.31870375260710715\n"
          ]
        },
        {
          "output_type": "stream",
          "name": "stderr",
          "text": [
            "100%|██████████| 500/500 [00:04<00:00, 105.08it/s]\n"
          ]
        },
        {
          "output_type": "stream",
          "name": "stdout",
          "text": [
            "epoch 10 \n",
            " Training Loss: 0.30495944944024084\n",
            "Epoch 10 \n",
            " Validation Loss 0.3097828744351864\n"
          ]
        },
        {
          "output_type": "stream",
          "name": "stderr",
          "text": [
            "100%|██████████| 500/500 [00:04<00:00, 106.04it/s]\n"
          ]
        },
        {
          "output_type": "stream",
          "name": "stdout",
          "text": [
            "epoch 11 \n",
            " Training Loss: 0.295507319688797\n",
            "Epoch 11 \n",
            " Validation Loss 0.3017974779009819\n"
          ]
        },
        {
          "output_type": "stream",
          "name": "stderr",
          "text": [
            "100%|██████████| 500/500 [00:04<00:00, 104.80it/s]\n"
          ]
        },
        {
          "output_type": "stream",
          "name": "stdout",
          "text": [
            "epoch 12 \n",
            " Training Loss: 0.28695328678190707\n",
            "Epoch 12 \n",
            " Validation Loss 0.2945470631122589\n"
          ]
        },
        {
          "output_type": "stream",
          "name": "stderr",
          "text": [
            "100%|██████████| 500/500 [00:04<00:00, 107.25it/s]\n"
          ]
        },
        {
          "output_type": "stream",
          "name": "stdout",
          "text": [
            "epoch 13 \n",
            " Training Loss: 0.27909213362634183\n",
            "Epoch 13 \n",
            " Validation Loss 0.2878443779051304\n"
          ]
        },
        {
          "output_type": "stream",
          "name": "stderr",
          "text": [
            "100%|██████████| 500/500 [00:04<00:00, 105.23it/s]\n"
          ]
        },
        {
          "output_type": "stream",
          "name": "stdout",
          "text": [
            "epoch 14 \n",
            " Training Loss: 0.2717940301299095\n",
            "Epoch 14 \n",
            " Validation Loss 0.2816075944900513\n"
          ]
        },
        {
          "output_type": "stream",
          "name": "stderr",
          "text": [
            "100%|██████████| 500/500 [00:04<00:00, 104.41it/s]\n"
          ]
        },
        {
          "output_type": "stream",
          "name": "stdout",
          "text": [
            "epoch 15 \n",
            " Training Loss: 0.2649660564661026\n",
            "Epoch 15 \n",
            " Validation Loss 0.27575253024697305\n"
          ]
        },
        {
          "output_type": "stream",
          "name": "stderr",
          "text": [
            "100%|██████████| 500/500 [00:04<00:00, 105.07it/s]\n"
          ]
        },
        {
          "output_type": "stream",
          "name": "stdout",
          "text": [
            "epoch 16 \n",
            " Training Loss: 0.2585323597341776\n",
            "Epoch 16 \n",
            " Validation Loss 0.27018935680389405\n"
          ]
        },
        {
          "output_type": "stream",
          "name": "stderr",
          "text": [
            "100%|██████████| 500/500 [00:04<00:00, 105.68it/s]\n"
          ]
        },
        {
          "output_type": "stream",
          "name": "stdout",
          "text": [
            "epoch 17 \n",
            " Training Loss: 0.2524369774311781\n",
            "Epoch 17 \n",
            " Validation Loss 0.2648885008692741\n"
          ]
        },
        {
          "output_type": "stream",
          "name": "stderr",
          "text": [
            "100%|██████████| 500/500 [00:04<00:00, 105.50it/s]\n"
          ]
        },
        {
          "output_type": "stream",
          "name": "stdout",
          "text": [
            "epoch 18 \n",
            " Training Loss: 0.24664137847721576\n",
            "Epoch 18 \n",
            " Validation Loss 0.2598511487990618\n"
          ]
        },
        {
          "output_type": "stream",
          "name": "stderr",
          "text": [
            "100%|██████████| 500/500 [00:04<00:00, 104.38it/s]\n"
          ]
        },
        {
          "output_type": "stream",
          "name": "stdout",
          "text": [
            "epoch 19 \n",
            " Training Loss: 0.24112201979756356\n",
            "Epoch 19 \n",
            " Validation Loss 0.25502891160547736\n"
          ]
        },
        {
          "output_type": "stream",
          "name": "stderr",
          "text": [
            "100%|██████████| 500/500 [00:04<00:00, 102.98it/s]\n"
          ]
        },
        {
          "output_type": "stream",
          "name": "stdout",
          "text": [
            "epoch 20 \n",
            " Training Loss: 0.23585817880928517\n",
            "Epoch 20 \n",
            " Validation Loss 0.2504187586158514\n"
          ]
        },
        {
          "output_type": "stream",
          "name": "stderr",
          "text": [
            "100%|██████████| 500/500 [00:04<00:00, 104.56it/s]\n"
          ]
        },
        {
          "output_type": "stream",
          "name": "stdout",
          "text": [
            "epoch 21 \n",
            " Training Loss: 0.23082957054674624\n",
            "Epoch 21 \n",
            " Validation Loss 0.24601235575973987\n"
          ]
        },
        {
          "output_type": "stream",
          "name": "stderr",
          "text": [
            "100%|██████████| 500/500 [00:04<00:00, 105.11it/s]\n"
          ]
        },
        {
          "output_type": "stream",
          "name": "stdout",
          "text": [
            "epoch 22 \n",
            " Training Loss: 0.22601428440213203\n",
            "Epoch 22 \n",
            " Validation Loss 0.24177231296896934\n"
          ]
        },
        {
          "output_type": "stream",
          "name": "stderr",
          "text": [
            "100%|██████████| 500/500 [00:04<00:00, 103.45it/s]\n"
          ]
        },
        {
          "output_type": "stream",
          "name": "stdout",
          "text": [
            "epoch 23 \n",
            " Training Loss: 0.22138826057314873\n",
            "Epoch 23 \n",
            " Validation Loss 0.23769471645355225\n"
          ]
        },
        {
          "output_type": "stream",
          "name": "stderr",
          "text": [
            "100%|██████████| 500/500 [00:04<00:00, 106.94it/s]\n"
          ]
        },
        {
          "output_type": "stream",
          "name": "stdout",
          "text": [
            "epoch 24 \n",
            " Training Loss: 0.2169405412375927\n",
            "Epoch 24 \n",
            " Validation Loss 0.23376218505203725\n"
          ]
        },
        {
          "output_type": "stream",
          "name": "stderr",
          "text": [
            "100%|██████████| 500/500 [00:04<00:00, 105.94it/s]\n"
          ]
        },
        {
          "output_type": "stream",
          "name": "stdout",
          "text": [
            "epoch 25 \n",
            " Training Loss: 0.21265792125463487\n",
            "Epoch 25 \n",
            " Validation Loss 0.22997090570628642\n"
          ]
        },
        {
          "output_type": "stream",
          "name": "stderr",
          "text": [
            "100%|██████████| 500/500 [00:05<00:00, 89.67it/s]\n"
          ]
        },
        {
          "output_type": "stream",
          "name": "stdout",
          "text": [
            "epoch 26 \n",
            " Training Loss: 0.20852762880921363\n",
            "Epoch 26 \n",
            " Validation Loss 0.22633458025753497\n"
          ]
        },
        {
          "output_type": "stream",
          "name": "stderr",
          "text": [
            "100%|██████████| 500/500 [00:04<00:00, 105.30it/s]\n"
          ]
        },
        {
          "output_type": "stream",
          "name": "stdout",
          "text": [
            "epoch 27 \n",
            " Training Loss: 0.2045464348345995\n",
            "Epoch 27 \n",
            " Validation Loss 0.22283384151756763\n"
          ]
        },
        {
          "output_type": "stream",
          "name": "stderr",
          "text": [
            "100%|██████████| 500/500 [00:04<00:00, 105.31it/s]\n"
          ]
        },
        {
          "output_type": "stream",
          "name": "stdout",
          "text": [
            "epoch 28 \n",
            " Training Loss: 0.20070469242334366\n",
            "Epoch 28 \n",
            " Validation Loss 0.2194582725316286\n"
          ]
        },
        {
          "output_type": "stream",
          "name": "stderr",
          "text": [
            "100%|██████████| 500/500 [00:04<00:00, 103.58it/s]\n"
          ]
        },
        {
          "output_type": "stream",
          "name": "stdout",
          "text": [
            "epoch 29 \n",
            " Training Loss: 0.19699394644796847\n",
            "Epoch 29 \n",
            " Validation Loss 0.21620531238615512\n"
          ]
        },
        {
          "output_type": "stream",
          "name": "stderr",
          "text": [
            "100%|██████████| 500/500 [00:04<00:00, 105.30it/s]\n"
          ]
        },
        {
          "output_type": "stream",
          "name": "stdout",
          "text": [
            "epoch 30 \n",
            " Training Loss: 0.19340494418889284\n",
            "Epoch 30 \n",
            " Validation Loss 0.21304838858544828\n"
          ]
        },
        {
          "output_type": "stream",
          "name": "stderr",
          "text": [
            "100%|██████████| 500/500 [00:04<00:00, 103.93it/s]\n"
          ]
        },
        {
          "output_type": "stream",
          "name": "stdout",
          "text": [
            "epoch 31 \n",
            " Training Loss: 0.18992865955084562\n",
            "Epoch 31 \n",
            " Validation Loss 0.2099822546541691\n"
          ]
        },
        {
          "output_type": "stream",
          "name": "stderr",
          "text": [
            "100%|██████████| 500/500 [00:04<00:00, 104.30it/s]\n"
          ]
        },
        {
          "output_type": "stream",
          "name": "stdout",
          "text": [
            "epoch 32 \n",
            " Training Loss: 0.1865553828626871\n",
            "Epoch 32 \n",
            " Validation Loss 0.2069913402199745\n"
          ]
        },
        {
          "output_type": "stream",
          "name": "stderr",
          "text": [
            "100%|██████████| 500/500 [00:04<00:00, 105.55it/s]\n"
          ]
        },
        {
          "output_type": "stream",
          "name": "stdout",
          "text": [
            "epoch 33 \n",
            " Training Loss: 0.1832911471799016\n",
            "Epoch 33 \n",
            " Validation Loss 0.20410388916730882\n"
          ]
        },
        {
          "output_type": "stream",
          "name": "stderr",
          "text": [
            "100%|██████████| 500/500 [00:04<00:00, 104.99it/s]\n"
          ]
        },
        {
          "output_type": "stream",
          "name": "stdout",
          "text": [
            "epoch 34 \n",
            " Training Loss: 0.18012173219025135\n",
            "Epoch 34 \n",
            " Validation Loss 0.20130458824336528\n"
          ]
        },
        {
          "output_type": "stream",
          "name": "stderr",
          "text": [
            "100%|██████████| 500/500 [00:04<00:00, 104.92it/s]\n"
          ]
        },
        {
          "output_type": "stream",
          "name": "stdout",
          "text": [
            "epoch 35 \n",
            " Training Loss: 0.17704016602784395\n",
            "Epoch 35 \n",
            " Validation Loss 0.19857691273093223\n"
          ]
        },
        {
          "output_type": "stream",
          "name": "stderr",
          "text": [
            "100%|██████████| 500/500 [00:04<00:00, 103.39it/s]\n"
          ]
        },
        {
          "output_type": "stream",
          "name": "stdout",
          "text": [
            "epoch 36 \n",
            " Training Loss: 0.17404523415863513\n",
            "Epoch 36 \n",
            " Validation Loss 0.19592443972826004\n"
          ]
        },
        {
          "output_type": "stream",
          "name": "stderr",
          "text": [
            "100%|██████████| 500/500 [00:04<00:00, 104.19it/s]\n"
          ]
        },
        {
          "output_type": "stream",
          "name": "stdout",
          "text": [
            "epoch 37 \n",
            " Training Loss: 0.17113645686209203\n",
            "Epoch 37 \n",
            " Validation Loss 0.19335815086960792\n"
          ]
        },
        {
          "output_type": "stream",
          "name": "stderr",
          "text": [
            "100%|██████████| 500/500 [00:04<00:00, 105.48it/s]\n"
          ]
        },
        {
          "output_type": "stream",
          "name": "stdout",
          "text": [
            "epoch 38 \n",
            " Training Loss: 0.16831834352016448\n",
            "Epoch 38 \n",
            " Validation Loss 0.19087031684815883\n"
          ]
        },
        {
          "output_type": "stream",
          "name": "stderr",
          "text": [
            "100%|██████████| 500/500 [00:04<00:00, 105.41it/s]\n"
          ]
        },
        {
          "output_type": "stream",
          "name": "stdout",
          "text": [
            "epoch 39 \n",
            " Training Loss: 0.16558462211489677\n",
            "Epoch 39 \n",
            " Validation Loss 0.18845230348408223\n"
          ]
        },
        {
          "output_type": "stream",
          "name": "stderr",
          "text": [
            "100%|██████████| 500/500 [00:04<00:00, 105.07it/s]\n"
          ]
        },
        {
          "output_type": "stream",
          "name": "stdout",
          "text": [
            "epoch 40 \n",
            " Training Loss: 0.16292430187761783\n",
            "Epoch 40 \n",
            " Validation Loss 0.18609298143535852\n"
          ]
        },
        {
          "output_type": "stream",
          "name": "stderr",
          "text": [
            "100%|██████████| 500/500 [00:04<00:00, 104.72it/s]\n"
          ]
        },
        {
          "output_type": "stream",
          "name": "stdout",
          "text": [
            "epoch 41 \n",
            " Training Loss: 0.1603401660695672\n",
            "Epoch 41 \n",
            " Validation Loss 0.18380312979221344\n"
          ]
        },
        {
          "output_type": "stream",
          "name": "stderr",
          "text": [
            "100%|██████████| 500/500 [00:04<00:00, 103.00it/s]\n"
          ]
        },
        {
          "output_type": "stream",
          "name": "stdout",
          "text": [
            "epoch 42 \n",
            " Training Loss: 0.15783380638808012\n",
            "Epoch 42 \n",
            " Validation Loss 0.18157984085381032\n"
          ]
        },
        {
          "output_type": "stream",
          "name": "stderr",
          "text": [
            "100%|██████████| 500/500 [00:04<00:00, 105.32it/s]\n"
          ]
        },
        {
          "output_type": "stream",
          "name": "stdout",
          "text": [
            "epoch 43 \n",
            " Training Loss: 0.15540007662028074\n",
            "Epoch 43 \n",
            " Validation Loss 0.17943137481808663\n"
          ]
        },
        {
          "output_type": "stream",
          "name": "stderr",
          "text": [
            "100%|██████████| 500/500 [00:04<00:00, 105.22it/s]\n"
          ]
        },
        {
          "output_type": "stream",
          "name": "stdout",
          "text": [
            "epoch 44 \n",
            " Training Loss: 0.15303499053418637\n",
            "Epoch 44 \n",
            " Validation Loss 0.1773396309837699\n"
          ]
        },
        {
          "output_type": "stream",
          "name": "stderr",
          "text": [
            "100%|██████████| 500/500 [00:04<00:00, 105.15it/s]\n"
          ]
        },
        {
          "output_type": "stream",
          "name": "stdout",
          "text": [
            "epoch 45 \n",
            " Training Loss: 0.1507335609793663\n",
            "Epoch 45 \n",
            " Validation Loss 0.17532694201916457\n"
          ]
        },
        {
          "output_type": "stream",
          "name": "stderr",
          "text": [
            "100%|██████████| 500/500 [00:04<00:00, 105.83it/s]\n"
          ]
        },
        {
          "output_type": "stream",
          "name": "stdout",
          "text": [
            "epoch 46 \n",
            " Training Loss: 0.1484965233951807\n",
            "Epoch 46 \n",
            " Validation Loss 0.1733701431751251\n"
          ]
        },
        {
          "output_type": "stream",
          "name": "stderr",
          "text": [
            "100%|██████████| 500/500 [00:04<00:00, 102.20it/s]\n"
          ]
        },
        {
          "output_type": "stream",
          "name": "stdout",
          "text": [
            "epoch 47 \n",
            " Training Loss: 0.14631654606759548\n",
            "Epoch 47 \n",
            " Validation Loss 0.17146859727799893\n"
          ]
        },
        {
          "output_type": "stream",
          "name": "stderr",
          "text": [
            "100%|██████████| 500/500 [00:04<00:00, 104.24it/s]\n"
          ]
        },
        {
          "output_type": "stream",
          "name": "stdout",
          "text": [
            "epoch 48 \n",
            " Training Loss: 0.14419417365640402\n",
            "Epoch 48 \n",
            " Validation Loss 0.1696228201687336\n"
          ]
        },
        {
          "output_type": "stream",
          "name": "stderr",
          "text": [
            "100%|██████████| 500/500 [00:05<00:00, 89.79it/s]\n"
          ]
        },
        {
          "output_type": "stream",
          "name": "stdout",
          "text": [
            "epoch 49 \n",
            " Training Loss: 0.1421255673840642\n",
            "Epoch 49 \n",
            " Validation Loss 0.1678358168900013\n"
          ]
        },
        {
          "output_type": "stream",
          "name": "stderr",
          "text": [
            "100%|██████████| 500/500 [00:04<00:00, 100.91it/s]\n"
          ]
        },
        {
          "output_type": "stream",
          "name": "stdout",
          "text": [
            "epoch 50 \n",
            " Training Loss: 0.1401065869256854\n",
            "Epoch 50 \n",
            " Validation Loss 0.16608948189765216\n"
          ]
        },
        {
          "output_type": "stream",
          "name": "stderr",
          "text": [
            "100%|██████████| 500/500 [00:04<00:00, 103.42it/s]\n"
          ]
        },
        {
          "output_type": "stream",
          "name": "stdout",
          "text": [
            "epoch 51 \n",
            " Training Loss: 0.13813490395992994\n",
            "Epoch 51 \n",
            " Validation Loss 0.16439320761710405\n"
          ]
        },
        {
          "output_type": "stream",
          "name": "stderr",
          "text": [
            "100%|██████████| 500/500 [00:04<00:00, 100.97it/s]\n"
          ]
        },
        {
          "output_type": "stream",
          "name": "stdout",
          "text": [
            "epoch 52 \n",
            " Training Loss: 0.1362123702764511\n",
            "Epoch 52 \n",
            " Validation Loss 0.16274504996836187\n"
          ]
        },
        {
          "output_type": "stream",
          "name": "stderr",
          "text": [
            "100%|██████████| 500/500 [00:04<00:00, 105.32it/s]\n"
          ]
        },
        {
          "output_type": "stream",
          "name": "stdout",
          "text": [
            "epoch 53 \n",
            " Training Loss: 0.13433298528194426\n",
            "Epoch 53 \n",
            " Validation Loss 0.16114033695310354\n"
          ]
        },
        {
          "output_type": "stream",
          "name": "stderr",
          "text": [
            "100%|██████████| 500/500 [00:04<00:00, 103.11it/s]\n"
          ]
        },
        {
          "output_type": "stream",
          "name": "stdout",
          "text": [
            "epoch 54 \n",
            " Training Loss: 0.13250153417885305\n",
            "Epoch 54 \n",
            " Validation Loss 0.1595797100290656\n"
          ]
        },
        {
          "output_type": "stream",
          "name": "stderr",
          "text": [
            "100%|██████████| 500/500 [00:04<00:00, 104.75it/s]\n"
          ]
        },
        {
          "output_type": "stream",
          "name": "stdout",
          "text": [
            "epoch 55 \n",
            " Training Loss: 0.1307107228934765\n",
            "Epoch 55 \n",
            " Validation Loss 0.15805001553148032\n"
          ]
        },
        {
          "output_type": "stream",
          "name": "stderr",
          "text": [
            "100%|██████████| 500/500 [00:04<00:00, 105.44it/s]\n"
          ]
        },
        {
          "output_type": "stream",
          "name": "stdout",
          "text": [
            "epoch 56 \n",
            " Training Loss: 0.1289613641947508\n",
            "Epoch 56 \n",
            " Validation Loss 0.15656438868492842\n"
          ]
        },
        {
          "output_type": "stream",
          "name": "stderr",
          "text": [
            "100%|██████████| 500/500 [00:04<00:00, 105.42it/s]\n"
          ]
        },
        {
          "output_type": "stream",
          "name": "stdout",
          "text": [
            "epoch 57 \n",
            " Training Loss: 0.12725317542999984\n",
            "Epoch 57 \n",
            " Validation Loss 0.15511501170694827\n"
          ]
        },
        {
          "output_type": "stream",
          "name": "stderr",
          "text": [
            "100%|██████████| 500/500 [00:04<00:00, 102.60it/s]\n"
          ]
        },
        {
          "output_type": "stream",
          "name": "stdout",
          "text": [
            "epoch 58 \n",
            " Training Loss: 0.12558326148986818\n",
            "Epoch 58 \n",
            " Validation Loss 0.1536966970562935\n"
          ]
        },
        {
          "output_type": "stream",
          "name": "stderr",
          "text": [
            "100%|██████████| 500/500 [00:04<00:00, 105.41it/s]\n"
          ]
        },
        {
          "output_type": "stream",
          "name": "stdout",
          "text": [
            "epoch 59 \n",
            " Training Loss: 0.12394886587560176\n",
            "Epoch 59 \n",
            " Validation Loss 0.15231646206229926\n"
          ]
        },
        {
          "output_type": "stream",
          "name": "stderr",
          "text": [
            "100%|██████████| 500/500 [00:04<00:00, 105.18it/s]\n"
          ]
        },
        {
          "output_type": "stream",
          "name": "stdout",
          "text": [
            "epoch 60 \n",
            " Training Loss: 0.12235150396823884\n",
            "Epoch 60 \n",
            " Validation Loss 0.15096916496753693\n"
          ]
        },
        {
          "output_type": "stream",
          "name": "stderr",
          "text": [
            "100%|██████████| 500/500 [00:04<00:00, 105.38it/s]\n"
          ]
        },
        {
          "output_type": "stream",
          "name": "stdout",
          "text": [
            "epoch 61 \n",
            " Training Loss: 0.12078991317003965\n",
            "Epoch 61 \n",
            " Validation Loss 0.1496534728631377\n"
          ]
        },
        {
          "output_type": "stream",
          "name": "stderr",
          "text": [
            "100%|██████████| 500/500 [00:04<00:00, 105.05it/s]\n"
          ]
        },
        {
          "output_type": "stream",
          "name": "stdout",
          "text": [
            "epoch 62 \n",
            " Training Loss: 0.11925991709530354\n",
            "Epoch 62 \n",
            " Validation Loss 0.1483596494048834\n"
          ]
        },
        {
          "output_type": "stream",
          "name": "stderr",
          "text": [
            "100%|██████████| 500/500 [00:04<00:00, 102.05it/s]\n"
          ]
        },
        {
          "output_type": "stream",
          "name": "stdout",
          "text": [
            "epoch 63 \n",
            " Training Loss: 0.11776524433493614\n",
            "Epoch 63 \n",
            " Validation Loss 0.14710788127034902\n"
          ]
        },
        {
          "output_type": "stream",
          "name": "stderr",
          "text": [
            "100%|██████████| 500/500 [00:04<00:00, 104.65it/s]\n"
          ]
        },
        {
          "output_type": "stream",
          "name": "stdout",
          "text": [
            "epoch 64 \n",
            " Training Loss: 0.11630434586852789\n",
            "Epoch 64 \n",
            " Validation Loss 0.14588335752487183\n"
          ]
        },
        {
          "output_type": "stream",
          "name": "stderr",
          "text": [
            "100%|██████████| 500/500 [00:04<00:00, 103.98it/s]\n"
          ]
        },
        {
          "output_type": "stream",
          "name": "stdout",
          "text": [
            "epoch 65 \n",
            " Training Loss: 0.11487318307161332\n",
            "Epoch 65 \n",
            " Validation Loss 0.14469254501163958\n"
          ]
        },
        {
          "output_type": "stream",
          "name": "stderr",
          "text": [
            "100%|██████████| 500/500 [00:04<00:00, 103.86it/s]\n"
          ]
        },
        {
          "output_type": "stream",
          "name": "stdout",
          "text": [
            "epoch 66 \n",
            " Training Loss: 0.11347211749106646\n",
            "Epoch 66 \n",
            " Validation Loss 0.14352492839097977\n"
          ]
        },
        {
          "output_type": "stream",
          "name": "stderr",
          "text": [
            "100%|██████████| 500/500 [00:04<00:00, 103.91it/s]\n"
          ]
        },
        {
          "output_type": "stream",
          "name": "stdout",
          "text": [
            "epoch 67 \n",
            " Training Loss: 0.112099958114326\n",
            "Epoch 67 \n",
            " Validation Loss 0.14237874191254377\n"
          ]
        },
        {
          "output_type": "stream",
          "name": "stderr",
          "text": [
            "100%|██████████| 500/500 [00:04<00:00, 104.70it/s]\n"
          ]
        },
        {
          "output_type": "stream",
          "name": "stdout",
          "text": [
            "epoch 68 \n",
            " Training Loss: 0.11075664641335607\n",
            "Epoch 68 \n",
            " Validation Loss 0.1412566550076008\n"
          ]
        },
        {
          "output_type": "stream",
          "name": "stderr",
          "text": [
            "100%|██████████| 500/500 [00:04<00:00, 103.50it/s]\n"
          ]
        },
        {
          "output_type": "stream",
          "name": "stdout",
          "text": [
            "epoch 69 \n",
            " Training Loss: 0.10943963165953756\n",
            "Epoch 69 \n",
            " Validation Loss 0.1401582183688879\n"
          ]
        },
        {
          "output_type": "stream",
          "name": "stderr",
          "text": [
            "100%|██████████| 500/500 [00:04<00:00, 105.08it/s]\n"
          ]
        },
        {
          "output_type": "stream",
          "name": "stdout",
          "text": [
            "epoch 70 \n",
            " Training Loss: 0.10814953515678644\n",
            "Epoch 70 \n",
            " Validation Loss 0.13908663913607597\n"
          ]
        },
        {
          "output_type": "stream",
          "name": "stderr",
          "text": [
            "100%|██████████| 500/500 [00:04<00:00, 105.26it/s]\n"
          ]
        },
        {
          "output_type": "stream",
          "name": "stdout",
          "text": [
            "epoch 71 \n",
            " Training Loss: 0.10688382269069552\n",
            "Epoch 71 \n",
            " Validation Loss 0.1380407888814807\n"
          ]
        },
        {
          "output_type": "stream",
          "name": "stderr",
          "text": [
            "100%|██████████| 500/500 [00:05<00:00, 89.67it/s]\n"
          ]
        },
        {
          "output_type": "stream",
          "name": "stdout",
          "text": [
            "epoch 72 \n",
            " Training Loss: 0.10564574436098337\n",
            "Epoch 72 \n",
            " Validation Loss 0.13701256662607192\n"
          ]
        },
        {
          "output_type": "stream",
          "name": "stderr",
          "text": [
            "100%|██████████| 500/500 [00:04<00:00, 104.69it/s]\n"
          ]
        },
        {
          "output_type": "stream",
          "name": "stdout",
          "text": [
            "epoch 73 \n",
            " Training Loss: 0.10443234824389219\n",
            "Epoch 73 \n",
            " Validation Loss 0.13601261977106333\n"
          ]
        },
        {
          "output_type": "stream",
          "name": "stderr",
          "text": [
            "100%|██████████| 500/500 [00:04<00:00, 101.72it/s]\n"
          ]
        },
        {
          "output_type": "stream",
          "name": "stdout",
          "text": [
            "epoch 74 \n",
            " Training Loss: 0.10324280600994826\n",
            "Epoch 74 \n",
            " Validation Loss 0.13503499895334245\n"
          ]
        },
        {
          "output_type": "stream",
          "name": "stderr",
          "text": [
            "100%|██████████| 500/500 [00:04<00:00, 101.26it/s]\n"
          ]
        },
        {
          "output_type": "stream",
          "name": "stdout",
          "text": [
            "epoch 75 \n",
            " Training Loss: 0.10207609575986862\n",
            "Epoch 75 \n",
            " Validation Loss 0.1340762795507908\n"
          ]
        },
        {
          "output_type": "stream",
          "name": "stderr",
          "text": [
            "100%|██████████| 500/500 [00:04<00:00, 104.53it/s]\n"
          ]
        },
        {
          "output_type": "stream",
          "name": "stdout",
          "text": [
            "epoch 76 \n",
            " Training Loss: 0.10092986429482699\n",
            "Epoch 76 \n",
            " Validation Loss 0.13313754234462977\n"
          ]
        },
        {
          "output_type": "stream",
          "name": "stderr",
          "text": [
            "100%|██████████| 500/500 [00:04<00:00, 104.36it/s]\n"
          ]
        },
        {
          "output_type": "stream",
          "name": "stdout",
          "text": [
            "epoch 77 \n",
            " Training Loss: 0.09980468904599547\n",
            "Epoch 77 \n",
            " Validation Loss 0.13220834262669087\n"
          ]
        },
        {
          "output_type": "stream",
          "name": "stderr",
          "text": [
            "100%|██████████| 500/500 [00:04<00:00, 104.77it/s]\n"
          ]
        },
        {
          "output_type": "stream",
          "name": "stdout",
          "text": [
            "epoch 78 \n",
            " Training Loss: 0.09870010926574468\n",
            "Epoch 78 \n",
            " Validation Loss 0.13129946671426296\n"
          ]
        },
        {
          "output_type": "stream",
          "name": "stderr",
          "text": [
            "100%|██████████| 500/500 [00:04<00:00, 102.59it/s]\n"
          ]
        },
        {
          "output_type": "stream",
          "name": "stdout",
          "text": [
            "epoch 79 \n",
            " Training Loss: 0.09761425259709358\n",
            "Epoch 79 \n",
            " Validation Loss 0.13041218105703592\n"
          ]
        },
        {
          "output_type": "stream",
          "name": "stderr",
          "text": [
            "100%|██████████| 500/500 [00:04<00:00, 103.09it/s]\n"
          ]
        },
        {
          "output_type": "stream",
          "name": "stdout",
          "text": [
            "epoch 80 \n",
            " Training Loss: 0.09654839733988047\n",
            "Epoch 80 \n",
            " Validation Loss 0.12954633658751846\n"
          ]
        },
        {
          "output_type": "stream",
          "name": "stderr",
          "text": [
            "100%|██████████| 500/500 [00:04<00:00, 105.30it/s]\n"
          ]
        },
        {
          "output_type": "stream",
          "name": "stdout",
          "text": [
            "epoch 81 \n",
            " Training Loss: 0.0955032814592123\n",
            "Epoch 81 \n",
            " Validation Loss 0.12869716746732593\n"
          ]
        },
        {
          "output_type": "stream",
          "name": "stderr",
          "text": [
            "100%|██████████| 500/500 [00:04<00:00, 104.70it/s]\n"
          ]
        },
        {
          "output_type": "stream",
          "name": "stdout",
          "text": [
            "epoch 82 \n",
            " Training Loss: 0.09447656493261457\n",
            "Epoch 82 \n",
            " Validation Loss 0.12786996887996793\n"
          ]
        },
        {
          "output_type": "stream",
          "name": "stderr",
          "text": [
            "100%|██████████| 500/500 [00:04<00:00, 105.57it/s]\n"
          ]
        },
        {
          "output_type": "stream",
          "name": "stdout",
          "text": [
            "epoch 83 \n",
            " Training Loss: 0.09346805170923471\n",
            "Epoch 83 \n",
            " Validation Loss 0.12705428345128894\n"
          ]
        },
        {
          "output_type": "stream",
          "name": "stderr",
          "text": [
            "100%|██████████| 500/500 [00:04<00:00, 105.22it/s]\n"
          ]
        },
        {
          "output_type": "stream",
          "name": "stdout",
          "text": [
            "epoch 84 \n",
            " Training Loss: 0.09247812578454613\n",
            "Epoch 84 \n",
            " Validation Loss 0.12625404968857765\n"
          ]
        },
        {
          "output_type": "stream",
          "name": "stderr",
          "text": [
            "100%|██████████| 500/500 [00:04<00:00, 103.22it/s]\n"
          ]
        },
        {
          "output_type": "stream",
          "name": "stdout",
          "text": [
            "epoch 85 \n",
            " Training Loss: 0.09150520526990294\n",
            "Epoch 85 \n",
            " Validation Loss 0.12547194626182318\n"
          ]
        },
        {
          "output_type": "stream",
          "name": "stderr",
          "text": [
            "100%|██████████| 500/500 [00:04<00:00, 104.69it/s]\n"
          ]
        },
        {
          "output_type": "stream",
          "name": "stdout",
          "text": [
            "epoch 86 \n",
            " Training Loss: 0.09055040473118424\n",
            "Epoch 86 \n",
            " Validation Loss 0.12469843957573175\n"
          ]
        },
        {
          "output_type": "stream",
          "name": "stderr",
          "text": [
            "100%|██████████| 500/500 [00:04<00:00, 105.28it/s]\n"
          ]
        },
        {
          "output_type": "stream",
          "name": "stdout",
          "text": [
            "epoch 87 \n",
            " Training Loss: 0.08961032814159989\n",
            "Epoch 87 \n",
            " Validation Loss 0.12394248191267251\n"
          ]
        },
        {
          "output_type": "stream",
          "name": "stderr",
          "text": [
            "100%|██████████| 500/500 [00:04<00:00, 104.57it/s]\n"
          ]
        },
        {
          "output_type": "stream",
          "name": "stdout",
          "text": [
            "epoch 88 \n",
            " Training Loss: 0.08868550549447536\n",
            "Epoch 88 \n",
            " Validation Loss 0.12320775644853711\n"
          ]
        },
        {
          "output_type": "stream",
          "name": "stderr",
          "text": [
            "100%|██████████| 500/500 [00:04<00:00, 104.27it/s]\n"
          ]
        },
        {
          "output_type": "stream",
          "name": "stdout",
          "text": [
            "epoch 89 \n",
            " Training Loss: 0.08777714212611318\n",
            "Epoch 89 \n",
            " Validation Loss 0.12248600464314223\n"
          ]
        },
        {
          "output_type": "stream",
          "name": "stderr",
          "text": [
            "100%|██████████| 500/500 [00:04<00:00, 102.69it/s]\n"
          ]
        },
        {
          "output_type": "stream",
          "name": "stdout",
          "text": [
            "epoch 90 \n",
            " Training Loss: 0.0868820887580514\n",
            "Epoch 90 \n",
            " Validation Loss 0.12177515216171741\n"
          ]
        },
        {
          "output_type": "stream",
          "name": "stderr",
          "text": [
            "100%|██████████| 500/500 [00:04<00:00, 105.52it/s]\n"
          ]
        },
        {
          "output_type": "stream",
          "name": "stdout",
          "text": [
            "epoch 91 \n",
            " Training Loss: 0.08600117987021803\n",
            "Epoch 91 \n",
            " Validation Loss 0.12107272217050195\n"
          ]
        },
        {
          "output_type": "stream",
          "name": "stderr",
          "text": [
            "100%|██████████| 500/500 [00:04<00:00, 104.77it/s]\n"
          ]
        },
        {
          "output_type": "stream",
          "name": "stdout",
          "text": [
            "epoch 92 \n",
            " Training Loss: 0.08513623691350222\n",
            "Epoch 92 \n",
            " Validation Loss 0.12037587122991682\n"
          ]
        },
        {
          "output_type": "stream",
          "name": "stderr",
          "text": [
            "100%|██████████| 500/500 [00:04<00:00, 103.17it/s]\n"
          ]
        },
        {
          "output_type": "stream",
          "name": "stdout",
          "text": [
            "epoch 93 \n",
            " Training Loss: 0.08428434323519468\n",
            "Epoch 93 \n",
            " Validation Loss 0.11970098666846753\n"
          ]
        },
        {
          "output_type": "stream",
          "name": "stderr",
          "text": [
            "100%|██████████| 500/500 [00:04<00:00, 103.50it/s]\n"
          ]
        },
        {
          "output_type": "stream",
          "name": "stdout",
          "text": [
            "epoch 94 \n",
            " Training Loss: 0.08344599203392863\n",
            "Epoch 94 \n",
            " Validation Loss 0.119034856967628\n"
          ]
        },
        {
          "output_type": "stream",
          "name": "stderr",
          "text": [
            "100%|██████████| 500/500 [00:05<00:00, 89.12it/s] \n"
          ]
        },
        {
          "output_type": "stream",
          "name": "stdout",
          "text": [
            "epoch 95 \n",
            " Training Loss: 0.08261977118998766\n",
            "Epoch 95 \n",
            " Validation Loss 0.11838344819843769\n"
          ]
        },
        {
          "output_type": "stream",
          "name": "stderr",
          "text": [
            "100%|██████████| 500/500 [00:04<00:00, 102.81it/s]\n"
          ]
        },
        {
          "output_type": "stream",
          "name": "stdout",
          "text": [
            "epoch 96 \n",
            " Training Loss: 0.08180901906266809\n",
            "Epoch 96 \n",
            " Validation Loss 0.11773950649425387\n"
          ]
        },
        {
          "output_type": "stream",
          "name": "stderr",
          "text": [
            "100%|██████████| 500/500 [00:04<00:00, 104.19it/s]\n"
          ]
        },
        {
          "output_type": "stream",
          "name": "stdout",
          "text": [
            "epoch 97 \n",
            " Training Loss: 0.08101025153324008\n",
            "Epoch 97 \n",
            " Validation Loss 0.11711338544264435\n"
          ]
        },
        {
          "output_type": "stream",
          "name": "stderr",
          "text": [
            "100%|██████████| 500/500 [00:04<00:00, 105.28it/s]\n"
          ]
        },
        {
          "output_type": "stream",
          "name": "stdout",
          "text": [
            "epoch 98 \n",
            " Training Loss: 0.08022298553958535\n",
            "Epoch 98 \n",
            " Validation Loss 0.11649399526417255\n"
          ]
        },
        {
          "output_type": "stream",
          "name": "stderr",
          "text": [
            "100%|██████████| 500/500 [00:04<00:00, 104.42it/s]\n"
          ]
        },
        {
          "output_type": "stream",
          "name": "stdout",
          "text": [
            "epoch 99 \n",
            " Training Loss: 0.07945022861659527\n",
            "Epoch 99 \n",
            " Validation Loss 0.11588897762820125\n"
          ]
        },
        {
          "output_type": "stream",
          "name": "stderr",
          "text": [
            "100%|██████████| 500/500 [00:04<00:00, 104.47it/s]\n"
          ]
        },
        {
          "output_type": "stream",
          "name": "stdout",
          "text": [
            "epoch 100 \n",
            " Training Loss: 0.078689130730927\n",
            "Epoch 100 \n",
            " Validation Loss 0.11529101150110364\n"
          ]
        },
        {
          "output_type": "stream",
          "name": "stderr",
          "text": [
            "100%|██████████| 500/500 [00:04<00:00, 101.66it/s]\n"
          ]
        },
        {
          "output_type": "stream",
          "name": "stdout",
          "text": [
            "epoch 101 \n",
            " Training Loss: 0.07793882071226835\n",
            "Epoch 101 \n",
            " Validation Loss 0.11471561558544635\n"
          ]
        },
        {
          "output_type": "stream",
          "name": "stderr",
          "text": [
            "100%|██████████| 500/500 [00:04<00:00, 101.29it/s]\n"
          ]
        },
        {
          "output_type": "stream",
          "name": "stdout",
          "text": [
            "epoch 102 \n",
            " Training Loss: 0.07720264178141951\n",
            "Epoch 102 \n",
            " Validation Loss 0.1141420261748135\n"
          ]
        },
        {
          "output_type": "stream",
          "name": "stderr",
          "text": [
            "100%|██████████| 500/500 [00:04<00:00, 102.55it/s]\n"
          ]
        },
        {
          "output_type": "stream",
          "name": "stdout",
          "text": [
            "epoch 103 \n",
            " Training Loss: 0.0764770891442895\n",
            "Epoch 103 \n",
            " Validation Loss 0.11358306700363756\n"
          ]
        },
        {
          "output_type": "stream",
          "name": "stderr",
          "text": [
            "100%|██████████| 500/500 [00:04<00:00, 102.72it/s]\n"
          ]
        },
        {
          "output_type": "stream",
          "name": "stdout",
          "text": [
            "epoch 104 \n",
            " Training Loss: 0.07576323003694416\n",
            "Epoch 104 \n",
            " Validation Loss 0.1130469325184822\n"
          ]
        },
        {
          "output_type": "stream",
          "name": "stderr",
          "text": [
            "100%|██████████| 500/500 [00:04<00:00, 103.02it/s]\n"
          ]
        },
        {
          "output_type": "stream",
          "name": "stdout",
          "text": [
            "epoch 105 \n",
            " Training Loss: 0.0750599865540862\n",
            "Epoch 105 \n",
            " Validation Loss 0.11251195356249809\n"
          ]
        },
        {
          "output_type": "stream",
          "name": "stderr",
          "text": [
            "100%|██████████| 500/500 [00:04<00:00, 102.40it/s]\n"
          ]
        },
        {
          "output_type": "stream",
          "name": "stdout",
          "text": [
            "epoch 106 \n",
            " Training Loss: 0.07436693751066924\n",
            "Epoch 106 \n",
            " Validation Loss 0.11198627348989248\n"
          ]
        },
        {
          "output_type": "stream",
          "name": "stderr",
          "text": [
            "100%|██████████| 500/500 [00:04<00:00, 104.07it/s]\n"
          ]
        },
        {
          "output_type": "stream",
          "name": "stdout",
          "text": [
            "epoch 107 \n",
            " Training Loss: 0.0736839859187603\n",
            "Epoch 107 \n",
            " Validation Loss 0.11147078167647123\n"
          ]
        },
        {
          "output_type": "stream",
          "name": "stderr",
          "text": [
            "100%|██████████| 500/500 [00:04<00:00, 103.01it/s]\n"
          ]
        },
        {
          "output_type": "stream",
          "name": "stdout",
          "text": [
            "epoch 108 \n",
            " Training Loss: 0.07301137502305209\n",
            "Epoch 108 \n",
            " Validation Loss 0.1109658844023943\n"
          ]
        },
        {
          "output_type": "stream",
          "name": "stderr",
          "text": [
            "100%|██████████| 500/500 [00:04<00:00, 104.06it/s]\n"
          ]
        },
        {
          "output_type": "stream",
          "name": "stdout",
          "text": [
            "epoch 109 \n",
            " Training Loss: 0.07234816715493798\n",
            "Epoch 109 \n",
            " Validation Loss 0.11047195190563798\n"
          ]
        },
        {
          "output_type": "stream",
          "name": "stderr",
          "text": [
            "100%|██████████| 500/500 [00:04<00:00, 104.27it/s]\n"
          ]
        },
        {
          "output_type": "stream",
          "name": "stdout",
          "text": [
            "epoch 110 \n",
            " Training Loss: 0.07169469296932221\n",
            "Epoch 110 \n",
            " Validation Loss 0.10998571855947376\n"
          ]
        },
        {
          "output_type": "stream",
          "name": "stderr",
          "text": [
            "100%|██████████| 500/500 [00:04<00:00, 103.63it/s]\n"
          ]
        },
        {
          "output_type": "stream",
          "name": "stdout",
          "text": [
            "epoch 111 \n",
            " Training Loss: 0.07105192293971777\n",
            "Epoch 111 \n",
            " Validation Loss 0.10951133714988828\n"
          ]
        },
        {
          "output_type": "stream",
          "name": "stderr",
          "text": [
            "100%|██████████| 500/500 [00:04<00:00, 102.55it/s]\n"
          ]
        },
        {
          "output_type": "stream",
          "name": "stdout",
          "text": [
            "epoch 112 \n",
            " Training Loss: 0.07041735616140067\n",
            "Epoch 112 \n",
            " Validation Loss 0.10903647415339947\n"
          ]
        },
        {
          "output_type": "stream",
          "name": "stderr",
          "text": [
            "100%|██████████| 500/500 [00:04<00:00, 104.64it/s]\n"
          ]
        },
        {
          "output_type": "stream",
          "name": "stdout",
          "text": [
            "epoch 113 \n",
            " Training Loss: 0.06979318982735276\n",
            "Epoch 113 \n",
            " Validation Loss 0.10858246415853501\n"
          ]
        },
        {
          "output_type": "stream",
          "name": "stderr",
          "text": [
            "100%|██████████| 500/500 [00:04<00:00, 104.25it/s]\n"
          ]
        },
        {
          "output_type": "stream",
          "name": "stdout",
          "text": [
            "epoch 114 \n",
            " Training Loss: 0.06917746986448765\n",
            "Epoch 114 \n",
            " Validation Loss 0.108135527651757\n"
          ]
        },
        {
          "output_type": "stream",
          "name": "stderr",
          "text": [
            "100%|██████████| 500/500 [00:04<00:00, 104.23it/s]\n"
          ]
        },
        {
          "output_type": "stream",
          "name": "stdout",
          "text": [
            "epoch 115 \n",
            " Training Loss: 0.068569391541183\n",
            "Epoch 115 \n",
            " Validation Loss 0.10768420740962029\n"
          ]
        },
        {
          "output_type": "stream",
          "name": "stderr",
          "text": [
            "100%|██████████| 500/500 [00:04<00:00, 103.77it/s]\n"
          ]
        },
        {
          "output_type": "stream",
          "name": "stdout",
          "text": [
            "epoch 116 \n",
            " Training Loss: 0.06797126395814121\n",
            "Epoch 116 \n",
            " Validation Loss 0.10725072572007775\n"
          ]
        },
        {
          "output_type": "stream",
          "name": "stderr",
          "text": [
            "100%|██████████| 500/500 [00:05<00:00, 97.28it/s]\n"
          ]
        },
        {
          "output_type": "stream",
          "name": "stdout",
          "text": [
            "epoch 117 \n",
            " Training Loss: 0.06737947001308203\n",
            "Epoch 117 \n",
            " Validation Loss 0.10682892948389053\n"
          ]
        },
        {
          "output_type": "stream",
          "name": "stderr",
          "text": [
            "100%|██████████| 500/500 [00:04<00:00, 101.22it/s]\n"
          ]
        },
        {
          "output_type": "stream",
          "name": "stdout",
          "text": [
            "epoch 118 \n",
            " Training Loss: 0.06679810594953596\n",
            "Epoch 118 \n",
            " Validation Loss 0.10640299661085009\n"
          ]
        },
        {
          "output_type": "stream",
          "name": "stderr",
          "text": [
            "100%|██████████| 500/500 [00:04<00:00, 104.34it/s]\n"
          ]
        },
        {
          "output_type": "stream",
          "name": "stdout",
          "text": [
            "epoch 119 \n",
            " Training Loss: 0.06622425149939955\n",
            "Epoch 119 \n",
            " Validation Loss 0.10599413000047207\n"
          ]
        },
        {
          "output_type": "stream",
          "name": "stderr",
          "text": [
            "100%|██████████| 500/500 [00:04<00:00, 103.42it/s]\n"
          ]
        },
        {
          "output_type": "stream",
          "name": "stdout",
          "text": [
            "epoch 120 \n",
            " Training Loss: 0.06565611821785569\n",
            "Epoch 120 \n",
            " Validation Loss 0.10558780521154404\n"
          ]
        },
        {
          "output_type": "stream",
          "name": "stderr",
          "text": [
            "100%|██████████| 500/500 [00:04<00:00, 103.79it/s]\n"
          ]
        },
        {
          "output_type": "stream",
          "name": "stdout",
          "text": [
            "epoch 121 \n",
            " Training Loss: 0.06509648810513317\n",
            "Epoch 121 \n",
            " Validation Loss 0.1051846499554813\n"
          ]
        },
        {
          "output_type": "stream",
          "name": "stderr",
          "text": [
            "100%|██████████| 500/500 [00:04<00:00, 103.02it/s]\n"
          ]
        },
        {
          "output_type": "stream",
          "name": "stdout",
          "text": [
            "epoch 122 \n",
            " Training Loss: 0.06454562888666987\n",
            "Epoch 122 \n",
            " Validation Loss 0.10479011431336403\n"
          ]
        },
        {
          "output_type": "stream",
          "name": "stderr",
          "text": [
            "100%|██████████| 500/500 [00:04<00:00, 102.89it/s]\n"
          ]
        },
        {
          "output_type": "stream",
          "name": "stdout",
          "text": [
            "epoch 123 \n",
            " Training Loss: 0.06400028669089079\n",
            "Epoch 123 \n",
            " Validation Loss 0.10441066207364201\n"
          ]
        },
        {
          "output_type": "stream",
          "name": "stderr",
          "text": [
            "100%|██████████| 500/500 [00:04<00:00, 101.68it/s]\n"
          ]
        },
        {
          "output_type": "stream",
          "name": "stdout",
          "text": [
            "epoch 124 \n",
            " Training Loss: 0.06346248406916857\n",
            "Epoch 124 \n",
            " Validation Loss 0.10402580987662077\n"
          ]
        },
        {
          "output_type": "stream",
          "name": "stderr",
          "text": [
            "100%|██████████| 500/500 [00:04<00:00, 103.32it/s]\n"
          ]
        },
        {
          "output_type": "stream",
          "name": "stdout",
          "text": [
            "epoch 125 \n",
            " Training Loss: 0.06293205728754402\n",
            "Epoch 125 \n",
            " Validation Loss 0.10365667562931775\n"
          ]
        },
        {
          "output_type": "stream",
          "name": "stderr",
          "text": [
            "100%|██████████| 500/500 [00:04<00:00, 102.07it/s]\n"
          ]
        },
        {
          "output_type": "stream",
          "name": "stdout",
          "text": [
            "epoch 126 \n",
            " Training Loss: 0.062409423191100356\n",
            "Epoch 126 \n",
            " Validation Loss 0.10328904630616308\n"
          ]
        },
        {
          "output_type": "stream",
          "name": "stderr",
          "text": [
            "100%|██████████| 500/500 [00:04<00:00, 103.36it/s]\n"
          ]
        },
        {
          "output_type": "stream",
          "name": "stdout",
          "text": [
            "epoch 127 \n",
            " Training Loss: 0.06189212485402822\n",
            "Epoch 127 \n",
            " Validation Loss 0.10292717557400465\n"
          ]
        },
        {
          "output_type": "stream",
          "name": "stderr",
          "text": [
            "100%|██████████| 500/500 [00:04<00:00, 100.12it/s]\n"
          ]
        },
        {
          "output_type": "stream",
          "name": "stdout",
          "text": [
            "epoch 128 \n",
            " Training Loss: 0.06138184750266373\n",
            "Epoch 128 \n",
            " Validation Loss 0.10257272316142917\n"
          ]
        },
        {
          "output_type": "stream",
          "name": "stderr",
          "text": [
            "100%|██████████| 500/500 [00:04<00:00, 103.24it/s]\n"
          ]
        },
        {
          "output_type": "stream",
          "name": "stdout",
          "text": [
            "epoch 129 \n",
            " Training Loss: 0.060877195885404946\n",
            "Epoch 129 \n",
            " Validation Loss 0.10222803669050336\n"
          ]
        },
        {
          "output_type": "stream",
          "name": "stderr",
          "text": [
            "100%|██████████| 500/500 [00:04<00:00, 101.97it/s]\n"
          ]
        },
        {
          "output_type": "stream",
          "name": "stdout",
          "text": [
            "epoch 130 \n",
            " Training Loss: 0.06037987771071494\n",
            "Epoch 130 \n",
            " Validation Loss 0.1018896514363587\n"
          ]
        },
        {
          "output_type": "stream",
          "name": "stderr",
          "text": [
            "100%|██████████| 500/500 [00:04<00:00, 102.90it/s]\n"
          ]
        },
        {
          "output_type": "stream",
          "name": "stdout",
          "text": [
            "epoch 131 \n",
            " Training Loss: 0.059887376856058834\n",
            "Epoch 131 \n",
            " Validation Loss 0.10155286747962236\n"
          ]
        },
        {
          "output_type": "stream",
          "name": "stderr",
          "text": [
            "100%|██████████| 500/500 [00:04<00:00, 103.54it/s]\n"
          ]
        },
        {
          "output_type": "stream",
          "name": "stdout",
          "text": [
            "epoch 132 \n",
            " Training Loss: 0.059402554228901866\n",
            "Epoch 132 \n",
            " Validation Loss 0.10122246930375695\n"
          ]
        },
        {
          "output_type": "stream",
          "name": "stderr",
          "text": [
            "100%|██████████| 500/500 [00:04<00:00, 101.57it/s]\n"
          ]
        },
        {
          "output_type": "stream",
          "name": "stdout",
          "text": [
            "epoch 133 \n",
            " Training Loss: 0.05892248909920454\n",
            "Epoch 133 \n",
            " Validation Loss 0.10089974349364639\n"
          ]
        },
        {
          "output_type": "stream",
          "name": "stderr",
          "text": [
            "100%|██████████| 500/500 [00:04<00:00, 103.66it/s]\n"
          ]
        },
        {
          "output_type": "stream",
          "name": "stdout",
          "text": [
            "epoch 134 \n",
            " Training Loss: 0.05845014181360603\n",
            "Epoch 134 \n",
            " Validation Loss 0.10057876532897353\n"
          ]
        },
        {
          "output_type": "stream",
          "name": "stderr",
          "text": [
            "100%|██████████| 500/500 [00:04<00:00, 102.80it/s]\n"
          ]
        },
        {
          "output_type": "stream",
          "name": "stdout",
          "text": [
            "epoch 135 \n",
            " Training Loss: 0.05798256152309477\n",
            "Epoch 135 \n",
            " Validation Loss 0.10027032466605305\n"
          ]
        },
        {
          "output_type": "stream",
          "name": "stderr",
          "text": [
            "100%|██████████| 500/500 [00:04<00:00, 102.18it/s]\n"
          ]
        },
        {
          "output_type": "stream",
          "name": "stdout",
          "text": [
            "epoch 136 \n",
            " Training Loss: 0.05752027725428343\n",
            "Epoch 136 \n",
            " Validation Loss 0.09995977899059653\n"
          ]
        },
        {
          "output_type": "stream",
          "name": "stderr",
          "text": [
            "100%|██████████| 500/500 [00:04<00:00, 102.12it/s]\n"
          ]
        },
        {
          "output_type": "stream",
          "name": "stdout",
          "text": [
            "epoch 137 \n",
            " Training Loss: 0.05706526176072657\n",
            "Epoch 137 \n",
            " Validation Loss 0.09966198910027742\n"
          ]
        },
        {
          "output_type": "stream",
          "name": "stderr",
          "text": [
            "100%|██████████| 500/500 [00:04<00:00, 102.73it/s]\n"
          ]
        },
        {
          "output_type": "stream",
          "name": "stdout",
          "text": [
            "epoch 138 \n",
            " Training Loss: 0.056614354338496924\n",
            "Epoch 138 \n",
            " Validation Loss 0.09935552809387445\n"
          ]
        },
        {
          "output_type": "stream",
          "name": "stderr",
          "text": [
            "100%|██████████| 500/500 [00:04<00:00, 104.13it/s]\n"
          ]
        },
        {
          "output_type": "stream",
          "name": "stdout",
          "text": [
            "epoch 139 \n",
            " Training Loss: 0.056169223910197616\n",
            "Epoch 139 \n",
            " Validation Loss 0.09907017569988966\n"
          ]
        },
        {
          "output_type": "stream",
          "name": "stderr",
          "text": [
            "100%|██████████| 500/500 [00:05<00:00, 90.81it/s] \n"
          ]
        },
        {
          "output_type": "stream",
          "name": "stdout",
          "text": [
            "epoch 140 \n",
            " Training Loss: 0.05572933520562947\n",
            "Epoch 140 \n",
            " Validation Loss 0.09878226324915886\n"
          ]
        },
        {
          "output_type": "stream",
          "name": "stderr",
          "text": [
            "100%|██████████| 500/500 [00:04<00:00, 104.03it/s]\n"
          ]
        },
        {
          "output_type": "stream",
          "name": "stdout",
          "text": [
            "epoch 141 \n",
            " Training Loss: 0.05529412889480591\n",
            "Epoch 141 \n",
            " Validation Loss 0.09849690120667219\n"
          ]
        },
        {
          "output_type": "stream",
          "name": "stderr",
          "text": [
            "100%|██████████| 500/500 [00:04<00:00, 103.35it/s]\n"
          ]
        },
        {
          "output_type": "stream",
          "name": "stdout",
          "text": [
            "epoch 142 \n",
            " Training Loss: 0.05486431014165282\n",
            "Epoch 142 \n",
            " Validation Loss 0.09821178430691362\n"
          ]
        },
        {
          "output_type": "stream",
          "name": "stderr",
          "text": [
            "100%|██████████| 500/500 [00:04<00:00, 104.38it/s]\n"
          ]
        },
        {
          "output_type": "stream",
          "name": "stdout",
          "text": [
            "epoch 143 \n",
            " Training Loss: 0.05443839612416923\n",
            "Epoch 143 \n",
            " Validation Loss 0.097946897726506\n"
          ]
        },
        {
          "output_type": "stream",
          "name": "stderr",
          "text": [
            "100%|██████████| 500/500 [00:04<00:00, 103.41it/s]\n"
          ]
        },
        {
          "output_type": "stream",
          "name": "stdout",
          "text": [
            "epoch 144 \n",
            " Training Loss: 0.054020173164084556\n",
            "Epoch 144 \n",
            " Validation Loss 0.0976689251884818\n"
          ]
        },
        {
          "output_type": "stream",
          "name": "stderr",
          "text": [
            "100%|██████████| 500/500 [00:04<00:00, 104.38it/s]\n"
          ]
        },
        {
          "output_type": "stream",
          "name": "stdout",
          "text": [
            "epoch 145 \n",
            " Training Loss: 0.053603275049477817\n",
            "Epoch 145 \n",
            " Validation Loss 0.09740124136209488\n"
          ]
        },
        {
          "output_type": "stream",
          "name": "stderr",
          "text": [
            "100%|██████████| 500/500 [00:04<00:00, 103.27it/s]\n"
          ]
        },
        {
          "output_type": "stream",
          "name": "stdout",
          "text": [
            "epoch 146 \n",
            " Training Loss: 0.05319367769546807\n",
            "Epoch 146 \n",
            " Validation Loss 0.09714128464460373\n"
          ]
        },
        {
          "output_type": "stream",
          "name": "stderr",
          "text": [
            "100%|██████████| 500/500 [00:04<00:00, 103.98it/s]\n"
          ]
        },
        {
          "output_type": "stream",
          "name": "stdout",
          "text": [
            "epoch 147 \n",
            " Training Loss: 0.05278691466338933\n",
            "Epoch 147 \n",
            " Validation Loss 0.09688523123040796\n"
          ]
        },
        {
          "output_type": "stream",
          "name": "stderr",
          "text": [
            "100%|██████████| 500/500 [00:04<00:00, 103.41it/s]\n"
          ]
        },
        {
          "output_type": "stream",
          "name": "stdout",
          "text": [
            "epoch 148 \n",
            " Training Loss: 0.05238667261041701\n",
            "Epoch 148 \n",
            " Validation Loss 0.09663035690784455\n"
          ]
        },
        {
          "output_type": "stream",
          "name": "stderr",
          "text": [
            "100%|██████████| 500/500 [00:04<00:00, 101.80it/s]\n"
          ]
        },
        {
          "output_type": "stream",
          "name": "stdout",
          "text": [
            "epoch 149 \n",
            " Training Loss: 0.051989227456972\n",
            "Epoch 149 \n",
            " Validation Loss 0.09639130920171737\n"
          ]
        },
        {
          "output_type": "stream",
          "name": "stderr",
          "text": [
            "100%|██████████| 500/500 [00:04<00:00, 102.62it/s]\n"
          ]
        },
        {
          "output_type": "stream",
          "name": "stdout",
          "text": [
            "epoch 150 \n",
            " Training Loss: 0.05159858146682381\n",
            "Epoch 150 \n",
            " Validation Loss 0.09614467810839415\n"
          ]
        },
        {
          "output_type": "stream",
          "name": "stderr",
          "text": [
            "100%|██████████| 500/500 [00:04<00:00, 103.65it/s]\n"
          ]
        },
        {
          "output_type": "stream",
          "name": "stdout",
          "text": [
            "epoch 151 \n",
            " Training Loss: 0.051211153404787185\n",
            "Epoch 151 \n",
            " Validation Loss 0.09590042905882001\n"
          ]
        },
        {
          "output_type": "stream",
          "name": "stderr",
          "text": [
            "100%|██████████| 500/500 [00:04<00:00, 104.32it/s]\n"
          ]
        },
        {
          "output_type": "stream",
          "name": "stdout",
          "text": [
            "epoch 152 \n",
            " Training Loss: 0.05082869696989655\n",
            "Epoch 152 \n",
            " Validation Loss 0.09566413944587111\n"
          ]
        },
        {
          "output_type": "stream",
          "name": "stderr",
          "text": [
            "100%|██████████| 500/500 [00:04<00:00, 103.98it/s]\n"
          ]
        },
        {
          "output_type": "stream",
          "name": "stdout",
          "text": [
            "epoch 153 \n",
            " Training Loss: 0.05044966983795166\n",
            "Epoch 153 \n",
            " Validation Loss 0.09543596951290965\n"
          ]
        },
        {
          "output_type": "stream",
          "name": "stderr",
          "text": [
            "100%|██████████| 500/500 [00:04<00:00, 101.90it/s]\n"
          ]
        },
        {
          "output_type": "stream",
          "name": "stdout",
          "text": [
            "epoch 154 \n",
            " Training Loss: 0.0500756407417357\n",
            "Epoch 154 \n",
            " Validation Loss 0.09519927507266403\n"
          ]
        },
        {
          "output_type": "stream",
          "name": "stderr",
          "text": [
            "100%|██████████| 500/500 [00:04<00:00, 103.98it/s]\n"
          ]
        },
        {
          "output_type": "stream",
          "name": "stdout",
          "text": [
            "epoch 155 \n",
            " Training Loss: 0.04970497900806367\n",
            "Epoch 155 \n",
            " Validation Loss 0.09497443409636616\n"
          ]
        },
        {
          "output_type": "stream",
          "name": "stderr",
          "text": [
            "100%|██████████| 500/500 [00:04<00:00, 105.38it/s]\n"
          ]
        },
        {
          "output_type": "stream",
          "name": "stdout",
          "text": [
            "epoch 156 \n",
            " Training Loss: 0.049338853722438215\n",
            "Epoch 156 \n",
            " Validation Loss 0.09475391561165453\n"
          ]
        },
        {
          "output_type": "stream",
          "name": "stderr",
          "text": [
            "100%|██████████| 500/500 [00:04<00:00, 102.13it/s]\n"
          ]
        },
        {
          "output_type": "stream",
          "name": "stdout",
          "text": [
            "epoch 157 \n",
            " Training Loss: 0.048975171132013204\n",
            "Epoch 157 \n",
            " Validation Loss 0.09453731724992394\n"
          ]
        },
        {
          "output_type": "stream",
          "name": "stderr",
          "text": [
            "100%|██████████| 500/500 [00:04<00:00, 101.37it/s]\n"
          ]
        },
        {
          "output_type": "stream",
          "name": "stdout",
          "text": [
            "epoch 158 \n",
            " Training Loss: 0.04861696142144501\n",
            "Epoch 158 \n",
            " Validation Loss 0.09430964352563023\n"
          ]
        },
        {
          "output_type": "stream",
          "name": "stderr",
          "text": [
            "100%|██████████| 500/500 [00:04<00:00, 100.21it/s]\n"
          ]
        },
        {
          "output_type": "stream",
          "name": "stdout",
          "text": [
            "epoch 159 \n",
            " Training Loss: 0.04826132160238922\n",
            "Epoch 159 \n",
            " Validation Loss 0.0941017585620284\n"
          ]
        },
        {
          "output_type": "stream",
          "name": "stderr",
          "text": [
            "100%|██████████| 500/500 [00:04<00:00, 102.61it/s]\n"
          ]
        },
        {
          "output_type": "stream",
          "name": "stdout",
          "text": [
            "epoch 160 \n",
            " Training Loss: 0.04791053755581379\n",
            "Epoch 160 \n",
            " Validation Loss 0.09388651752844453\n"
          ]
        },
        {
          "output_type": "stream",
          "name": "stderr",
          "text": [
            "100%|██████████| 500/500 [00:04<00:00, 104.14it/s]\n"
          ]
        },
        {
          "output_type": "stream",
          "name": "stdout",
          "text": [
            "epoch 161 \n",
            " Training Loss: 0.04756193401478231\n",
            "Epoch 161 \n",
            " Validation Loss 0.09368763605132699\n"
          ]
        },
        {
          "output_type": "stream",
          "name": "stderr",
          "text": [
            "100%|██████████| 500/500 [00:05<00:00, 96.38it/s]\n"
          ]
        },
        {
          "output_type": "stream",
          "name": "stdout",
          "text": [
            "epoch 162 \n",
            " Training Loss: 0.047218348402529954\n",
            "Epoch 162 \n",
            " Validation Loss 0.09347608648240566\n"
          ]
        },
        {
          "output_type": "stream",
          "name": "stderr",
          "text": [
            "100%|██████████| 500/500 [00:04<00:00, 102.11it/s]\n"
          ]
        },
        {
          "output_type": "stream",
          "name": "stdout",
          "text": [
            "epoch 163 \n",
            " Training Loss: 0.046875317804515364\n",
            "Epoch 163 \n",
            " Validation Loss 0.09327484356239438\n"
          ]
        },
        {
          "output_type": "stream",
          "name": "stderr",
          "text": [
            "100%|██████████| 500/500 [00:04<00:00, 102.46it/s]\n"
          ]
        },
        {
          "output_type": "stream",
          "name": "stdout",
          "text": [
            "epoch 164 \n",
            " Training Loss: 0.04653879801370203\n",
            "Epoch 164 \n",
            " Validation Loss 0.093070556987077\n"
          ]
        },
        {
          "output_type": "stream",
          "name": "stderr",
          "text": [
            "100%|██████████| 500/500 [00:04<00:00, 100.98it/s]\n"
          ]
        },
        {
          "output_type": "stream",
          "name": "stdout",
          "text": [
            "epoch 165 \n",
            " Training Loss: 0.04620335033442825\n",
            "Epoch 165 \n",
            " Validation Loss 0.09287148520350456\n"
          ]
        },
        {
          "output_type": "stream",
          "name": "stderr",
          "text": [
            "100%|██████████| 500/500 [00:04<00:00, 102.97it/s]\n"
          ]
        },
        {
          "output_type": "stream",
          "name": "stdout",
          "text": [
            "epoch 166 \n",
            " Training Loss: 0.0458738702069968\n",
            "Epoch 166 \n",
            " Validation Loss 0.09267744099721313\n"
          ]
        },
        {
          "output_type": "stream",
          "name": "stderr",
          "text": [
            "100%|██████████| 500/500 [00:04<00:00, 103.70it/s]\n"
          ]
        },
        {
          "output_type": "stream",
          "name": "stdout",
          "text": [
            "epoch 167 \n",
            " Training Loss: 0.04554603837057948\n",
            "Epoch 167 \n",
            " Validation Loss 0.09248545018956066\n"
          ]
        },
        {
          "output_type": "stream",
          "name": "stderr",
          "text": [
            "100%|██████████| 500/500 [00:04<00:00, 103.36it/s]\n"
          ]
        },
        {
          "output_type": "stream",
          "name": "stdout",
          "text": [
            "epoch 168 \n",
            " Training Loss: 0.04522210283856839\n",
            "Epoch 168 \n",
            " Validation Loss 0.09230002356693148\n"
          ]
        },
        {
          "output_type": "stream",
          "name": "stderr",
          "text": [
            "100%|██████████| 500/500 [00:04<00:00, 101.66it/s]\n"
          ]
        },
        {
          "output_type": "stream",
          "name": "stdout",
          "text": [
            "epoch 169 \n",
            " Training Loss: 0.04490118640474975\n",
            "Epoch 169 \n",
            " Validation Loss 0.09211684215813876\n"
          ]
        },
        {
          "output_type": "stream",
          "name": "stderr",
          "text": [
            "100%|██████████| 500/500 [00:05<00:00, 98.85it/s] \n"
          ]
        },
        {
          "output_type": "stream",
          "name": "stdout",
          "text": [
            "epoch 170 \n",
            " Training Loss: 0.0445855506118387\n",
            "Epoch 170 \n",
            " Validation Loss 0.09193225402384997\n"
          ]
        },
        {
          "output_type": "stream",
          "name": "stderr",
          "text": [
            "100%|██████████| 500/500 [00:04<00:00, 102.82it/s]\n"
          ]
        },
        {
          "output_type": "stream",
          "name": "stdout",
          "text": [
            "epoch 171 \n",
            " Training Loss: 0.0442698293523863\n",
            "Epoch 171 \n",
            " Validation Loss 0.09175044342875481\n"
          ]
        },
        {
          "output_type": "stream",
          "name": "stderr",
          "text": [
            "100%|██████████| 500/500 [00:04<00:00, 104.46it/s]\n"
          ]
        },
        {
          "output_type": "stream",
          "name": "stdout",
          "text": [
            "epoch 172 \n",
            " Training Loss: 0.04396058608777821\n",
            "Epoch 172 \n",
            " Validation Loss 0.09157626638188958\n"
          ]
        },
        {
          "output_type": "stream",
          "name": "stderr",
          "text": [
            "100%|██████████| 500/500 [00:04<00:00, 104.52it/s]\n"
          ]
        },
        {
          "output_type": "stream",
          "name": "stdout",
          "text": [
            "epoch 173 \n",
            " Training Loss: 0.043652782019227745\n",
            "Epoch 173 \n",
            " Validation Loss 0.09139845551922918\n"
          ]
        },
        {
          "output_type": "stream",
          "name": "stderr",
          "text": [
            "100%|██████████| 500/500 [00:04<00:00, 103.24it/s]\n"
          ]
        },
        {
          "output_type": "stream",
          "name": "stdout",
          "text": [
            "epoch 174 \n",
            " Training Loss: 0.04334825644921511\n",
            "Epoch 174 \n",
            " Validation Loss 0.09122735923156142\n"
          ]
        },
        {
          "output_type": "stream",
          "name": "stderr",
          "text": [
            "100%|██████████| 500/500 [00:04<00:00, 102.93it/s]\n"
          ]
        },
        {
          "output_type": "stream",
          "name": "stdout",
          "text": [
            "epoch 175 \n",
            " Training Loss: 0.04304854378383607\n",
            "Epoch 175 \n",
            " Validation Loss 0.0910552497766912\n"
          ]
        },
        {
          "output_type": "stream",
          "name": "stderr",
          "text": [
            "100%|██████████| 500/500 [00:04<00:00, 103.99it/s]\n"
          ]
        },
        {
          "output_type": "stream",
          "name": "stdout",
          "text": [
            "epoch 176 \n",
            " Training Loss: 0.04275161050539464\n",
            "Epoch 176 \n",
            " Validation Loss 0.09088584512472153\n"
          ]
        },
        {
          "output_type": "stream",
          "name": "stderr",
          "text": [
            "100%|██████████| 500/500 [00:04<00:00, 104.05it/s]\n"
          ]
        },
        {
          "output_type": "stream",
          "name": "stdout",
          "text": [
            "epoch 177 \n",
            " Training Loss: 0.04245501007884741\n",
            "Epoch 177 \n",
            " Validation Loss 0.09072837345302105\n"
          ]
        },
        {
          "output_type": "stream",
          "name": "stderr",
          "text": [
            "100%|██████████| 500/500 [00:04<00:00, 103.51it/s]\n"
          ]
        },
        {
          "output_type": "stream",
          "name": "stdout",
          "text": [
            "epoch 178 \n",
            " Training Loss: 0.04216224146541208\n",
            "Epoch 178 \n",
            " Validation Loss 0.09055837493389846\n"
          ]
        },
        {
          "output_type": "stream",
          "name": "stderr",
          "text": [
            "100%|██████████| 500/500 [00:04<00:00, 103.40it/s]\n"
          ]
        },
        {
          "output_type": "stream",
          "name": "stdout",
          "text": [
            "epoch 179 \n",
            " Training Loss: 0.04187271211668849\n",
            "Epoch 179 \n",
            " Validation Loss 0.0904006076976657\n"
          ]
        },
        {
          "output_type": "stream",
          "name": "stderr",
          "text": [
            "100%|██████████| 500/500 [00:04<00:00, 101.25it/s]\n"
          ]
        },
        {
          "output_type": "stream",
          "name": "stdout",
          "text": [
            "epoch 180 \n",
            " Training Loss: 0.04158617990184575\n",
            "Epoch 180 \n",
            " Validation Loss 0.09024539409205318\n"
          ]
        },
        {
          "output_type": "stream",
          "name": "stderr",
          "text": [
            "100%|██████████| 500/500 [00:04<00:00, 102.72it/s]\n"
          ]
        },
        {
          "output_type": "stream",
          "name": "stdout",
          "text": [
            "epoch 181 \n",
            " Training Loss: 0.04130293875094503\n",
            "Epoch 181 \n",
            " Validation Loss 0.09008986001834274\n"
          ]
        },
        {
          "output_type": "stream",
          "name": "stderr",
          "text": [
            "100%|██████████| 500/500 [00:04<00:00, 104.89it/s]\n"
          ]
        },
        {
          "output_type": "stream",
          "name": "stdout",
          "text": [
            "epoch 182 \n",
            " Training Loss: 0.0410206265617162\n",
            "Epoch 182 \n",
            " Validation Loss 0.08993969710543752\n"
          ]
        },
        {
          "output_type": "stream",
          "name": "stderr",
          "text": [
            "100%|██████████| 500/500 [00:04<00:00, 102.65it/s]\n"
          ]
        },
        {
          "output_type": "stream",
          "name": "stdout",
          "text": [
            "epoch 183 \n",
            " Training Loss: 0.04074283199943602\n",
            "Epoch 183 \n",
            " Validation Loss 0.08978462932631373\n"
          ]
        },
        {
          "output_type": "stream",
          "name": "stderr",
          "text": [
            "100%|██████████| 500/500 [00:04<00:00, 102.00it/s]\n"
          ]
        },
        {
          "output_type": "stream",
          "name": "stdout",
          "text": [
            "epoch 184 \n",
            " Training Loss: 0.040466814001090826\n",
            "Epoch 184 \n",
            " Validation Loss 0.08963503452017903\n"
          ]
        },
        {
          "output_type": "stream",
          "name": "stderr",
          "text": [
            "100%|██████████| 500/500 [00:05<00:00, 89.80it/s] \n"
          ]
        },
        {
          "output_type": "stream",
          "name": "stdout",
          "text": [
            "epoch 185 \n",
            " Training Loss: 0.04019354706350714\n",
            "Epoch 185 \n",
            " Validation Loss 0.08949183704331518\n"
          ]
        },
        {
          "output_type": "stream",
          "name": "stderr",
          "text": [
            "100%|██████████| 500/500 [00:04<00:00, 103.51it/s]\n"
          ]
        },
        {
          "output_type": "stream",
          "name": "stdout",
          "text": [
            "epoch 186 \n",
            " Training Loss: 0.03992250961344689\n",
            "Epoch 186 \n",
            " Validation Loss 0.08935146251693368\n"
          ]
        },
        {
          "output_type": "stream",
          "name": "stderr",
          "text": [
            "100%|██████████| 500/500 [00:04<00:00, 102.84it/s]\n"
          ]
        },
        {
          "output_type": "stream",
          "name": "stdout",
          "text": [
            "epoch 187 \n",
            " Training Loss: 0.03965492993872613\n",
            "Epoch 187 \n",
            " Validation Loss 0.08920203056186438\n"
          ]
        },
        {
          "output_type": "stream",
          "name": "stderr",
          "text": [
            "100%|██████████| 500/500 [00:04<00:00, 103.55it/s]\n"
          ]
        },
        {
          "output_type": "stream",
          "name": "stdout",
          "text": [
            "epoch 188 \n",
            " Training Loss: 0.03938859039917588\n",
            "Epoch 188 \n",
            " Validation Loss 0.08906175339594484\n"
          ]
        },
        {
          "output_type": "stream",
          "name": "stderr",
          "text": [
            "100%|██████████| 500/500 [00:04<00:00, 101.71it/s]\n"
          ]
        },
        {
          "output_type": "stream",
          "name": "stdout",
          "text": [
            "epoch 189 \n",
            " Training Loss: 0.03912633507698774\n",
            "Epoch 189 \n",
            " Validation Loss 0.08892819637432695\n"
          ]
        },
        {
          "output_type": "stream",
          "name": "stderr",
          "text": [
            "100%|██████████| 500/500 [00:04<00:00, 103.51it/s]\n"
          ]
        },
        {
          "output_type": "stream",
          "name": "stdout",
          "text": [
            "epoch 190 \n",
            " Training Loss: 0.03886509325820953\n",
            "Epoch 190 \n",
            " Validation Loss 0.08879075048491358\n"
          ]
        },
        {
          "output_type": "stream",
          "name": "stderr",
          "text": [
            "100%|██████████| 500/500 [00:04<00:00, 104.38it/s]\n"
          ]
        },
        {
          "output_type": "stream",
          "name": "stdout",
          "text": [
            "epoch 191 \n",
            " Training Loss: 0.03860562853515148\n",
            "Epoch 191 \n",
            " Validation Loss 0.08865694483742118\n"
          ]
        },
        {
          "output_type": "stream",
          "name": "stderr",
          "text": [
            "100%|██████████| 500/500 [00:04<00:00, 101.69it/s]\n"
          ]
        },
        {
          "output_type": "stream",
          "name": "stdout",
          "text": [
            "epoch 192 \n",
            " Training Loss: 0.03834962719492614\n",
            "Epoch 192 \n",
            " Validation Loss 0.0885335585847497\n"
          ]
        },
        {
          "output_type": "stream",
          "name": "stderr",
          "text": [
            "100%|██████████| 500/500 [00:04<00:00, 102.98it/s]\n"
          ]
        },
        {
          "output_type": "stream",
          "name": "stdout",
          "text": [
            "epoch 193 \n",
            " Training Loss: 0.03809551592171192\n",
            "Epoch 193 \n",
            " Validation Loss 0.0883968517743051\n"
          ]
        },
        {
          "output_type": "stream",
          "name": "stderr",
          "text": [
            "100%|██████████| 500/500 [00:04<00:00, 102.59it/s]\n"
          ]
        },
        {
          "output_type": "stream",
          "name": "stdout",
          "text": [
            "epoch 194 \n",
            " Training Loss: 0.037843587159179154\n",
            "Epoch 194 \n",
            " Validation Loss 0.08827263917773961\n"
          ]
        },
        {
          "output_type": "stream",
          "name": "stderr",
          "text": [
            "100%|██████████| 500/500 [00:04<00:00, 102.90it/s]\n"
          ]
        },
        {
          "output_type": "stream",
          "name": "stdout",
          "text": [
            "epoch 195 \n",
            " Training Loss: 0.037594643772579726\n",
            "Epoch 195 \n",
            " Validation Loss 0.08815017875283956\n"
          ]
        },
        {
          "output_type": "stream",
          "name": "stderr",
          "text": [
            "100%|██████████| 500/500 [00:04<00:00, 104.20it/s]\n"
          ]
        },
        {
          "output_type": "stream",
          "name": "stdout",
          "text": [
            "epoch 196 \n",
            " Training Loss: 0.037347913617268205\n",
            "Epoch 196 \n",
            " Validation Loss 0.08802356438711285\n"
          ]
        },
        {
          "output_type": "stream",
          "name": "stderr",
          "text": [
            "100%|██████████| 500/500 [00:04<00:00, 101.80it/s]\n"
          ]
        },
        {
          "output_type": "stream",
          "name": "stdout",
          "text": [
            "epoch 197 \n",
            " Training Loss: 0.03710161504708231\n",
            "Epoch 197 \n",
            " Validation Loss 0.08790571749210357\n"
          ]
        },
        {
          "output_type": "stream",
          "name": "stderr",
          "text": [
            "100%|██████████| 500/500 [00:04<00:00, 102.67it/s]\n"
          ]
        },
        {
          "output_type": "stream",
          "name": "stdout",
          "text": [
            "epoch 198 \n",
            " Training Loss: 0.036859172765165565\n",
            "Epoch 198 \n",
            " Validation Loss 0.08778058126568794\n"
          ]
        },
        {
          "output_type": "stream",
          "name": "stderr",
          "text": [
            "100%|██████████| 500/500 [00:04<00:00, 102.91it/s]\n"
          ]
        },
        {
          "output_type": "stream",
          "name": "stdout",
          "text": [
            "epoch 199 \n",
            " Training Loss: 0.036619505671784285\n",
            "Epoch 199 \n",
            " Validation Loss 0.08765666715800763\n"
          ]
        },
        {
          "output_type": "stream",
          "name": "stderr",
          "text": [
            "100%|██████████| 500/500 [00:04<00:00, 101.99it/s]\n"
          ]
        },
        {
          "output_type": "stream",
          "name": "stdout",
          "text": [
            "epoch 200 \n",
            " Training Loss: 0.036380324501544235\n",
            "Epoch 200 \n",
            " Validation Loss 0.08754882154986263\n"
          ]
        },
        {
          "output_type": "stream",
          "name": "stderr",
          "text": [
            "100%|██████████| 500/500 [00:04<00:00, 101.52it/s]\n"
          ]
        },
        {
          "output_type": "stream",
          "name": "stdout",
          "text": [
            "epoch 201 \n",
            " Training Loss: 0.03614364383928478\n",
            "Epoch 201 \n",
            " Validation Loss 0.08742613159120083\n"
          ]
        },
        {
          "output_type": "stream",
          "name": "stderr",
          "text": [
            "100%|██████████| 500/500 [00:04<00:00, 101.50it/s]\n"
          ]
        },
        {
          "output_type": "stream",
          "name": "stdout",
          "text": [
            "epoch 202 \n",
            " Training Loss: 0.035908853293396534\n",
            "Epoch 202 \n",
            " Validation Loss 0.08731449533253909\n"
          ]
        },
        {
          "output_type": "stream",
          "name": "stderr",
          "text": [
            "100%|██████████| 500/500 [00:04<00:00, 103.25it/s]\n"
          ]
        },
        {
          "output_type": "stream",
          "name": "stdout",
          "text": [
            "epoch 203 \n",
            " Training Loss: 0.03567698982078582\n",
            "Epoch 203 \n",
            " Validation Loss 0.08720070408657193\n"
          ]
        },
        {
          "output_type": "stream",
          "name": "stderr",
          "text": [
            "100%|██████████| 500/500 [00:04<00:00, 102.99it/s]\n"
          ]
        },
        {
          "output_type": "stream",
          "name": "stdout",
          "text": [
            "epoch 204 \n",
            " Training Loss: 0.035445333320647476\n",
            "Epoch 204 \n",
            " Validation Loss 0.087090372312814\n"
          ]
        },
        {
          "output_type": "stream",
          "name": "stderr",
          "text": [
            "100%|██████████| 500/500 [00:04<00:00, 102.83it/s]\n"
          ]
        },
        {
          "output_type": "stream",
          "name": "stdout",
          "text": [
            "epoch 205 \n",
            " Training Loss: 0.0352169801350683\n",
            "Epoch 205 \n",
            " Validation Loss 0.0869816249795258\n"
          ]
        },
        {
          "output_type": "stream",
          "name": "stderr",
          "text": [
            "100%|██████████| 500/500 [00:04<00:00, 102.90it/s]\n"
          ]
        },
        {
          "output_type": "stream",
          "name": "stdout",
          "text": [
            "epoch 206 \n",
            " Training Loss: 0.03499065503757447\n",
            "Epoch 206 \n",
            " Validation Loss 0.08687239183112978\n"
          ]
        },
        {
          "output_type": "stream",
          "name": "stderr",
          "text": [
            "100%|██████████| 500/500 [00:05<00:00, 90.45it/s]\n"
          ]
        },
        {
          "output_type": "stream",
          "name": "stdout",
          "text": [
            "epoch 207 \n",
            " Training Loss: 0.034767021851614115\n",
            "Epoch 207 \n",
            " Validation Loss 0.08676272794604302\n"
          ]
        },
        {
          "output_type": "stream",
          "name": "stderr",
          "text": [
            "100%|██████████| 500/500 [00:04<00:00, 101.41it/s]\n"
          ]
        },
        {
          "output_type": "stream",
          "name": "stdout",
          "text": [
            "epoch 208 \n",
            " Training Loss: 0.03454516695905477\n",
            "Epoch 208 \n",
            " Validation Loss 0.08666291069239378\n"
          ]
        },
        {
          "output_type": "stream",
          "name": "stderr",
          "text": [
            "100%|██████████| 500/500 [00:04<00:00, 102.52it/s]\n"
          ]
        },
        {
          "output_type": "stream",
          "name": "stdout",
          "text": [
            "epoch 209 \n",
            " Training Loss: 0.034324221891351044\n",
            "Epoch 209 \n",
            " Validation Loss 0.08655389183200896\n"
          ]
        },
        {
          "output_type": "stream",
          "name": "stderr",
          "text": [
            "100%|██████████| 500/500 [00:04<00:00, 101.61it/s]\n"
          ]
        },
        {
          "output_type": "stream",
          "name": "stdout",
          "text": [
            "epoch 210 \n",
            " Training Loss: 0.03410629305802286\n",
            "Epoch 210 \n",
            " Validation Loss 0.08645545104518533\n"
          ]
        },
        {
          "output_type": "stream",
          "name": "stderr",
          "text": [
            "100%|██████████| 500/500 [00:04<00:00, 101.84it/s]\n"
          ]
        },
        {
          "output_type": "stream",
          "name": "stdout",
          "text": [
            "epoch 211 \n",
            " Training Loss: 0.033890100150369105\n",
            "Epoch 211 \n",
            " Validation Loss 0.0863512493018061\n"
          ]
        },
        {
          "output_type": "stream",
          "name": "stderr",
          "text": [
            "100%|██████████| 500/500 [00:04<00:00, 102.17it/s]\n"
          ]
        },
        {
          "output_type": "stream",
          "name": "stdout",
          "text": [
            "epoch 212 \n",
            " Training Loss: 0.03367458515334874\n",
            "Epoch 212 \n",
            " Validation Loss 0.08625566481612623\n"
          ]
        },
        {
          "output_type": "stream",
          "name": "stderr",
          "text": [
            "100%|██████████| 500/500 [00:05<00:00, 98.90it/s] \n"
          ]
        },
        {
          "output_type": "stream",
          "name": "stdout",
          "text": [
            "epoch 213 \n",
            " Training Loss: 0.0334631431736052\n",
            "Epoch 213 \n",
            " Validation Loss 0.08615561865270138\n"
          ]
        },
        {
          "output_type": "stream",
          "name": "stderr",
          "text": [
            "100%|██████████| 500/500 [00:04<00:00, 103.33it/s]\n"
          ]
        },
        {
          "output_type": "stream",
          "name": "stdout",
          "text": [
            "epoch 214 \n",
            " Training Loss: 0.033251477834768596\n",
            "Epoch 214 \n",
            " Validation Loss 0.08606394020840526\n"
          ]
        },
        {
          "output_type": "stream",
          "name": "stderr",
          "text": [
            "100%|██████████| 500/500 [00:04<00:00, 101.24it/s]\n"
          ]
        },
        {
          "output_type": "stream",
          "name": "stdout",
          "text": [
            "epoch 215 \n",
            " Training Loss: 0.03304364674631506\n",
            "Epoch 215 \n",
            " Validation Loss 0.08596581757068635\n"
          ]
        },
        {
          "output_type": "stream",
          "name": "stderr",
          "text": [
            "100%|██████████| 500/500 [00:04<00:00, 103.60it/s]\n"
          ]
        },
        {
          "output_type": "stream",
          "name": "stdout",
          "text": [
            "epoch 216 \n",
            " Training Loss: 0.032836208073422316\n",
            "Epoch 216 \n",
            " Validation Loss 0.08587282042019069\n"
          ]
        },
        {
          "output_type": "stream",
          "name": "stderr",
          "text": [
            "100%|██████████| 500/500 [00:04<00:00, 101.94it/s]\n"
          ]
        },
        {
          "output_type": "stream",
          "name": "stdout",
          "text": [
            "epoch 217 \n",
            " Training Loss: 0.03263145379815251\n",
            "Epoch 217 \n",
            " Validation Loss 0.08578662417829036\n"
          ]
        },
        {
          "output_type": "stream",
          "name": "stderr",
          "text": [
            "100%|██████████| 500/500 [00:04<00:00, 102.18it/s]\n"
          ]
        },
        {
          "output_type": "stream",
          "name": "stdout",
          "text": [
            "epoch 218 \n",
            " Training Loss: 0.03242746799066663\n",
            "Epoch 218 \n",
            " Validation Loss 0.08569714942015708\n"
          ]
        },
        {
          "output_type": "stream",
          "name": "stderr",
          "text": [
            "100%|██████████| 500/500 [00:04<00:00, 102.67it/s]\n"
          ]
        },
        {
          "output_type": "stream",
          "name": "stdout",
          "text": [
            "epoch 219 \n",
            " Training Loss: 0.03222556512616575\n",
            "Epoch 219 \n",
            " Validation Loss 0.08560039028525353\n"
          ]
        },
        {
          "output_type": "stream",
          "name": "stderr",
          "text": [
            "100%|██████████| 500/500 [00:04<00:00, 102.01it/s]\n"
          ]
        },
        {
          "output_type": "stream",
          "name": "stdout",
          "text": [
            "epoch 220 \n",
            " Training Loss: 0.032025779097341\n",
            "Epoch 220 \n",
            " Validation Loss 0.08552329200319946\n"
          ]
        },
        {
          "output_type": "stream",
          "name": "stderr",
          "text": [
            "100%|██████████| 500/500 [00:04<00:00, 101.48it/s]\n"
          ]
        },
        {
          "output_type": "stream",
          "name": "stdout",
          "text": [
            "epoch 221 \n",
            " Training Loss: 0.031827478400431576\n",
            "Epoch 221 \n",
            " Validation Loss 0.085439407331869\n"
          ]
        },
        {
          "output_type": "stream",
          "name": "stderr",
          "text": [
            "100%|██████████| 500/500 [00:04<00:00, 101.78it/s]\n"
          ]
        },
        {
          "output_type": "stream",
          "name": "stdout",
          "text": [
            "epoch 222 \n",
            " Training Loss: 0.03163093665335327\n",
            "Epoch 222 \n",
            " Validation Loss 0.085349579481408\n"
          ]
        },
        {
          "output_type": "stream",
          "name": "stderr",
          "text": [
            "100%|██████████| 500/500 [00:04<00:00, 103.99it/s]\n"
          ]
        },
        {
          "output_type": "stream",
          "name": "stdout",
          "text": [
            "epoch 223 \n",
            " Training Loss: 0.03143472068011761\n",
            "Epoch 223 \n",
            " Validation Loss 0.08527049271389842\n"
          ]
        },
        {
          "output_type": "stream",
          "name": "stderr",
          "text": [
            "100%|██████████| 500/500 [00:04<00:00, 102.65it/s]\n"
          ]
        },
        {
          "output_type": "stream",
          "name": "stdout",
          "text": [
            "epoch 224 \n",
            " Training Loss: 0.031243377472274004\n",
            "Epoch 224 \n",
            " Validation Loss 0.08518574113957583\n"
          ]
        },
        {
          "output_type": "stream",
          "name": "stderr",
          "text": [
            "100%|██████████| 500/500 [00:04<00:00, 103.20it/s]\n"
          ]
        },
        {
          "output_type": "stream",
          "name": "stdout",
          "text": [
            "epoch 225 \n",
            " Training Loss: 0.031050650021992622\n",
            "Epoch 225 \n",
            " Validation Loss 0.08510013106279075\n"
          ]
        },
        {
          "output_type": "stream",
          "name": "stderr",
          "text": [
            "100%|██████████| 500/500 [00:04<00:00, 101.79it/s]\n"
          ]
        },
        {
          "output_type": "stream",
          "name": "stdout",
          "text": [
            "epoch 226 \n",
            " Training Loss: 0.030859850200824438\n",
            "Epoch 226 \n",
            " Validation Loss 0.08502431026659905\n"
          ]
        },
        {
          "output_type": "stream",
          "name": "stderr",
          "text": [
            "100%|██████████| 500/500 [00:04<00:00, 103.11it/s]\n"
          ]
        },
        {
          "output_type": "stream",
          "name": "stdout",
          "text": [
            "epoch 227 \n",
            " Training Loss: 0.03067130443174392\n",
            "Epoch 227 \n",
            " Validation Loss 0.0849406423792243\n"
          ]
        },
        {
          "output_type": "stream",
          "name": "stderr",
          "text": [
            "100%|██████████| 500/500 [00:04<00:00, 103.35it/s]\n"
          ]
        },
        {
          "output_type": "stream",
          "name": "stdout",
          "text": [
            "epoch 228 \n",
            " Training Loss: 0.030484647455625236\n",
            "Epoch 228 \n",
            " Validation Loss 0.08486720671877265\n"
          ]
        },
        {
          "output_type": "stream",
          "name": "stderr",
          "text": [
            "100%|██████████| 500/500 [00:04<00:00, 100.21it/s]\n"
          ]
        },
        {
          "output_type": "stream",
          "name": "stdout",
          "text": [
            "epoch 229 \n",
            " Training Loss: 0.030299356766045095\n",
            "Epoch 229 \n",
            " Validation Loss 0.08478740121237933\n"
          ]
        },
        {
          "output_type": "stream",
          "name": "stderr",
          "text": [
            "100%|██████████| 500/500 [00:05<00:00, 93.12it/s] \n"
          ]
        },
        {
          "output_type": "stream",
          "name": "stdout",
          "text": [
            "epoch 230 \n",
            " Training Loss: 0.030115317238494754\n",
            "Epoch 230 \n",
            " Validation Loss 0.08471961668692529\n"
          ]
        },
        {
          "output_type": "stream",
          "name": "stderr",
          "text": [
            "100%|██████████| 500/500 [00:04<00:00, 102.38it/s]\n"
          ]
        },
        {
          "output_type": "stream",
          "name": "stdout",
          "text": [
            "epoch 231 \n",
            " Training Loss: 0.029933520022779703\n",
            "Epoch 231 \n",
            " Validation Loss 0.084639938948676\n"
          ]
        },
        {
          "output_type": "stream",
          "name": "stderr",
          "text": [
            "100%|██████████| 500/500 [00:04<00:00, 102.49it/s]\n"
          ]
        },
        {
          "output_type": "stream",
          "name": "stdout",
          "text": [
            "epoch 232 \n",
            " Training Loss: 0.0297523375460878\n",
            "Epoch 232 \n",
            " Validation Loss 0.08457394327037036\n"
          ]
        },
        {
          "output_type": "stream",
          "name": "stderr",
          "text": [
            "100%|██████████| 500/500 [00:04<00:00, 103.26it/s]\n"
          ]
        },
        {
          "output_type": "stream",
          "name": "stdout",
          "text": [
            "epoch 233 \n",
            " Training Loss: 0.02957291561830789\n",
            "Epoch 233 \n",
            " Validation Loss 0.08449737773276865\n"
          ]
        },
        {
          "output_type": "stream",
          "name": "stderr",
          "text": [
            "100%|██████████| 500/500 [00:04<00:00, 103.53it/s]\n"
          ]
        },
        {
          "output_type": "stream",
          "name": "stdout",
          "text": [
            "epoch 234 \n",
            " Training Loss: 0.029395840637385845\n",
            "Epoch 234 \n",
            " Validation Loss 0.08443200150504708\n"
          ]
        },
        {
          "output_type": "stream",
          "name": "stderr",
          "text": [
            "100%|██████████| 500/500 [00:04<00:00, 103.54it/s]\n"
          ]
        },
        {
          "output_type": "stream",
          "name": "stdout",
          "text": [
            "epoch 235 \n",
            " Training Loss: 0.029218949280679227\n",
            "Epoch 235 \n",
            " Validation Loss 0.08435679596848786\n"
          ]
        },
        {
          "output_type": "stream",
          "name": "stderr",
          "text": [
            "100%|██████████| 500/500 [00:04<00:00, 102.21it/s]\n"
          ]
        },
        {
          "output_type": "stream",
          "name": "stdout",
          "text": [
            "epoch 236 \n",
            " Training Loss: 0.02904430198483169\n",
            "Epoch 236 \n",
            " Validation Loss 0.08429119273088873\n"
          ]
        },
        {
          "output_type": "stream",
          "name": "stderr",
          "text": [
            "100%|██████████| 500/500 [00:04<00:00, 104.39it/s]\n"
          ]
        },
        {
          "output_type": "stream",
          "name": "stdout",
          "text": [
            "epoch 237 \n",
            " Training Loss: 0.02887119625136256\n",
            "Epoch 237 \n",
            " Validation Loss 0.08421933954581619\n"
          ]
        },
        {
          "output_type": "stream",
          "name": "stderr",
          "text": [
            "100%|██████████| 500/500 [00:04<00:00, 103.61it/s]\n"
          ]
        },
        {
          "output_type": "stream",
          "name": "stdout",
          "text": [
            "epoch 238 \n",
            " Training Loss: 0.028698513872921466\n",
            "Epoch 238 \n",
            " Validation Loss 0.08416610319167375\n"
          ]
        },
        {
          "output_type": "stream",
          "name": "stderr",
          "text": [
            "100%|██████████| 500/500 [00:04<00:00, 103.49it/s]\n"
          ]
        },
        {
          "output_type": "stream",
          "name": "stdout",
          "text": [
            "epoch 239 \n",
            " Training Loss: 0.02852901657205075\n",
            "Epoch 239 \n",
            " Validation Loss 0.08409199346788228\n"
          ]
        },
        {
          "output_type": "stream",
          "name": "stderr",
          "text": [
            "100%|██████████| 500/500 [00:04<00:00, 104.85it/s]\n"
          ]
        },
        {
          "output_type": "stream",
          "name": "stdout",
          "text": [
            "epoch 240 \n",
            " Training Loss: 0.028360161603428424\n",
            "Epoch 240 \n",
            " Validation Loss 0.08402020172215999\n"
          ]
        },
        {
          "output_type": "stream",
          "name": "stderr",
          "text": [
            "100%|██████████| 500/500 [00:04<00:00, 104.97it/s]\n"
          ]
        },
        {
          "output_type": "stream",
          "name": "stdout",
          "text": [
            "epoch 241 \n",
            " Training Loss: 0.028192036265507342\n",
            "Epoch 241 \n",
            " Validation Loss 0.08396086406894028\n"
          ]
        },
        {
          "output_type": "stream",
          "name": "stderr",
          "text": [
            "100%|██████████| 500/500 [00:04<00:00, 104.31it/s]\n"
          ]
        },
        {
          "output_type": "stream",
          "name": "stdout",
          "text": [
            "epoch 242 \n",
            " Training Loss: 0.02802627253625542\n",
            "Epoch 242 \n",
            " Validation Loss 0.0838909103628248\n"
          ]
        },
        {
          "output_type": "stream",
          "name": "stderr",
          "text": [
            "100%|██████████| 500/500 [00:04<00:00, 100.89it/s]\n"
          ]
        },
        {
          "output_type": "stream",
          "name": "stdout",
          "text": [
            "epoch 243 \n",
            " Training Loss: 0.027860737846232952\n",
            "Epoch 243 \n",
            " Validation Loss 0.08383542340248823\n"
          ]
        },
        {
          "output_type": "stream",
          "name": "stderr",
          "text": [
            "100%|██████████| 500/500 [00:04<00:00, 104.68it/s]\n"
          ]
        },
        {
          "output_type": "stream",
          "name": "stdout",
          "text": [
            "epoch 244 \n",
            " Training Loss: 0.02769764213077724\n",
            "Epoch 244 \n",
            " Validation Loss 0.08376807691529393\n"
          ]
        },
        {
          "output_type": "stream",
          "name": "stderr",
          "text": [
            "100%|██████████| 500/500 [00:04<00:00, 100.30it/s]\n"
          ]
        },
        {
          "output_type": "stream",
          "name": "stdout",
          "text": [
            "epoch 245 \n",
            " Training Loss: 0.027534335284493863\n",
            "Epoch 245 \n",
            " Validation Loss 0.08370860174298286\n"
          ]
        },
        {
          "output_type": "stream",
          "name": "stderr",
          "text": [
            "100%|██████████| 500/500 [00:04<00:00, 104.31it/s]\n"
          ]
        },
        {
          "output_type": "stream",
          "name": "stdout",
          "text": [
            "epoch 246 \n",
            " Training Loss: 0.027374877527356147\n",
            "Epoch 246 \n",
            " Validation Loss 0.08364354537799955\n"
          ]
        },
        {
          "output_type": "stream",
          "name": "stderr",
          "text": [
            "100%|██████████| 500/500 [00:04<00:00, 102.41it/s]\n"
          ]
        },
        {
          "output_type": "stream",
          "name": "stdout",
          "text": [
            "epoch 247 \n",
            " Training Loss: 0.02721438801754266\n",
            "Epoch 247 \n",
            " Validation Loss 0.08358627985231579\n"
          ]
        },
        {
          "output_type": "stream",
          "name": "stderr",
          "text": [
            "100%|██████████| 500/500 [00:04<00:00, 103.46it/s]\n"
          ]
        },
        {
          "output_type": "stream",
          "name": "stdout",
          "text": [
            "epoch 248 \n",
            " Training Loss: 0.027056168515235186\n",
            "Epoch 248 \n",
            " Validation Loss 0.08353355071507394\n"
          ]
        },
        {
          "output_type": "stream",
          "name": "stderr",
          "text": [
            "100%|██████████| 500/500 [00:04<00:00, 102.70it/s]\n"
          ]
        },
        {
          "output_type": "stream",
          "name": "stdout",
          "text": [
            "epoch 249 \n",
            " Training Loss: 0.026899748884141445\n",
            "Epoch 249 \n",
            " Validation Loss 0.08347362661734223\n"
          ]
        },
        {
          "output_type": "stream",
          "name": "stderr",
          "text": [
            "100%|██████████| 500/500 [00:04<00:00, 102.93it/s]\n"
          ]
        },
        {
          "output_type": "stream",
          "name": "stdout",
          "text": [
            "epoch 250 \n",
            " Training Loss: 0.026743387634865938\n",
            "Epoch 250 \n",
            " Validation Loss 0.08341402430087327\n",
            "\n",
            "\n"
          ]
        },
        {
          "output_type": "display_data",
          "data": {
            "text/plain": [
              "<Figure size 432x288 with 2 Axes>"
            ],
            "image/png": "[encoded data removed]"
          },
          "metadata": {
            "needs_background": "light"
          }
        }
      ]
    },
    {
      "cell_type": "code",
      "source": [
        "plt.title('Training vs. Validation Loss Over Epochs')\n",
        "plt.plot(valid_loss_capture, color='red')\n",
        "plt.plot(epoch_loss_capture, color='blue')\n",
        "plt.show()"
      ],
      "metadata": {
        "colab": {
          "base_uri": "https://localhost:8080/",
          "height": 281
        },
        "id": "tvLqwKKOSePs",
        "outputId": "4b03f82a-41a5-4466-c877-c07ce8618e16"
      },
      "execution_count": 43,
      "outputs": [
        {
          "output_type": "display_data",
          "data": {
            "text/plain": [
              "<Figure size 432x288 with 1 Axes>"
            ],
            "image/png": "[encoded data removed]"
          },
          "metadata": {
            "needs_background": "light"
          }
        }
      ]
    },
    {
      "cell_type": "code",
      "source": [
        "y_pred, y_true = predict_val(model, testLoader)\n",
        "diffs = y_true - y_pred"
      ],
      "metadata": {
        "id": "URChBYCKNzGT"
      },
      "execution_count": 44,
      "outputs": []
    },
    {
      "cell_type": "code",
      "source": [
        "100 - len([v for v in diffs if v != 0])/len(diffs)*100"
      ],
      "metadata": {
        "colab": {
          "base_uri": "https://localhost:8080/",
          "height": 0
        },
        "id": "8GTWZLbqbbya",
        "outputId": "dbcff554-1bd9-4964-e78e-64a43ab5c48f"
      },
      "execution_count": 45,
      "outputs": [
        {
          "output_type": "execute_result",
          "data": {
            "text/plain": [
              "97.9"
            ]
          },
          "metadata": {},
          "execution_count": 45
        }
      ]
    },
    {
      "cell_type": "code",
      "source": [
        "pd.DataFrame(confusion_matrix(y_true, y_pred, labels=np.arange(0, 10)))"
      ],
      "metadata": {
        "colab": {
          "base_uri": "https://localhost:8080/",
          "height": 363
        },
        "id": "XFIErNWSbfwh",
        "outputId": "bfed3297-d544-437b-8f29-0ba7f77a51a8"
      },
      "execution_count": 46,
      "outputs": [
        {
          "output_type": "execute_result",
          "data": {
            "text/plain": [
              "     0     1     2    3    4    5    6     7    8    9\n",
              "0  966     0     1    1    1    2    3     2    2    2\n",
              "1    0  1124     3    1    0    1    2     1    3    0\n",
              "2    5     3  1007    4    3    0    2     4    4    0\n",
              "3    0     0     6  994    0    1    0     3    3    3\n",
              "4    1     0     3    1  958    0    3     2    2   12\n",
              "5    3     1     0    8    2  870    5     0    2    1\n",
              "6    5     3     1    0    3    4  940     0    2    0\n",
              "7    0     5    10    3    0    0    0  1004    2    4\n",
              "8    5     0     3    4    3    3    4     3  948    1\n",
              "9    2     3     1    6    9    1    1     5    2  979"
            ],
            "text/html": [
              "\n",
              "  <div id=\"df-e1d54f73-360c-46d6-a9c8-f6a040413b6e\">\n",
              "    <div class=\"colab-df-container\">\n",
              "      <div>\n",
              "<style scoped>\n",
              "    .dataframe tbody tr th:only-of-type {\n",
              "        vertical-align: middle;\n",
              "    }\n",
              "\n",
              "    .dataframe tbody tr th {\n",
              "        vertical-align: top;\n",
              "    }\n",
              "\n",
              "    .dataframe thead th {\n",
              "        text-align: right;\n",
              "    }\n",
              "</style>\n",
              "<table border=\"1\" class=\"dataframe\">\n",
              "  <thead>\n",
              "    <tr style=\"text-align: right;\">\n",
              "      <th></th>\n",
              "      <th>0</th>\n",
              "      <th>1</th>\n",
              "      <th>2</th>\n",
              "      <th>3</th>\n",
              "      <th>4</th>\n",
              "      <th>5</th>\n",
              "      <th>6</th>\n",
              "      <th>7</th>\n",
              "      <th>8</th>\n",
              "      <th>9</th>\n",
              "    </tr>\n",
              "  </thead>\n",
              "  <tbody>\n",
              "    <tr>\n",
              "      <th>0</th>\n",
              "      <td>966</td>\n",
              "      <td>0</td>\n",
              "      <td>1</td>\n",
              "      <td>1</td>\n",
              "      <td>1</td>\n",
              "      <td>2</td>\n",
              "      <td>3</td>\n",
              "      <td>2</td>\n",
              "      <td>2</td>\n",
              "      <td>2</td>\n",
              "    </tr>\n",
              "    <tr>\n",
              "      <th>1</th>\n",
              "      <td>0</td>\n",
              "      <td>1124</td>\n",
              "      <td>3</td>\n",
              "      <td>1</td>\n",
              "      <td>0</td>\n",
              "      <td>1</td>\n",
              "      <td>2</td>\n",
              "      <td>1</td>\n",
              "      <td>3</td>\n",
              "      <td>0</td>\n",
              "    </tr>\n",
              "    <tr>\n",
              "      <th>2</th>\n",
              "      <td>5</td>\n",
              "      <td>3</td>\n",
              "      <td>1007</td>\n",
              "      <td>4</td>\n",
              "      <td>3</td>\n",
              "      <td>0</td>\n",
              "      <td>2</td>\n",
              "      <td>4</td>\n",
              "      <td>4</td>\n",
              "      <td>0</td>\n",
              "    </tr>\n",
              "    <tr>\n",
              "      <th>3</th>\n",
              "      <td>0</td>\n",
              "      <td>0</td>\n",
              "      <td>6</td>\n",
              "      <td>994</td>\n",
              "      <td>0</td>\n",
              "      <td>1</td>\n",
              "      <td>0</td>\n",
              "      <td>3</td>\n",
              "      <td>3</td>\n",
              "      <td>3</td>\n",
              "    </tr>\n",
              "    <tr>\n",
              "      <th>4</th>\n",
              "      <td>1</td>\n",
              "      <td>0</td>\n",
              "      <td>3</td>\n",
              "      <td>1</td>\n",
              "      <td>958</td>\n",
              "      <td>0</td>\n",
              "      <td>3</td>\n",
              "      <td>2</td>\n",
              "      <td>2</td>\n",
              "      <td>12</td>\n",
              "    </tr>\n",
              "    <tr>\n",
              "      <th>5</th>\n",
              "      <td>3</td>\n",
              "      <td>1</td>\n",
              "      <td>0</td>\n",
              "      <td>8</td>\n",
              "      <td>2</td>\n",
              "      <td>870</td>\n",
              "      <td>5</td>\n",
              "      <td>0</td>\n",
              "      <td>2</td>\n",
              "      <td>1</td>\n",
              "    </tr>\n",
              "    <tr>\n",
              "      <th>6</th>\n",
              "      <td>5</td>\n",
              "      <td>3</td>\n",
              "      <td>1</td>\n",
              "      <td>0</td>\n",
              "      <td>3</td>\n",
              "      <td>4</td>\n",
              "      <td>940</td>\n",
              "      <td>0</td>\n",
              "      <td>2</td>\n",
              "      <td>0</td>\n",
              "    </tr>\n",
              "    <tr>\n",
              "      <th>7</th>\n",
              "      <td>0</td>\n",
              "      <td>5</td>\n",
              "      <td>10</td>\n",
              "      <td>3</td>\n",
              "      <td>0</td>\n",
              "      <td>0</td>\n",
              "      <td>0</td>\n",
              "      <td>1004</td>\n",
              "      <td>2</td>\n",
              "      <td>4</td>\n",
              "    </tr>\n",
              "    <tr>\n",
              "      <th>8</th>\n",
              "      <td>5</td>\n",
              "      <td>0</td>\n",
              "      <td>3</td>\n",
              "      <td>4</td>\n",
              "      <td>3</td>\n",
              "      <td>3</td>\n",
              "      <td>4</td>\n",
              "      <td>3</td>\n",
              "      <td>948</td>\n",
              "      <td>1</td>\n",
              "    </tr>\n",
              "    <tr>\n",
              "      <th>9</th>\n",
              "      <td>2</td>\n",
              "      <td>3</td>\n",
              "      <td>1</td>\n",
              "      <td>6</td>\n",
              "      <td>9</td>\n",
              "      <td>1</td>\n",
              "      <td>1</td>\n",
              "      <td>5</td>\n",
              "      <td>2</td>\n",
              "      <td>979</td>\n",
              "    </tr>\n",
              "  </tbody>\n",
              "</table>\n",
              "</div>\n",
              "      <button class=\"colab-df-convert\" onclick=\"convertToInteractive('df-e1d54f73-360c-46d6-a9c8-f6a040413b6e')\"\n",
              "              title=\"Convert this dataframe to an interactive table.\"\n",
              "              style=\"display:none;\">\n",
              "        \n",
              "  <svg xmlns=\"http://www.w3.org/2000/svg\" height=\"24px\"viewBox=\"0 0 24 24\"\n",
              "       width=\"24px\">\n",
              "    <path d=\"M0 0h24v24H0V0z\" fill=\"none\"/>\n",
              "    <path d=\"M18.56 5.44l.94 2.06.94-2.06 2.06-.94-2.06-.94-.94-2.06-.94 2.06-2.06.94zm-11 1L8.5 8.5l.94-2.06 2.06-.94-2.06-.94L8.5 2.5l-.94 2.06-2.06.94zm10 10l.94 2.06.94-2.06 2.06-.94-2.06-.94-.94-2.06-.94 2.06-2.06.94z\"/><path d=\"M17.41 7.96l-1.37-1.37c-.4-.4-.92-.59-1.43-.59-.52 0-1.04.2-1.43.59L10.3 9.45l-7.72 7.72c-.78.78-.78 2.05 0 2.83L4 21.41c.39.39.9.59 1.41.59.51 0 1.02-.2 1.41-.59l7.78-7.78 2.81-2.81c.8-.78.8-2.07 0-2.86zM5.41 20L4 18.59l7.72-7.72 1.47 1.35L5.41 20z\"/>\n",
              "  </svg>\n",
              "      </button>\n",
              "      \n",
              "  <style>\n",
              "    .colab-df-container {\n",
              "      display:flex;\n",
              "      flex-wrap:wrap;\n",
              "      gap: 12px;\n",
              "    }\n",
              "\n",
              "    .colab-df-convert {\n",
              "      background-color: #E8F0FE;\n",
              "      border: none;\n",
              "      border-radius: 50%;\n",
              "      cursor: pointer;\n",
              "      display: none;\n",
              "      fill: #1967D2;\n",
              "      height: 32px;\n",
              "      padding: 0 0 0 0;\n",
              "      width: 32px;\n",
              "    }\n",
              "\n",
              "    .colab-df-convert:hover {\n",
              "      background-color: #E2EBFA;\n",
              "      box-shadow: 0px 1px 2px rgba(60, 64, 67, 0.3), 0px 1px 3px 1px rgba(60, 64, 67, 0.15);\n",
              "      fill: #174EA6;\n",
              "    }\n",
              "\n",
              "    [theme=dark] .colab-df-convert {\n",
              "      background-color: #3B4455;\n",
              "      fill: #D2E3FC;\n",
              "    }\n",
              "\n",
              "    [theme=dark] .colab-df-convert:hover {\n",
              "      background-color: #434B5C;\n",
              "      box-shadow: 0px 1px 3px 1px rgba(0, 0, 0, 0.15);\n",
              "      filter: drop-shadow(0px 1px 2px rgba(0, 0, 0, 0.3));\n",
              "      fill: #FFFFFF;\n",
              "    }\n",
              "  </style>\n",
              "\n",
              "      <script>\n",
              "        const buttonEl =\n",
              "          document.querySelector('#df-e1d54f73-360c-46d6-a9c8-f6a040413b6e button.colab-df-convert');\n",
              "        buttonEl.style.display =\n",
              "          google.colab.kernel.accessAllowed ? 'block' : 'none';\n",
              "\n",
              "        async function convertToInteractive(key) {\n",
              "          const element = document.querySelector('#df-e1d54f73-360c-46d6-a9c8-f6a040413b6e');\n",
              "          const dataTable =\n",
              "            await google.colab.kernel.invokeFunction('convertToInteractive',\n",
              "                                                     [key], {});\n",
              "          if (!dataTable) return;\n",
              "\n",
              "          const docLinkHtml = 'Like what you see? Visit the ' +\n",
              "            '<a target=\"_blank\" href=https://colab.research.google.com/notebooks/data_table.ipynb>data table notebook</a>'\n",
              "            + ' to learn more about interactive tables.';\n",
              "          element.innerHTML = '';\n",
              "          dataTable['output_type'] = 'display_data';\n",
              "          await google.colab.output.renderOutput(dataTable, element);\n",
              "          const docLink = document.createElement('div');\n",
              "          docLink.innerHTML = docLinkHtml;\n",
              "          element.appendChild(docLink);\n",
              "        }\n",
              "      </script>\n",
              "    </div>\n",
              "  </div>\n",
              "  "
            ]
          },
          "metadata": {},
          "execution_count": 46
        }
      ]
    },
    {
      "cell_type": "markdown",
      "source": [
        "Next we run the same network but this time using L2 Regularization. For pytorch this means setting the weight_decay param to < 0 (see: https://stackoverflow.com/questions/42704283/l1-l2-regularization-in-pytorch). We run this again to see what we get..."
      ],
      "metadata": {
        "id": "5a8hygGLf3id"
      }
    },
    {
      "cell_type": "code",
      "source": [
        "# updating to use L2 Regularization\n",
        "\n",
        "model = ThreeLayer()\n",
        "\n",
        "if torch.cuda.is_available():\n",
        "    model = model.cuda()\n",
        "\n",
        "optimizerL2 = torch.optim.SGD(model.parameters(), lr=0.01, weight_decay=1e-5)"
      ],
      "metadata": {
        "id": "u7c-D6a6cLjh"
      },
      "execution_count": 47,
      "outputs": []
    },
    {
      "cell_type": "code",
      "source": [
        "# 50k in train set, batch_size = 100 50k/100 = 500 iterations\n",
        "\n",
        "print(f'using model {model} with optimizer {optimizerL2} and criterion {criterion}')\n",
        "n_epochs = 250\n",
        "\n",
        "epoch_loss_capture = []\n",
        "batch_loss_capture = []\n",
        "valid_loss_capture = []\n",
        "for e in range(n_epochs):\n",
        "  train_loss = 0.0\n",
        "\n",
        "  for data, labels in tqdm(trainLoader):\n",
        "    if torch.cuda.is_available():\n",
        "      data, labels = data.cuda(), labels.cuda()\n",
        "\n",
        "    optimizerL2.zero_grad()\n",
        "    target = model(data)\n",
        "    loss = criterion(target, labels)\n",
        "    loss.backward()\n",
        "    optimizerL2.step()\n",
        "    train_loss += loss.item()\n",
        "    batch_loss_capture.append(train_loss / BATCH_SIZE)\n",
        "\n",
        "  valid_loss = 0.0\n",
        "  model.eval()\n",
        "  for data, labels in validLoader:\n",
        "    if torch.cuda.is_available():\n",
        "        data, labels = data.cuda(), labels.cuda()\n",
        "         \n",
        "    # Forward Pass\n",
        "    target = model(data)\n",
        "    # Find the Loss\n",
        "    loss = criterion(target,labels)\n",
        "    # Calculate Loss\n",
        "    valid_loss += loss.item()\n",
        "  \n",
        "  epoch_loss_capture.append(train_loss / len(trainLoader))\n",
        "  valid_loss_capture.append(valid_loss / len(validLoader))\n",
        "  print(f'epoch {e+1} \\n Training Loss: {train_loss / len(trainLoader)}')\n",
        "  print(f'Epoch {e+1} \\n Validation Loss {valid_loss / len(validLoader)}')\n",
        "\n",
        "print('\\n')\n",
        "fig, (ax1, ax2) = plt.subplots(1, 2, sharey=True)\n",
        "fig.suptitle('Training Loss (batch) vs. Validation Loss (epoch)')\n",
        "ax1.plot(batch_loss_capture, color='blue')\n",
        "ax2.plot(valid_loss_capture, color='red')\n",
        "\n",
        "plt.show()"
      ],
      "metadata": {
        "colab": {
          "base_uri": "https://localhost:8080/",
          "height": 22254
        },
        "id": "wvSXV-abSg3r",
        "outputId": "c378b8e1-45c1-4cc7-9283-193ddc9f2d7b"
      },
      "execution_count": 48,
      "outputs": [
        {
          "output_type": "stream",
          "name": "stdout",
          "text": [
            "using model ThreeLayer(\n",
            "  (layer1): Linear(in_features=784, out_features=500, bias=True)\n",
            "  (layer2): Linear(in_features=500, out_features=10, bias=True)\n",
            ") with optimizer SGD (\n",
            "Parameter Group 0\n",
            "    dampening: 0\n",
            "    foreach: None\n",
            "    lr: 0.01\n",
            "    maximize: False\n",
            "    momentum: 0\n",
            "    nesterov: False\n",
            "    weight_decay: 1e-05\n",
            ") and criterion CrossEntropyLoss()\n"
          ]
        },
        {
          "output_type": "stream",
          "name": "stderr",
          "text": [
            "100%|██████████| 500/500 [00:05<00:00, 97.78it/s] \n"
          ]
        },
        {
          "output_type": "stream",
          "name": "stdout",
          "text": [
            "epoch 1 \n",
            " Training Loss: 1.5826744338274001\n",
            "Epoch 1 \n",
            " Validation Loss 0.9170443892478943\n"
          ]
        },
        {
          "output_type": "stream",
          "name": "stderr",
          "text": [
            "100%|██████████| 500/500 [00:04<00:00, 105.43it/s]\n"
          ]
        },
        {
          "output_type": "stream",
          "name": "stdout",
          "text": [
            "epoch 2 \n",
            " Training Loss: 0.698072283565998\n",
            "Epoch 2 \n",
            " Validation Loss 0.5589177882671357\n"
          ]
        },
        {
          "output_type": "stream",
          "name": "stderr",
          "text": [
            "100%|██████████| 500/500 [00:04<00:00, 105.48it/s]\n"
          ]
        },
        {
          "output_type": "stream",
          "name": "stdout",
          "text": [
            "epoch 3 \n",
            " Training Loss: 0.5023194136023521\n",
            "Epoch 3 \n",
            " Validation Loss 0.45531743824481963\n"
          ]
        },
        {
          "output_type": "stream",
          "name": "stderr",
          "text": [
            "100%|██████████| 500/500 [00:04<00:00, 105.40it/s]\n"
          ]
        },
        {
          "output_type": "stream",
          "name": "stdout",
          "text": [
            "epoch 4 \n",
            " Training Loss: 0.42925646382570265\n",
            "Epoch 4 \n",
            " Validation Loss 0.40678447782993316\n"
          ]
        },
        {
          "output_type": "stream",
          "name": "stderr",
          "text": [
            "100%|██████████| 500/500 [00:04<00:00, 105.25it/s]\n"
          ]
        },
        {
          "output_type": "stream",
          "name": "stdout",
          "text": [
            "epoch 5 \n",
            " Training Loss: 0.3902178937792778\n",
            "Epoch 5 \n",
            " Validation Loss 0.3781705978512764\n"
          ]
        },
        {
          "output_type": "stream",
          "name": "stderr",
          "text": [
            "100%|██████████| 500/500 [00:04<00:00, 103.94it/s]\n"
          ]
        },
        {
          "output_type": "stream",
          "name": "stdout",
          "text": [
            "epoch 6 \n",
            " Training Loss: 0.3650830268859863\n",
            "Epoch 6 \n",
            " Validation Loss 0.35872411608695987\n"
          ]
        },
        {
          "output_type": "stream",
          "name": "stderr",
          "text": [
            "100%|██████████| 500/500 [00:04<00:00, 105.71it/s]\n"
          ]
        },
        {
          "output_type": "stream",
          "name": "stdout",
          "text": [
            "epoch 7 \n",
            " Training Loss: 0.34687378439307215\n",
            "Epoch 7 \n",
            " Validation Loss 0.3441637773811817\n"
          ]
        },
        {
          "output_type": "stream",
          "name": "stderr",
          "text": [
            "100%|██████████| 500/500 [00:04<00:00, 103.11it/s]\n"
          ]
        },
        {
          "output_type": "stream",
          "name": "stdout",
          "text": [
            "epoch 8 \n",
            " Training Loss: 0.33259210926294325\n",
            "Epoch 8 \n",
            " Validation Loss 0.3325054842233658\n"
          ]
        },
        {
          "output_type": "stream",
          "name": "stderr",
          "text": [
            "100%|██████████| 500/500 [00:04<00:00, 104.18it/s]\n"
          ]
        },
        {
          "output_type": "stream",
          "name": "stdout",
          "text": [
            "epoch 9 \n",
            " Training Loss: 0.3207478382587433\n",
            "Epoch 9 \n",
            " Validation Loss 0.3227338492870331\n"
          ]
        },
        {
          "output_type": "stream",
          "name": "stderr",
          "text": [
            "100%|██████████| 500/500 [00:04<00:00, 105.81it/s]\n"
          ]
        },
        {
          "output_type": "stream",
          "name": "stdout",
          "text": [
            "epoch 10 \n",
            " Training Loss: 0.31053042855858803\n",
            "Epoch 10 \n",
            " Validation Loss 0.314216381162405\n"
          ]
        },
        {
          "output_type": "stream",
          "name": "stderr",
          "text": [
            "100%|██████████| 500/500 [00:04<00:00, 102.47it/s]\n"
          ]
        },
        {
          "output_type": "stream",
          "name": "stdout",
          "text": [
            "epoch 11 \n",
            " Training Loss: 0.30144514729082583\n",
            "Epoch 11 \n",
            " Validation Loss 0.30658675253391265\n"
          ]
        },
        {
          "output_type": "stream",
          "name": "stderr",
          "text": [
            "100%|██████████| 500/500 [00:04<00:00, 102.81it/s]\n"
          ]
        },
        {
          "output_type": "stream",
          "name": "stdout",
          "text": [
            "epoch 12 \n",
            " Training Loss: 0.2931839002519846\n",
            "Epoch 12 \n",
            " Validation Loss 0.29964832484722137\n"
          ]
        },
        {
          "output_type": "stream",
          "name": "stderr",
          "text": [
            "100%|██████████| 500/500 [00:04<00:00, 102.87it/s]\n"
          ]
        },
        {
          "output_type": "stream",
          "name": "stdout",
          "text": [
            "epoch 13 \n",
            " Training Loss: 0.2855559398382902\n",
            "Epoch 13 \n",
            " Validation Loss 0.29319206371903417\n"
          ]
        },
        {
          "output_type": "stream",
          "name": "stderr",
          "text": [
            "100%|██████████| 500/500 [00:04<00:00, 104.61it/s]\n"
          ]
        },
        {
          "output_type": "stream",
          "name": "stdout",
          "text": [
            "epoch 14 \n",
            " Training Loss: 0.2784233852177858\n",
            "Epoch 14 \n",
            " Validation Loss 0.2871377992630005\n"
          ]
        },
        {
          "output_type": "stream",
          "name": "stderr",
          "text": [
            "100%|██████████| 500/500 [00:04<00:00, 104.90it/s]\n"
          ]
        },
        {
          "output_type": "stream",
          "name": "stdout",
          "text": [
            "epoch 15 \n",
            " Training Loss: 0.27169924990832806\n",
            "Epoch 15 \n",
            " Validation Loss 0.28139986127614974\n"
          ]
        },
        {
          "output_type": "stream",
          "name": "stderr",
          "text": [
            "100%|██████████| 500/500 [00:04<00:00, 104.69it/s]\n"
          ]
        },
        {
          "output_type": "stream",
          "name": "stdout",
          "text": [
            "epoch 16 \n",
            " Training Loss: 0.26532624197006227\n",
            "Epoch 16 \n",
            " Validation Loss 0.27591546267271044\n"
          ]
        },
        {
          "output_type": "stream",
          "name": "stderr",
          "text": [
            "100%|██████████| 500/500 [00:04<00:00, 102.39it/s]\n"
          ]
        },
        {
          "output_type": "stream",
          "name": "stdout",
          "text": [
            "epoch 17 \n",
            " Training Loss: 0.25924289180338383\n",
            "Epoch 17 \n",
            " Validation Loss 0.27064958155155183\n"
          ]
        },
        {
          "output_type": "stream",
          "name": "stderr",
          "text": [
            "100%|██████████| 500/500 [00:04<00:00, 105.70it/s]\n"
          ]
        },
        {
          "output_type": "stream",
          "name": "stdout",
          "text": [
            "epoch 18 \n",
            " Training Loss: 0.2534056309759617\n",
            "Epoch 18 \n",
            " Validation Loss 0.2655871631205082\n"
          ]
        },
        {
          "output_type": "stream",
          "name": "stderr",
          "text": [
            "100%|██████████| 500/500 [00:04<00:00, 104.83it/s]\n"
          ]
        },
        {
          "output_type": "stream",
          "name": "stdout",
          "text": [
            "epoch 19 \n",
            " Training Loss: 0.24780168557167054\n",
            "Epoch 19 \n",
            " Validation Loss 0.26070400670170785\n"
          ]
        },
        {
          "output_type": "stream",
          "name": "stderr",
          "text": [
            "100%|██████████| 500/500 [00:05<00:00, 89.68it/s] \n"
          ]
        },
        {
          "output_type": "stream",
          "name": "stdout",
          "text": [
            "epoch 20 \n",
            " Training Loss: 0.24241099567711352\n",
            "Epoch 20 \n",
            " Validation Loss 0.2559751956164837\n"
          ]
        },
        {
          "output_type": "stream",
          "name": "stderr",
          "text": [
            "100%|██████████| 500/500 [00:04<00:00, 105.05it/s]\n"
          ]
        },
        {
          "output_type": "stream",
          "name": "stdout",
          "text": [
            "epoch 21 \n",
            " Training Loss: 0.23722143797576428\n",
            "Epoch 21 \n",
            " Validation Loss 0.2514299436658621\n"
          ]
        },
        {
          "output_type": "stream",
          "name": "stderr",
          "text": [
            "100%|██████████| 500/500 [00:04<00:00, 102.81it/s]\n"
          ]
        },
        {
          "output_type": "stream",
          "name": "stdout",
          "text": [
            "epoch 22 \n",
            " Training Loss: 0.2322278845757246\n",
            "Epoch 22 \n",
            " Validation Loss 0.24705554030835628\n"
          ]
        },
        {
          "output_type": "stream",
          "name": "stderr",
          "text": [
            "100%|██████████| 500/500 [00:04<00:00, 103.98it/s]\n"
          ]
        },
        {
          "output_type": "stream",
          "name": "stdout",
          "text": [
            "epoch 23 \n",
            " Training Loss: 0.22742646095156668\n",
            "Epoch 23 \n",
            " Validation Loss 0.24283752255141736\n"
          ]
        },
        {
          "output_type": "stream",
          "name": "stderr",
          "text": [
            "100%|██████████| 500/500 [00:04<00:00, 104.16it/s]\n"
          ]
        },
        {
          "output_type": "stream",
          "name": "stdout",
          "text": [
            "epoch 24 \n",
            " Training Loss: 0.22280262027680875\n",
            "Epoch 24 \n",
            " Validation Loss 0.23875417672097682\n"
          ]
        },
        {
          "output_type": "stream",
          "name": "stderr",
          "text": [
            "100%|██████████| 500/500 [00:04<00:00, 105.17it/s]\n"
          ]
        },
        {
          "output_type": "stream",
          "name": "stdout",
          "text": [
            "epoch 25 \n",
            " Training Loss: 0.21834433487057686\n",
            "Epoch 25 \n",
            " Validation Loss 0.2348244420439005\n"
          ]
        },
        {
          "output_type": "stream",
          "name": "stderr",
          "text": [
            "100%|██████████| 500/500 [00:04<00:00, 105.03it/s]\n"
          ]
        },
        {
          "output_type": "stream",
          "name": "stdout",
          "text": [
            "epoch 26 \n",
            " Training Loss: 0.21404597254097463\n",
            "Epoch 26 \n",
            " Validation Loss 0.23102383747696875\n"
          ]
        },
        {
          "output_type": "stream",
          "name": "stderr",
          "text": [
            "100%|██████████| 500/500 [00:04<00:00, 103.36it/s]\n"
          ]
        },
        {
          "output_type": "stream",
          "name": "stdout",
          "text": [
            "epoch 27 \n",
            " Training Loss: 0.20989561016857625\n",
            "Epoch 27 \n",
            " Validation Loss 0.22735486663877963\n"
          ]
        },
        {
          "output_type": "stream",
          "name": "stderr",
          "text": [
            "100%|██████████| 500/500 [00:04<00:00, 104.52it/s]\n"
          ]
        },
        {
          "output_type": "stream",
          "name": "stdout",
          "text": [
            "epoch 28 \n",
            " Training Loss: 0.20587757547199725\n",
            "Epoch 28 \n",
            " Validation Loss 0.2237878367304802\n"
          ]
        },
        {
          "output_type": "stream",
          "name": "stderr",
          "text": [
            "100%|██████████| 500/500 [00:04<00:00, 105.94it/s]\n"
          ]
        },
        {
          "output_type": "stream",
          "name": "stdout",
          "text": [
            "epoch 29 \n",
            " Training Loss: 0.20199401696026326\n",
            "Epoch 29 \n",
            " Validation Loss 0.22034209720790388\n"
          ]
        },
        {
          "output_type": "stream",
          "name": "stderr",
          "text": [
            "100%|██████████| 500/500 [00:04<00:00, 104.72it/s]\n"
          ]
        },
        {
          "output_type": "stream",
          "name": "stdout",
          "text": [
            "epoch 30 \n",
            " Training Loss: 0.19823603102564813\n",
            "Epoch 30 \n",
            " Validation Loss 0.2170079904049635\n"
          ]
        },
        {
          "output_type": "stream",
          "name": "stderr",
          "text": [
            "100%|██████████| 500/500 [00:04<00:00, 106.09it/s]\n"
          ]
        },
        {
          "output_type": "stream",
          "name": "stdout",
          "text": [
            "epoch 31 \n",
            " Training Loss: 0.19458858328312637\n",
            "Epoch 31 \n",
            " Validation Loss 0.21376897379755974\n"
          ]
        },
        {
          "output_type": "stream",
          "name": "stderr",
          "text": [
            "100%|██████████| 500/500 [00:04<00:00, 105.15it/s]\n"
          ]
        },
        {
          "output_type": "stream",
          "name": "stdout",
          "text": [
            "epoch 32 \n",
            " Training Loss: 0.1910543894842267\n",
            "Epoch 32 \n",
            " Validation Loss 0.21062782987952233\n"
          ]
        },
        {
          "output_type": "stream",
          "name": "stderr",
          "text": [
            "100%|██████████| 500/500 [00:04<00:00, 102.91it/s]\n"
          ]
        },
        {
          "output_type": "stream",
          "name": "stdout",
          "text": [
            "epoch 33 \n",
            " Training Loss: 0.18763492593914272\n",
            "Epoch 33 \n",
            " Validation Loss 0.20758443638682367\n"
          ]
        },
        {
          "output_type": "stream",
          "name": "stderr",
          "text": [
            "100%|██████████| 500/500 [00:04<00:00, 103.90it/s]\n"
          ]
        },
        {
          "output_type": "stream",
          "name": "stdout",
          "text": [
            "epoch 34 \n",
            " Training Loss: 0.18431505216658114\n",
            "Epoch 34 \n",
            " Validation Loss 0.2046433837711811\n"
          ]
        },
        {
          "output_type": "stream",
          "name": "stderr",
          "text": [
            "100%|██████████| 500/500 [00:04<00:00, 105.72it/s]\n"
          ]
        },
        {
          "output_type": "stream",
          "name": "stdout",
          "text": [
            "epoch 35 \n",
            " Training Loss: 0.18109449477493764\n",
            "Epoch 35 \n",
            " Validation Loss 0.20178934149444103\n"
          ]
        },
        {
          "output_type": "stream",
          "name": "stderr",
          "text": [
            "100%|██████████| 500/500 [00:04<00:00, 105.40it/s]\n"
          ]
        },
        {
          "output_type": "stream",
          "name": "stdout",
          "text": [
            "epoch 36 \n",
            " Training Loss: 0.1779675359725952\n",
            "Epoch 36 \n",
            " Validation Loss 0.1990214840322733\n"
          ]
        },
        {
          "output_type": "stream",
          "name": "stderr",
          "text": [
            "100%|██████████| 500/500 [00:04<00:00, 104.20it/s]\n"
          ]
        },
        {
          "output_type": "stream",
          "name": "stdout",
          "text": [
            "epoch 37 \n",
            " Training Loss: 0.17493520402163268\n",
            "Epoch 37 \n",
            " Validation Loss 0.1963441226631403\n"
          ]
        },
        {
          "output_type": "stream",
          "name": "stderr",
          "text": [
            "100%|██████████| 500/500 [00:04<00:00, 104.07it/s]\n"
          ]
        },
        {
          "output_type": "stream",
          "name": "stdout",
          "text": [
            "epoch 38 \n",
            " Training Loss: 0.17198995918035506\n",
            "Epoch 38 \n",
            " Validation Loss 0.19374835334718227\n"
          ]
        },
        {
          "output_type": "stream",
          "name": "stderr",
          "text": [
            "100%|██████████| 500/500 [00:04<00:00, 103.21it/s]\n"
          ]
        },
        {
          "output_type": "stream",
          "name": "stdout",
          "text": [
            "epoch 39 \n",
            " Training Loss: 0.1691271427348256\n",
            "Epoch 39 \n",
            " Validation Loss 0.19121172167360784\n"
          ]
        },
        {
          "output_type": "stream",
          "name": "stderr",
          "text": [
            "100%|██████████| 500/500 [00:04<00:00, 105.36it/s]\n"
          ]
        },
        {
          "output_type": "stream",
          "name": "stdout",
          "text": [
            "epoch 40 \n",
            " Training Loss: 0.16633933968096973\n",
            "Epoch 40 \n",
            " Validation Loss 0.18874441146850585\n"
          ]
        },
        {
          "output_type": "stream",
          "name": "stderr",
          "text": [
            "100%|██████████| 500/500 [00:04<00:00, 106.06it/s]\n"
          ]
        },
        {
          "output_type": "stream",
          "name": "stdout",
          "text": [
            "epoch 41 \n",
            " Training Loss: 0.16363088918477298\n",
            "Epoch 41 \n",
            " Validation Loss 0.18634037621319294\n"
          ]
        },
        {
          "output_type": "stream",
          "name": "stderr",
          "text": [
            "100%|██████████| 500/500 [00:05<00:00, 91.81it/s]\n"
          ]
        },
        {
          "output_type": "stream",
          "name": "stdout",
          "text": [
            "epoch 42 \n",
            " Training Loss: 0.1610001172348857\n",
            "Epoch 42 \n",
            " Validation Loss 0.1840038488805294\n"
          ]
        },
        {
          "output_type": "stream",
          "name": "stderr",
          "text": [
            "100%|██████████| 500/500 [00:04<00:00, 104.69it/s]\n"
          ]
        },
        {
          "output_type": "stream",
          "name": "stdout",
          "text": [
            "epoch 43 \n",
            " Training Loss: 0.1584388370811939\n",
            "Epoch 43 \n",
            " Validation Loss 0.18172562133520842\n"
          ]
        },
        {
          "output_type": "stream",
          "name": "stderr",
          "text": [
            "100%|██████████| 500/500 [00:04<00:00, 103.17it/s]\n"
          ]
        },
        {
          "output_type": "stream",
          "name": "stdout",
          "text": [
            "epoch 44 \n",
            " Training Loss: 0.1559510069489479\n",
            "Epoch 44 \n",
            " Validation Loss 0.17951921194791795\n"
          ]
        },
        {
          "output_type": "stream",
          "name": "stderr",
          "text": [
            "100%|██████████| 500/500 [00:04<00:00, 103.45it/s]\n"
          ]
        },
        {
          "output_type": "stream",
          "name": "stdout",
          "text": [
            "epoch 45 \n",
            " Training Loss: 0.1535288966819644\n",
            "Epoch 45 \n",
            " Validation Loss 0.17736673027276992\n"
          ]
        },
        {
          "output_type": "stream",
          "name": "stderr",
          "text": [
            "100%|██████████| 500/500 [00:04<00:00, 104.79it/s]\n"
          ]
        },
        {
          "output_type": "stream",
          "name": "stdout",
          "text": [
            "epoch 46 \n",
            " Training Loss: 0.15116764584928752\n",
            "Epoch 46 \n",
            " Validation Loss 0.17527059726417066\n"
          ]
        },
        {
          "output_type": "stream",
          "name": "stderr",
          "text": [
            "100%|██████████| 500/500 [00:04<00:00, 104.70it/s]\n"
          ]
        },
        {
          "output_type": "stream",
          "name": "stdout",
          "text": [
            "epoch 47 \n",
            " Training Loss: 0.14886856415867805\n",
            "Epoch 47 \n",
            " Validation Loss 0.17322841443121434\n"
          ]
        },
        {
          "output_type": "stream",
          "name": "stderr",
          "text": [
            "100%|██████████| 500/500 [00:04<00:00, 103.84it/s]\n"
          ]
        },
        {
          "output_type": "stream",
          "name": "stdout",
          "text": [
            "epoch 48 \n",
            " Training Loss: 0.14663157859444617\n",
            "Epoch 48 \n",
            " Validation Loss 0.17124941743910313\n"
          ]
        },
        {
          "output_type": "stream",
          "name": "stderr",
          "text": [
            "100%|██████████| 500/500 [00:04<00:00, 103.79it/s]\n"
          ]
        },
        {
          "output_type": "stream",
          "name": "stdout",
          "text": [
            "epoch 49 \n",
            " Training Loss: 0.14445416214317083\n",
            "Epoch 49 \n",
            " Validation Loss 0.16933137744665147\n"
          ]
        },
        {
          "output_type": "stream",
          "name": "stderr",
          "text": [
            "100%|██████████| 500/500 [00:04<00:00, 103.47it/s]\n"
          ]
        },
        {
          "output_type": "stream",
          "name": "stdout",
          "text": [
            "epoch 50 \n",
            " Training Loss: 0.14233368771523236\n",
            "Epoch 50 \n",
            " Validation Loss 0.16746569603681563\n"
          ]
        },
        {
          "output_type": "stream",
          "name": "stderr",
          "text": [
            "100%|██████████| 500/500 [00:04<00:00, 102.49it/s]\n"
          ]
        },
        {
          "output_type": "stream",
          "name": "stdout",
          "text": [
            "epoch 51 \n",
            " Training Loss: 0.14026665093749763\n",
            "Epoch 51 \n",
            " Validation Loss 0.1656593017280102\n"
          ]
        },
        {
          "output_type": "stream",
          "name": "stderr",
          "text": [
            "100%|██████████| 500/500 [00:04<00:00, 104.04it/s]\n"
          ]
        },
        {
          "output_type": "stream",
          "name": "stdout",
          "text": [
            "epoch 52 \n",
            " Training Loss: 0.13824972131103277\n",
            "Epoch 52 \n",
            " Validation Loss 0.16389280799776315\n"
          ]
        },
        {
          "output_type": "stream",
          "name": "stderr",
          "text": [
            "100%|██████████| 500/500 [00:04<00:00, 105.32it/s]\n"
          ]
        },
        {
          "output_type": "stream",
          "name": "stdout",
          "text": [
            "epoch 53 \n",
            " Training Loss: 0.13628039569407702\n",
            "Epoch 53 \n",
            " Validation Loss 0.16217910703271626\n"
          ]
        },
        {
          "output_type": "stream",
          "name": "stderr",
          "text": [
            "100%|██████████| 500/500 [00:04<00:00, 105.92it/s]\n"
          ]
        },
        {
          "output_type": "stream",
          "name": "stdout",
          "text": [
            "epoch 54 \n",
            " Training Loss: 0.13435823626071214\n",
            "Epoch 54 \n",
            " Validation Loss 0.1605017189309001\n"
          ]
        },
        {
          "output_type": "stream",
          "name": "stderr",
          "text": [
            "100%|██████████| 500/500 [00:04<00:00, 101.61it/s]\n"
          ]
        },
        {
          "output_type": "stream",
          "name": "stdout",
          "text": [
            "epoch 55 \n",
            " Training Loss: 0.1324798887297511\n",
            "Epoch 55 \n",
            " Validation Loss 0.1588714314624667\n"
          ]
        },
        {
          "output_type": "stream",
          "name": "stderr",
          "text": [
            "100%|██████████| 500/500 [00:04<00:00, 105.43it/s]\n"
          ]
        },
        {
          "output_type": "stream",
          "name": "stdout",
          "text": [
            "epoch 56 \n",
            " Training Loss: 0.13064543048292399\n",
            "Epoch 56 \n",
            " Validation Loss 0.15727630883455276\n"
          ]
        },
        {
          "output_type": "stream",
          "name": "stderr",
          "text": [
            "100%|██████████| 500/500 [00:04<00:00, 104.11it/s]\n"
          ]
        },
        {
          "output_type": "stream",
          "name": "stdout",
          "text": [
            "epoch 57 \n",
            " Training Loss: 0.12885673338919879\n",
            "Epoch 57 \n",
            " Validation Loss 0.155732541680336\n"
          ]
        },
        {
          "output_type": "stream",
          "name": "stderr",
          "text": [
            "100%|██████████| 500/500 [00:04<00:00, 104.05it/s]\n"
          ]
        },
        {
          "output_type": "stream",
          "name": "stdout",
          "text": [
            "epoch 58 \n",
            " Training Loss: 0.12710962542146445\n",
            "Epoch 58 \n",
            " Validation Loss 0.15422241177409887\n"
          ]
        },
        {
          "output_type": "stream",
          "name": "stderr",
          "text": [
            "100%|██████████| 500/500 [00:04<00:00, 104.20it/s]\n"
          ]
        },
        {
          "output_type": "stream",
          "name": "stdout",
          "text": [
            "epoch 59 \n",
            " Training Loss: 0.12540438113361596\n",
            "Epoch 59 \n",
            " Validation Loss 0.1527543755620718\n"
          ]
        },
        {
          "output_type": "stream",
          "name": "stderr",
          "text": [
            "100%|██████████| 500/500 [00:04<00:00, 103.07it/s]\n"
          ]
        },
        {
          "output_type": "stream",
          "name": "stdout",
          "text": [
            "epoch 60 \n",
            " Training Loss: 0.12373769509792328\n",
            "Epoch 60 \n",
            " Validation Loss 0.15132844321429728\n"
          ]
        },
        {
          "output_type": "stream",
          "name": "stderr",
          "text": [
            "100%|██████████| 500/500 [00:04<00:00, 104.56it/s]\n"
          ]
        },
        {
          "output_type": "stream",
          "name": "stdout",
          "text": [
            "epoch 61 \n",
            " Training Loss: 0.12210899797827006\n",
            "Epoch 61 \n",
            " Validation Loss 0.14994349498301746\n"
          ]
        },
        {
          "output_type": "stream",
          "name": "stderr",
          "text": [
            "100%|██████████| 500/500 [00:04<00:00, 105.43it/s]\n"
          ]
        },
        {
          "output_type": "stream",
          "name": "stdout",
          "text": [
            "epoch 62 \n",
            " Training Loss: 0.12051983453333377\n",
            "Epoch 62 \n",
            " Validation Loss 0.14860002990812063\n"
          ]
        },
        {
          "output_type": "stream",
          "name": "stderr",
          "text": [
            "100%|██████████| 500/500 [00:04<00:00, 104.13it/s]\n"
          ]
        },
        {
          "output_type": "stream",
          "name": "stdout",
          "text": [
            "epoch 63 \n",
            " Training Loss: 0.11896906629949808\n",
            "Epoch 63 \n",
            " Validation Loss 0.14729408975690603\n"
          ]
        },
        {
          "output_type": "stream",
          "name": "stderr",
          "text": [
            "100%|██████████| 500/500 [00:04<00:00, 105.05it/s]\n"
          ]
        },
        {
          "output_type": "stream",
          "name": "stdout",
          "text": [
            "epoch 64 \n",
            " Training Loss: 0.11745244009792805\n",
            "Epoch 64 \n",
            " Validation Loss 0.14602171149104834\n"
          ]
        },
        {
          "output_type": "stream",
          "name": "stderr",
          "text": [
            "100%|██████████| 500/500 [00:05<00:00, 89.40it/s] \n"
          ]
        },
        {
          "output_type": "stream",
          "name": "stdout",
          "text": [
            "epoch 65 \n",
            " Training Loss: 0.11597187141701579\n",
            "Epoch 65 \n",
            " Validation Loss 0.14478774692863225\n"
          ]
        },
        {
          "output_type": "stream",
          "name": "stderr",
          "text": [
            "100%|██████████| 500/500 [00:04<00:00, 101.62it/s]\n"
          ]
        },
        {
          "output_type": "stream",
          "name": "stdout",
          "text": [
            "epoch 66 \n",
            " Training Loss: 0.11452026196569204\n",
            "Epoch 66 \n",
            " Validation Loss 0.1435806255042553\n"
          ]
        },
        {
          "output_type": "stream",
          "name": "stderr",
          "text": [
            "100%|██████████| 500/500 [00:04<00:00, 102.47it/s]\n"
          ]
        },
        {
          "output_type": "stream",
          "name": "stdout",
          "text": [
            "epoch 67 \n",
            " Training Loss: 0.11310034826025367\n",
            "Epoch 67 \n",
            " Validation Loss 0.14239791180938483\n"
          ]
        },
        {
          "output_type": "stream",
          "name": "stderr",
          "text": [
            "100%|██████████| 500/500 [00:04<00:00, 104.62it/s]\n"
          ]
        },
        {
          "output_type": "stream",
          "name": "stdout",
          "text": [
            "epoch 68 \n",
            " Training Loss: 0.11171208053454756\n",
            "Epoch 68 \n",
            " Validation Loss 0.1412438740581274\n"
          ]
        },
        {
          "output_type": "stream",
          "name": "stderr",
          "text": [
            "100%|██████████| 500/500 [00:04<00:00, 103.87it/s]\n"
          ]
        },
        {
          "output_type": "stream",
          "name": "stdout",
          "text": [
            "epoch 69 \n",
            " Training Loss: 0.11035265745222568\n",
            "Epoch 69 \n",
            " Validation Loss 0.14011840485036373\n"
          ]
        },
        {
          "output_type": "stream",
          "name": "stderr",
          "text": [
            "100%|██████████| 500/500 [00:04<00:00, 104.47it/s]\n"
          ]
        },
        {
          "output_type": "stream",
          "name": "stdout",
          "text": [
            "epoch 70 \n",
            " Training Loss: 0.10902155615016818\n",
            "Epoch 70 \n",
            " Validation Loss 0.13902034848928452\n"
          ]
        },
        {
          "output_type": "stream",
          "name": "stderr",
          "text": [
            "100%|██████████| 500/500 [00:04<00:00, 102.75it/s]\n"
          ]
        },
        {
          "output_type": "stream",
          "name": "stdout",
          "text": [
            "epoch 71 \n",
            " Training Loss: 0.10771878895163536\n",
            "Epoch 71 \n",
            " Validation Loss 0.13794332407414914\n"
          ]
        },
        {
          "output_type": "stream",
          "name": "stderr",
          "text": [
            "100%|██████████| 500/500 [00:04<00:00, 104.78it/s]\n"
          ]
        },
        {
          "output_type": "stream",
          "name": "stdout",
          "text": [
            "epoch 72 \n",
            " Training Loss: 0.10644329750537872\n",
            "Epoch 72 \n",
            " Validation Loss 0.1368918063491583\n"
          ]
        },
        {
          "output_type": "stream",
          "name": "stderr",
          "text": [
            "100%|██████████| 500/500 [00:04<00:00, 104.69it/s]\n"
          ]
        },
        {
          "output_type": "stream",
          "name": "stdout",
          "text": [
            "epoch 73 \n",
            " Training Loss: 0.1051948290206492\n",
            "Epoch 73 \n",
            " Validation Loss 0.13586826775223015\n"
          ]
        },
        {
          "output_type": "stream",
          "name": "stderr",
          "text": [
            "100%|██████████| 500/500 [00:04<00:00, 105.29it/s]\n"
          ]
        },
        {
          "output_type": "stream",
          "name": "stdout",
          "text": [
            "epoch 74 \n",
            " Training Loss: 0.10397223757952452\n",
            "Epoch 74 \n",
            " Validation Loss 0.13486613146960735\n"
          ]
        },
        {
          "output_type": "stream",
          "name": "stderr",
          "text": [
            "100%|██████████| 500/500 [00:04<00:00, 104.32it/s]\n"
          ]
        },
        {
          "output_type": "stream",
          "name": "stdout",
          "text": [
            "epoch 75 \n",
            " Training Loss: 0.10277582846581935\n",
            "Epoch 75 \n",
            " Validation Loss 0.13388640351593495\n"
          ]
        },
        {
          "output_type": "stream",
          "name": "stderr",
          "text": [
            "100%|██████████| 500/500 [00:04<00:00, 101.91it/s]\n"
          ]
        },
        {
          "output_type": "stream",
          "name": "stdout",
          "text": [
            "epoch 76 \n",
            " Training Loss: 0.10160189608857036\n",
            "Epoch 76 \n",
            " Validation Loss 0.13293666109442712\n"
          ]
        },
        {
          "output_type": "stream",
          "name": "stderr",
          "text": [
            "100%|██████████| 500/500 [00:04<00:00, 104.94it/s]\n"
          ]
        },
        {
          "output_type": "stream",
          "name": "stdout",
          "text": [
            "epoch 77 \n",
            " Training Loss: 0.10045090495422483\n",
            "Epoch 77 \n",
            " Validation Loss 0.13200573045760394\n"
          ]
        },
        {
          "output_type": "stream",
          "name": "stderr",
          "text": [
            "100%|██████████| 500/500 [00:04<00:00, 104.52it/s]\n"
          ]
        },
        {
          "output_type": "stream",
          "name": "stdout",
          "text": [
            "epoch 78 \n",
            " Training Loss: 0.09932224882394075\n",
            "Epoch 78 \n",
            " Validation Loss 0.13110171552747488\n"
          ]
        },
        {
          "output_type": "stream",
          "name": "stderr",
          "text": [
            "100%|██████████| 500/500 [00:04<00:00, 103.80it/s]\n"
          ]
        },
        {
          "output_type": "stream",
          "name": "stdout",
          "text": [
            "epoch 79 \n",
            " Training Loss: 0.09821524769812823\n",
            "Epoch 79 \n",
            " Validation Loss 0.13021869683638215\n"
          ]
        },
        {
          "output_type": "stream",
          "name": "stderr",
          "text": [
            "100%|██████████| 500/500 [00:04<00:00, 103.03it/s]\n"
          ]
        },
        {
          "output_type": "stream",
          "name": "stdout",
          "text": [
            "epoch 80 \n",
            " Training Loss: 0.09712732411175966\n",
            "Epoch 80 \n",
            " Validation Loss 0.12935164473950864\n"
          ]
        },
        {
          "output_type": "stream",
          "name": "stderr",
          "text": [
            "100%|██████████| 500/500 [00:04<00:00, 103.83it/s]\n"
          ]
        },
        {
          "output_type": "stream",
          "name": "stdout",
          "text": [
            "epoch 81 \n",
            " Training Loss: 0.09606118992343544\n",
            "Epoch 81 \n",
            " Validation Loss 0.12850161280483008\n"
          ]
        },
        {
          "output_type": "stream",
          "name": "stderr",
          "text": [
            "100%|██████████| 500/500 [00:04<00:00, 100.89it/s]\n"
          ]
        },
        {
          "output_type": "stream",
          "name": "stdout",
          "text": [
            "epoch 82 \n",
            " Training Loss: 0.09501276426762342\n",
            "Epoch 82 \n",
            " Validation Loss 0.12766636969521641\n"
          ]
        },
        {
          "output_type": "stream",
          "name": "stderr",
          "text": [
            "100%|██████████| 500/500 [00:04<00:00, 105.64it/s]\n"
          ]
        },
        {
          "output_type": "stream",
          "name": "stdout",
          "text": [
            "epoch 83 \n",
            " Training Loss: 0.09398394346609712\n",
            "Epoch 83 \n",
            " Validation Loss 0.12684658134356142\n"
          ]
        },
        {
          "output_type": "stream",
          "name": "stderr",
          "text": [
            "100%|██████████| 500/500 [00:04<00:00, 105.13it/s]\n"
          ]
        },
        {
          "output_type": "stream",
          "name": "stdout",
          "text": [
            "epoch 84 \n",
            " Training Loss: 0.09297204489260912\n",
            "Epoch 84 \n",
            " Validation Loss 0.1260506135970354\n"
          ]
        },
        {
          "output_type": "stream",
          "name": "stderr",
          "text": [
            "100%|██████████| 500/500 [00:04<00:00, 105.07it/s]\n"
          ]
        },
        {
          "output_type": "stream",
          "name": "stdout",
          "text": [
            "epoch 85 \n",
            " Training Loss: 0.09198059077560902\n",
            "Epoch 85 \n",
            " Validation Loss 0.12526797398924827\n"
          ]
        },
        {
          "output_type": "stream",
          "name": "stderr",
          "text": [
            "100%|██████████| 500/500 [00:04<00:00, 105.46it/s]\n"
          ]
        },
        {
          "output_type": "stream",
          "name": "stdout",
          "text": [
            "epoch 86 \n",
            " Training Loss: 0.0910046694278717\n",
            "Epoch 86 \n",
            " Validation Loss 0.12450253915041685\n"
          ]
        },
        {
          "output_type": "stream",
          "name": "stderr",
          "text": [
            "100%|██████████| 500/500 [00:05<00:00, 92.83it/s]\n"
          ]
        },
        {
          "output_type": "stream",
          "name": "stdout",
          "text": [
            "epoch 87 \n",
            " Training Loss: 0.09004837220162153\n",
            "Epoch 87 \n",
            " Validation Loss 0.12374914050102234\n"
          ]
        },
        {
          "output_type": "stream",
          "name": "stderr",
          "text": [
            "100%|██████████| 500/500 [00:04<00:00, 104.12it/s]\n"
          ]
        },
        {
          "output_type": "stream",
          "name": "stdout",
          "text": [
            "epoch 88 \n",
            " Training Loss: 0.0891087613478303\n",
            "Epoch 88 \n",
            " Validation Loss 0.12301204742863775\n"
          ]
        },
        {
          "output_type": "stream",
          "name": "stderr",
          "text": [
            "100%|██████████| 500/500 [00:04<00:00, 104.27it/s]\n"
          ]
        },
        {
          "output_type": "stream",
          "name": "stdout",
          "text": [
            "epoch 89 \n",
            " Training Loss: 0.0881866208910942\n",
            "Epoch 89 \n",
            " Validation Loss 0.12229440001770854\n"
          ]
        },
        {
          "output_type": "stream",
          "name": "stderr",
          "text": [
            "100%|██████████| 500/500 [00:04<00:00, 103.76it/s]\n"
          ]
        },
        {
          "output_type": "stream",
          "name": "stdout",
          "text": [
            "epoch 90 \n",
            " Training Loss: 0.08728128699585795\n",
            "Epoch 90 \n",
            " Validation Loss 0.12158533059060574\n"
          ]
        },
        {
          "output_type": "stream",
          "name": "stderr",
          "text": [
            "100%|██████████| 500/500 [00:04<00:00, 104.50it/s]\n"
          ]
        },
        {
          "output_type": "stream",
          "name": "stdout",
          "text": [
            "epoch 91 \n",
            " Training Loss: 0.08638869402185083\n",
            "Epoch 91 \n",
            " Validation Loss 0.12089059578254818\n"
          ]
        },
        {
          "output_type": "stream",
          "name": "stderr",
          "text": [
            "100%|██████████| 500/500 [00:04<00:00, 102.75it/s]\n"
          ]
        },
        {
          "output_type": "stream",
          "name": "stdout",
          "text": [
            "epoch 92 \n",
            " Training Loss: 0.08551210669055581\n",
            "Epoch 92 \n",
            " Validation Loss 0.12021197758615017\n"
          ]
        },
        {
          "output_type": "stream",
          "name": "stderr",
          "text": [
            "100%|██████████| 500/500 [00:04<00:00, 103.56it/s]\n"
          ]
        },
        {
          "output_type": "stream",
          "name": "stdout",
          "text": [
            "epoch 93 \n",
            " Training Loss: 0.08465016867592931\n",
            "Epoch 93 \n",
            " Validation Loss 0.11953857166692615\n"
          ]
        },
        {
          "output_type": "stream",
          "name": "stderr",
          "text": [
            "100%|██████████| 500/500 [00:04<00:00, 103.21it/s]\n"
          ]
        },
        {
          "output_type": "stream",
          "name": "stdout",
          "text": [
            "epoch 94 \n",
            " Training Loss: 0.08380172925069929\n",
            "Epoch 94 \n",
            " Validation Loss 0.11889099307358265\n"
          ]
        },
        {
          "output_type": "stream",
          "name": "stderr",
          "text": [
            "100%|██████████| 500/500 [00:04<00:00, 103.95it/s]\n"
          ]
        },
        {
          "output_type": "stream",
          "name": "stdout",
          "text": [
            "epoch 95 \n",
            " Training Loss: 0.08296833727508783\n",
            "Epoch 95 \n",
            " Validation Loss 0.11824679588899016\n"
          ]
        },
        {
          "output_type": "stream",
          "name": "stderr",
          "text": [
            "100%|██████████| 500/500 [00:04<00:00, 105.55it/s]\n"
          ]
        },
        {
          "output_type": "stream",
          "name": "stdout",
          "text": [
            "epoch 96 \n",
            " Training Loss: 0.08215028119832277\n",
            "Epoch 96 \n",
            " Validation Loss 0.11761557055637241\n"
          ]
        },
        {
          "output_type": "stream",
          "name": "stderr",
          "text": [
            "100%|██████████| 500/500 [00:04<00:00, 104.03it/s]\n"
          ]
        },
        {
          "output_type": "stream",
          "name": "stdout",
          "text": [
            "epoch 97 \n",
            " Training Loss: 0.08134618064016104\n",
            "Epoch 97 \n",
            " Validation Loss 0.11700897119939327\n"
          ]
        },
        {
          "output_type": "stream",
          "name": "stderr",
          "text": [
            "100%|██████████| 500/500 [00:04<00:00, 102.42it/s]\n"
          ]
        },
        {
          "output_type": "stream",
          "name": "stdout",
          "text": [
            "epoch 98 \n",
            " Training Loss: 0.08055458070710302\n",
            "Epoch 98 \n",
            " Validation Loss 0.1163987666554749\n"
          ]
        },
        {
          "output_type": "stream",
          "name": "stderr",
          "text": [
            "100%|██████████| 500/500 [00:04<00:00, 105.41it/s]\n"
          ]
        },
        {
          "output_type": "stream",
          "name": "stdout",
          "text": [
            "epoch 99 \n",
            " Training Loss: 0.07977467257902027\n",
            "Epoch 99 \n",
            " Validation Loss 0.11580653151497244\n"
          ]
        },
        {
          "output_type": "stream",
          "name": "stderr",
          "text": [
            "100%|██████████| 500/500 [00:04<00:00, 103.92it/s]\n"
          ]
        },
        {
          "output_type": "stream",
          "name": "stdout",
          "text": [
            "epoch 100 \n",
            " Training Loss: 0.07900837200507521\n",
            "Epoch 100 \n",
            " Validation Loss 0.11522232040762902\n"
          ]
        },
        {
          "output_type": "stream",
          "name": "stderr",
          "text": [
            "100%|██████████| 500/500 [00:04<00:00, 104.79it/s]\n"
          ]
        },
        {
          "output_type": "stream",
          "name": "stdout",
          "text": [
            "epoch 101 \n",
            " Training Loss: 0.07825379237160086\n",
            "Epoch 101 \n",
            " Validation Loss 0.11464856242761017\n"
          ]
        },
        {
          "output_type": "stream",
          "name": "stderr",
          "text": [
            "100%|██████████| 500/500 [00:04<00:00, 103.98it/s]\n"
          ]
        },
        {
          "output_type": "stream",
          "name": "stdout",
          "text": [
            "epoch 102 \n",
            " Training Loss: 0.07751098055392504\n",
            "Epoch 102 \n",
            " Validation Loss 0.11409273732453584\n"
          ]
        },
        {
          "output_type": "stream",
          "name": "stderr",
          "text": [
            "100%|██████████| 500/500 [00:04<00:00, 100.99it/s]\n"
          ]
        },
        {
          "output_type": "stream",
          "name": "stdout",
          "text": [
            "epoch 103 \n",
            " Training Loss: 0.07678073009103537\n",
            "Epoch 103 \n",
            " Validation Loss 0.11354099465534091\n"
          ]
        },
        {
          "output_type": "stream",
          "name": "stderr",
          "text": [
            "100%|██████████| 500/500 [00:04<00:00, 104.26it/s]\n"
          ]
        },
        {
          "output_type": "stream",
          "name": "stdout",
          "text": [
            "epoch 104 \n",
            " Training Loss: 0.07606050832942128\n",
            "Epoch 104 \n",
            " Validation Loss 0.11300559964030982\n"
          ]
        },
        {
          "output_type": "stream",
          "name": "stderr",
          "text": [
            "100%|██████████| 500/500 [00:04<00:00, 103.87it/s]\n"
          ]
        },
        {
          "output_type": "stream",
          "name": "stdout",
          "text": [
            "epoch 105 \n",
            " Training Loss: 0.07535271061584353\n",
            "Epoch 105 \n",
            " Validation Loss 0.11247686007991434\n"
          ]
        },
        {
          "output_type": "stream",
          "name": "stderr",
          "text": [
            "100%|██████████| 500/500 [00:04<00:00, 104.49it/s]\n"
          ]
        },
        {
          "output_type": "stream",
          "name": "stdout",
          "text": [
            "epoch 106 \n",
            " Training Loss: 0.0746555699966848\n",
            "Epoch 106 \n",
            " Validation Loss 0.11196177100762725\n"
          ]
        },
        {
          "output_type": "stream",
          "name": "stderr",
          "text": [
            "100%|██████████| 500/500 [00:04<00:00, 104.74it/s]\n"
          ]
        },
        {
          "output_type": "stream",
          "name": "stdout",
          "text": [
            "epoch 107 \n",
            " Training Loss: 0.0739686772339046\n",
            "Epoch 107 \n",
            " Validation Loss 0.11144991857931018\n"
          ]
        },
        {
          "output_type": "stream",
          "name": "stderr",
          "text": [
            "100%|██████████| 500/500 [00:04<00:00, 103.60it/s]\n"
          ]
        },
        {
          "output_type": "stream",
          "name": "stdout",
          "text": [
            "epoch 108 \n",
            " Training Loss: 0.07329329472035169\n",
            "Epoch 108 \n",
            " Validation Loss 0.11095562350004912\n"
          ]
        },
        {
          "output_type": "stream",
          "name": "stderr",
          "text": [
            "100%|██████████| 500/500 [00:04<00:00, 103.09it/s]\n"
          ]
        },
        {
          "output_type": "stream",
          "name": "stdout",
          "text": [
            "epoch 109 \n",
            " Training Loss: 0.0726258082985878\n",
            "Epoch 109 \n",
            " Validation Loss 0.11046577844768762\n"
          ]
        },
        {
          "output_type": "stream",
          "name": "stderr",
          "text": [
            "100%|██████████| 500/500 [00:05<00:00, 93.45it/s] \n"
          ]
        },
        {
          "output_type": "stream",
          "name": "stdout",
          "text": [
            "epoch 110 \n",
            " Training Loss: 0.07197122476994991\n",
            "Epoch 110 \n",
            " Validation Loss 0.10998336607590317\n"
          ]
        },
        {
          "output_type": "stream",
          "name": "stderr",
          "text": [
            "100%|██████████| 500/500 [00:04<00:00, 104.28it/s]\n"
          ]
        },
        {
          "output_type": "stream",
          "name": "stdout",
          "text": [
            "epoch 111 \n",
            " Training Loss: 0.07132453132793307\n",
            "Epoch 111 \n",
            " Validation Loss 0.10951201902702451\n"
          ]
        },
        {
          "output_type": "stream",
          "name": "stderr",
          "text": [
            "100%|██████████| 500/500 [00:04<00:00, 102.95it/s]\n"
          ]
        },
        {
          "output_type": "stream",
          "name": "stdout",
          "text": [
            "epoch 112 \n",
            " Training Loss: 0.07068812604993582\n",
            "Epoch 112 \n",
            " Validation Loss 0.10904668226838111\n"
          ]
        },
        {
          "output_type": "stream",
          "name": "stderr",
          "text": [
            "100%|██████████| 500/500 [00:04<00:00, 103.91it/s]\n"
          ]
        },
        {
          "output_type": "stream",
          "name": "stdout",
          "text": [
            "epoch 113 \n",
            " Training Loss: 0.07006151436641812\n",
            "Epoch 113 \n",
            " Validation Loss 0.10858852950856089\n"
          ]
        },
        {
          "output_type": "stream",
          "name": "stderr",
          "text": [
            "100%|██████████| 500/500 [00:04<00:00, 103.21it/s]\n"
          ]
        },
        {
          "output_type": "stream",
          "name": "stdout",
          "text": [
            "epoch 114 \n",
            " Training Loss: 0.06944376331195236\n",
            "Epoch 114 \n",
            " Validation Loss 0.10814603356644512\n"
          ]
        },
        {
          "output_type": "stream",
          "name": "stderr",
          "text": [
            "100%|██████████| 500/500 [00:04<00:00, 103.71it/s]\n"
          ]
        },
        {
          "output_type": "stream",
          "name": "stdout",
          "text": [
            "epoch 115 \n",
            " Training Loss: 0.06883397998102009\n",
            "Epoch 115 \n",
            " Validation Loss 0.10770281590521336\n"
          ]
        },
        {
          "output_type": "stream",
          "name": "stderr",
          "text": [
            "100%|██████████| 500/500 [00:04<00:00, 104.41it/s]\n"
          ]
        },
        {
          "output_type": "stream",
          "name": "stdout",
          "text": [
            "epoch 116 \n",
            " Training Loss: 0.06823395424522459\n",
            "Epoch 116 \n",
            " Validation Loss 0.10727294974029064\n"
          ]
        },
        {
          "output_type": "stream",
          "name": "stderr",
          "text": [
            "100%|██████████| 500/500 [00:04<00:00, 103.81it/s]\n"
          ]
        },
        {
          "output_type": "stream",
          "name": "stdout",
          "text": [
            "epoch 117 \n",
            " Training Loss: 0.06764248698949814\n",
            "Epoch 117 \n",
            " Validation Loss 0.10684701021760702\n"
          ]
        },
        {
          "output_type": "stream",
          "name": "stderr",
          "text": [
            "100%|██████████| 500/500 [00:04<00:00, 104.05it/s]\n"
          ]
        },
        {
          "output_type": "stream",
          "name": "stdout",
          "text": [
            "epoch 118 \n",
            " Training Loss: 0.06705974110588431\n",
            "Epoch 118 \n",
            " Validation Loss 0.10643442619591952\n"
          ]
        },
        {
          "output_type": "stream",
          "name": "stderr",
          "text": [
            "100%|██████████| 500/500 [00:05<00:00, 98.41it/s]\n"
          ]
        },
        {
          "output_type": "stream",
          "name": "stdout",
          "text": [
            "epoch 119 \n",
            " Training Loss: 0.06648384634405374\n",
            "Epoch 119 \n",
            " Validation Loss 0.10603229373693467\n"
          ]
        },
        {
          "output_type": "stream",
          "name": "stderr",
          "text": [
            "100%|██████████| 500/500 [00:04<00:00, 102.67it/s]\n"
          ]
        },
        {
          "output_type": "stream",
          "name": "stdout",
          "text": [
            "epoch 120 \n",
            " Training Loss: 0.06591620073281229\n",
            "Epoch 120 \n",
            " Validation Loss 0.10563227182254195\n"
          ]
        },
        {
          "output_type": "stream",
          "name": "stderr",
          "text": [
            "100%|██████████| 500/500 [00:04<00:00, 102.52it/s]\n"
          ]
        },
        {
          "output_type": "stream",
          "name": "stdout",
          "text": [
            "epoch 121 \n",
            " Training Loss: 0.06535658416338265\n",
            "Epoch 121 \n",
            " Validation Loss 0.1052412142418325\n"
          ]
        },
        {
          "output_type": "stream",
          "name": "stderr",
          "text": [
            "100%|██████████| 500/500 [00:04<00:00, 100.04it/s]\n"
          ]
        },
        {
          "output_type": "stream",
          "name": "stdout",
          "text": [
            "epoch 122 \n",
            " Training Loss: 0.0648052572440356\n",
            "Epoch 122 \n",
            " Validation Loss 0.10485586551949382\n"
          ]
        },
        {
          "output_type": "stream",
          "name": "stderr",
          "text": [
            "100%|██████████| 500/500 [00:04<00:00, 103.13it/s]\n"
          ]
        },
        {
          "output_type": "stream",
          "name": "stdout",
          "text": [
            "epoch 123 \n",
            " Training Loss: 0.06426122243702412\n",
            "Epoch 123 \n",
            " Validation Loss 0.10447790009900927\n"
          ]
        },
        {
          "output_type": "stream",
          "name": "stderr",
          "text": [
            "100%|██████████| 500/500 [00:04<00:00, 102.31it/s]\n"
          ]
        },
        {
          "output_type": "stream",
          "name": "stdout",
          "text": [
            "epoch 124 \n",
            " Training Loss: 0.06372448490001262\n",
            "Epoch 124 \n",
            " Validation Loss 0.10410901520401239\n"
          ]
        },
        {
          "output_type": "stream",
          "name": "stderr",
          "text": [
            "100%|██████████| 500/500 [00:04<00:00, 104.70it/s]\n"
          ]
        },
        {
          "output_type": "stream",
          "name": "stdout",
          "text": [
            "epoch 125 \n",
            " Training Loss: 0.06319406201504171\n",
            "Epoch 125 \n",
            " Validation Loss 0.10374287143349648\n"
          ]
        },
        {
          "output_type": "stream",
          "name": "stderr",
          "text": [
            "100%|██████████| 500/500 [00:04<00:00, 104.29it/s]\n"
          ]
        },
        {
          "output_type": "stream",
          "name": "stdout",
          "text": [
            "epoch 126 \n",
            " Training Loss: 0.06267286118119955\n",
            "Epoch 126 \n",
            " Validation Loss 0.10338409757241607\n"
          ]
        },
        {
          "output_type": "stream",
          "name": "stderr",
          "text": [
            "100%|██████████| 500/500 [00:04<00:00, 104.79it/s]\n"
          ]
        },
        {
          "output_type": "stream",
          "name": "stdout",
          "text": [
            "epoch 127 \n",
            " Training Loss: 0.06215738961845636\n",
            "Epoch 127 \n",
            " Validation Loss 0.10303535159677267\n"
          ]
        },
        {
          "output_type": "stream",
          "name": "stderr",
          "text": [
            "100%|██████████| 500/500 [00:04<00:00, 105.83it/s]\n"
          ]
        },
        {
          "output_type": "stream",
          "name": "stdout",
          "text": [
            "epoch 128 \n",
            " Training Loss: 0.06164944196119904\n",
            "Epoch 128 \n",
            " Validation Loss 0.10269110510125756\n"
          ]
        },
        {
          "output_type": "stream",
          "name": "stderr",
          "text": [
            "100%|██████████| 500/500 [00:04<00:00, 103.97it/s]\n"
          ]
        },
        {
          "output_type": "stream",
          "name": "stdout",
          "text": [
            "epoch 129 \n",
            " Training Loss: 0.06114733457937837\n",
            "Epoch 129 \n",
            " Validation Loss 0.10235627768561244\n"
          ]
        },
        {
          "output_type": "stream",
          "name": "stderr",
          "text": [
            "100%|██████████| 500/500 [00:04<00:00, 101.12it/s]\n"
          ]
        },
        {
          "output_type": "stream",
          "name": "stdout",
          "text": [
            "epoch 130 \n",
            " Training Loss: 0.06065148950740695\n",
            "Epoch 130 \n",
            " Validation Loss 0.1020157909579575\n"
          ]
        },
        {
          "output_type": "stream",
          "name": "stderr",
          "text": [
            "100%|██████████| 500/500 [00:04<00:00, 104.70it/s]\n"
          ]
        },
        {
          "output_type": "stream",
          "name": "stdout",
          "text": [
            "epoch 131 \n",
            " Training Loss: 0.06016115157864988\n",
            "Epoch 131 \n",
            " Validation Loss 0.1016865792684257\n"
          ]
        },
        {
          "output_type": "stream",
          "name": "stderr",
          "text": [
            "100%|██████████| 500/500 [00:05<00:00, 90.10it/s]\n"
          ]
        },
        {
          "output_type": "stream",
          "name": "stdout",
          "text": [
            "epoch 132 \n",
            " Training Loss: 0.05967899581976235\n",
            "Epoch 132 \n",
            " Validation Loss 0.10136656133458018\n"
          ]
        },
        {
          "output_type": "stream",
          "name": "stderr",
          "text": [
            "100%|██████████| 500/500 [00:04<00:00, 104.06it/s]\n"
          ]
        },
        {
          "output_type": "stream",
          "name": "stdout",
          "text": [
            "epoch 133 \n",
            " Training Loss: 0.05920161903835833\n",
            "Epoch 133 \n",
            " Validation Loss 0.10104848105460405\n"
          ]
        },
        {
          "output_type": "stream",
          "name": "stderr",
          "text": [
            "100%|██████████| 500/500 [00:04<00:00, 102.36it/s]\n"
          ]
        },
        {
          "output_type": "stream",
          "name": "stdout",
          "text": [
            "epoch 134 \n",
            " Training Loss: 0.058730131400749085\n",
            "Epoch 134 \n",
            " Validation Loss 0.10073095552623272\n"
          ]
        },
        {
          "output_type": "stream",
          "name": "stderr",
          "text": [
            "100%|██████████| 500/500 [00:05<00:00, 99.83it/s] \n"
          ]
        },
        {
          "output_type": "stream",
          "name": "stdout",
          "text": [
            "epoch 135 \n",
            " Training Loss: 0.058264789707958696\n",
            "Epoch 135 \n",
            " Validation Loss 0.10042432840913534\n"
          ]
        },
        {
          "output_type": "stream",
          "name": "stderr",
          "text": [
            "100%|██████████| 500/500 [00:04<00:00, 102.48it/s]\n"
          ]
        },
        {
          "output_type": "stream",
          "name": "stdout",
          "text": [
            "epoch 136 \n",
            " Training Loss: 0.057806315576657656\n",
            "Epoch 136 \n",
            " Validation Loss 0.10011773115023971\n"
          ]
        },
        {
          "output_type": "stream",
          "name": "stderr",
          "text": [
            "100%|██████████| 500/500 [00:04<00:00, 103.02it/s]\n"
          ]
        },
        {
          "output_type": "stream",
          "name": "stdout",
          "text": [
            "epoch 137 \n",
            " Training Loss: 0.05735253899544478\n",
            "Epoch 137 \n",
            " Validation Loss 0.09981970006600022\n"
          ]
        },
        {
          "output_type": "stream",
          "name": "stderr",
          "text": [
            "100%|██████████| 500/500 [00:04<00:00, 103.88it/s]\n"
          ]
        },
        {
          "output_type": "stream",
          "name": "stdout",
          "text": [
            "epoch 138 \n",
            " Training Loss: 0.0569042181391269\n",
            "Epoch 138 \n",
            " Validation Loss 0.09953044198453426\n"
          ]
        },
        {
          "output_type": "stream",
          "name": "stderr",
          "text": [
            "100%|██████████| 500/500 [00:04<00:00, 104.87it/s]\n"
          ]
        },
        {
          "output_type": "stream",
          "name": "stdout",
          "text": [
            "epoch 139 \n",
            " Training Loss: 0.056462566256523135\n",
            "Epoch 139 \n",
            " Validation Loss 0.09923911165446044\n"
          ]
        },
        {
          "output_type": "stream",
          "name": "stderr",
          "text": [
            "100%|██████████| 500/500 [00:04<00:00, 102.58it/s]\n"
          ]
        },
        {
          "output_type": "stream",
          "name": "stdout",
          "text": [
            "epoch 140 \n",
            " Training Loss: 0.056025702655315396\n",
            "Epoch 140 \n",
            " Validation Loss 0.0989491138793528\n"
          ]
        },
        {
          "output_type": "stream",
          "name": "stderr",
          "text": [
            "100%|██████████| 500/500 [00:04<00:00, 103.92it/s]\n"
          ]
        },
        {
          "output_type": "stream",
          "name": "stdout",
          "text": [
            "epoch 141 \n",
            " Training Loss: 0.05559419396333396\n",
            "Epoch 141 \n",
            " Validation Loss 0.09867232870310545\n"
          ]
        },
        {
          "output_type": "stream",
          "name": "stderr",
          "text": [
            "100%|██████████| 500/500 [00:04<00:00, 104.05it/s]\n"
          ]
        },
        {
          "output_type": "stream",
          "name": "stdout",
          "text": [
            "epoch 142 \n",
            " Training Loss: 0.05516793595068157\n",
            "Epoch 142 \n",
            " Validation Loss 0.09839639756828547\n"
          ]
        },
        {
          "output_type": "stream",
          "name": "stderr",
          "text": [
            "100%|██████████| 500/500 [00:04<00:00, 103.80it/s]\n"
          ]
        },
        {
          "output_type": "stream",
          "name": "stdout",
          "text": [
            "epoch 143 \n",
            " Training Loss: 0.054745792560279366\n",
            "Epoch 143 \n",
            " Validation Loss 0.0981187061406672\n"
          ]
        },
        {
          "output_type": "stream",
          "name": "stderr",
          "text": [
            "100%|██████████| 500/500 [00:04<00:00, 104.23it/s]\n"
          ]
        },
        {
          "output_type": "stream",
          "name": "stdout",
          "text": [
            "epoch 144 \n",
            " Training Loss: 0.054328706964850426\n",
            "Epoch 144 \n",
            " Validation Loss 0.09785166118294\n"
          ]
        },
        {
          "output_type": "stream",
          "name": "stderr",
          "text": [
            "100%|██████████| 500/500 [00:04<00:00, 104.37it/s]\n"
          ]
        },
        {
          "output_type": "stream",
          "name": "stdout",
          "text": [
            "epoch 145 \n",
            " Training Loss: 0.05391645853593945\n",
            "Epoch 145 \n",
            " Validation Loss 0.09758854074403643\n"
          ]
        },
        {
          "output_type": "stream",
          "name": "stderr",
          "text": [
            "100%|██████████| 500/500 [00:04<00:00, 102.28it/s]\n"
          ]
        },
        {
          "output_type": "stream",
          "name": "stdout",
          "text": [
            "epoch 146 \n",
            " Training Loss: 0.0535090581420809\n",
            "Epoch 146 \n",
            " Validation Loss 0.09732625229284167\n"
          ]
        },
        {
          "output_type": "stream",
          "name": "stderr",
          "text": [
            "100%|██████████| 500/500 [00:04<00:00, 104.63it/s]\n"
          ]
        },
        {
          "output_type": "stream",
          "name": "stdout",
          "text": [
            "epoch 147 \n",
            " Training Loss: 0.053105090530589226\n",
            "Epoch 147 \n",
            " Validation Loss 0.09707430183887482\n"
          ]
        },
        {
          "output_type": "stream",
          "name": "stderr",
          "text": [
            "100%|██████████| 500/500 [00:04<00:00, 103.85it/s]\n"
          ]
        },
        {
          "output_type": "stream",
          "name": "stdout",
          "text": [
            "epoch 148 \n",
            " Training Loss: 0.052706359645351766\n",
            "Epoch 148 \n",
            " Validation Loss 0.09682153578847646\n"
          ]
        },
        {
          "output_type": "stream",
          "name": "stderr",
          "text": [
            "100%|██████████| 500/500 [00:04<00:00, 104.00it/s]\n"
          ]
        },
        {
          "output_type": "stream",
          "name": "stdout",
          "text": [
            "epoch 149 \n",
            " Training Loss: 0.05231354746967554\n",
            "Epoch 149 \n",
            " Validation Loss 0.09657642129808665\n"
          ]
        },
        {
          "output_type": "stream",
          "name": "stderr",
          "text": [
            "100%|██████████| 500/500 [00:04<00:00, 103.09it/s]\n"
          ]
        },
        {
          "output_type": "stream",
          "name": "stdout",
          "text": [
            "epoch 150 \n",
            " Training Loss: 0.05192409886233509\n",
            "Epoch 150 \n",
            " Validation Loss 0.09632942855358123\n"
          ]
        },
        {
          "output_type": "stream",
          "name": "stderr",
          "text": [
            "100%|██████████| 500/500 [00:04<00:00, 103.17it/s]\n"
          ]
        },
        {
          "output_type": "stream",
          "name": "stdout",
          "text": [
            "epoch 151 \n",
            " Training Loss: 0.05154007276333868\n",
            "Epoch 151 \n",
            " Validation Loss 0.09608476053923369\n"
          ]
        },
        {
          "output_type": "stream",
          "name": "stderr",
          "text": [
            "100%|██████████| 500/500 [00:04<00:00, 103.98it/s]\n"
          ]
        },
        {
          "output_type": "stream",
          "name": "stdout",
          "text": [
            "epoch 152 \n",
            " Training Loss: 0.051159337697550655\n",
            "Epoch 152 \n",
            " Validation Loss 0.09585349649190902\n"
          ]
        },
        {
          "output_type": "stream",
          "name": "stderr",
          "text": [
            "100%|██████████| 500/500 [00:04<00:00, 105.10it/s]\n"
          ]
        },
        {
          "output_type": "stream",
          "name": "stdout",
          "text": [
            "epoch 153 \n",
            " Training Loss: 0.05078264101408422\n",
            "Epoch 153 \n",
            " Validation Loss 0.09561725437641144\n"
          ]
        },
        {
          "output_type": "stream",
          "name": "stderr",
          "text": [
            "100%|██████████| 500/500 [00:05<00:00, 90.03it/s] \n"
          ]
        },
        {
          "output_type": "stream",
          "name": "stdout",
          "text": [
            "epoch 154 \n",
            " Training Loss: 0.05041058620624244\n",
            "Epoch 154 \n",
            " Validation Loss 0.09538420071825385\n"
          ]
        },
        {
          "output_type": "stream",
          "name": "stderr",
          "text": [
            "100%|██████████| 500/500 [00:04<00:00, 104.79it/s]\n"
          ]
        },
        {
          "output_type": "stream",
          "name": "stdout",
          "text": [
            "epoch 155 \n",
            " Training Loss: 0.05004278503358364\n",
            "Epoch 155 \n",
            " Validation Loss 0.09515818998217583\n"
          ]
        },
        {
          "output_type": "stream",
          "name": "stderr",
          "text": [
            "100%|██████████| 500/500 [00:04<00:00, 102.97it/s]\n"
          ]
        },
        {
          "output_type": "stream",
          "name": "stdout",
          "text": [
            "epoch 156 \n",
            " Training Loss: 0.049679853849112984\n",
            "Epoch 156 \n",
            " Validation Loss 0.09493608416989446\n"
          ]
        },
        {
          "output_type": "stream",
          "name": "stderr",
          "text": [
            "100%|██████████| 500/500 [00:04<00:00, 101.10it/s]\n"
          ]
        },
        {
          "output_type": "stream",
          "name": "stdout",
          "text": [
            "epoch 157 \n",
            " Training Loss: 0.049318678425624964\n",
            "Epoch 157 \n",
            " Validation Loss 0.09471717538312077\n"
          ]
        },
        {
          "output_type": "stream",
          "name": "stderr",
          "text": [
            "100%|██████████| 500/500 [00:04<00:00, 104.53it/s]\n"
          ]
        },
        {
          "output_type": "stream",
          "name": "stdout",
          "text": [
            "epoch 158 \n",
            " Training Loss: 0.048963027998805045\n",
            "Epoch 158 \n",
            " Validation Loss 0.09450366484001278\n"
          ]
        },
        {
          "output_type": "stream",
          "name": "stderr",
          "text": [
            "100%|██████████| 500/500 [00:04<00:00, 103.85it/s]\n"
          ]
        },
        {
          "output_type": "stream",
          "name": "stdout",
          "text": [
            "epoch 159 \n",
            " Training Loss: 0.04861235779337585\n",
            "Epoch 159 \n",
            " Validation Loss 0.09429138192906976\n"
          ]
        },
        {
          "output_type": "stream",
          "name": "stderr",
          "text": [
            "100%|██████████| 500/500 [00:04<00:00, 104.44it/s]\n"
          ]
        },
        {
          "output_type": "stream",
          "name": "stdout",
          "text": [
            "epoch 160 \n",
            " Training Loss: 0.04826405106857419\n",
            "Epoch 160 \n",
            " Validation Loss 0.09408566279336811\n"
          ]
        },
        {
          "output_type": "stream",
          "name": "stderr",
          "text": [
            "100%|██████████| 500/500 [00:04<00:00, 103.10it/s]\n"
          ]
        },
        {
          "output_type": "stream",
          "name": "stdout",
          "text": [
            "epoch 161 \n",
            " Training Loss: 0.04791781753487885\n",
            "Epoch 161 \n",
            " Validation Loss 0.09387324744835496\n"
          ]
        },
        {
          "output_type": "stream",
          "name": "stderr",
          "text": [
            "100%|██████████| 500/500 [00:04<00:00, 102.44it/s]\n"
          ]
        },
        {
          "output_type": "stream",
          "name": "stdout",
          "text": [
            "epoch 162 \n",
            " Training Loss: 0.047578348580747845\n",
            "Epoch 162 \n",
            " Validation Loss 0.09367097228765488\n"
          ]
        },
        {
          "output_type": "stream",
          "name": "stderr",
          "text": [
            "100%|██████████| 500/500 [00:04<00:00, 102.23it/s]\n"
          ]
        },
        {
          "output_type": "stream",
          "name": "stdout",
          "text": [
            "epoch 163 \n",
            " Training Loss: 0.0472409208137542\n",
            "Epoch 163 \n",
            " Validation Loss 0.09346701690927148\n"
          ]
        },
        {
          "output_type": "stream",
          "name": "stderr",
          "text": [
            "100%|██████████| 500/500 [00:04<00:00, 104.06it/s]\n"
          ]
        },
        {
          "output_type": "stream",
          "name": "stdout",
          "text": [
            "epoch 164 \n",
            " Training Loss: 0.04690729268454015\n",
            "Epoch 164 \n",
            " Validation Loss 0.0932745560258627\n"
          ]
        },
        {
          "output_type": "stream",
          "name": "stderr",
          "text": [
            "100%|██████████| 500/500 [00:04<00:00, 102.80it/s]\n"
          ]
        },
        {
          "output_type": "stream",
          "name": "stdout",
          "text": [
            "epoch 165 \n",
            " Training Loss: 0.04657656118832529\n",
            "Epoch 165 \n",
            " Validation Loss 0.09307882592082023\n"
          ]
        },
        {
          "output_type": "stream",
          "name": "stderr",
          "text": [
            "100%|██████████| 500/500 [00:04<00:00, 103.63it/s]\n"
          ]
        },
        {
          "output_type": "stream",
          "name": "stdout",
          "text": [
            "epoch 166 \n",
            " Training Loss: 0.04625099212117493\n",
            "Epoch 166 \n",
            " Validation Loss 0.09288924764841795\n"
          ]
        },
        {
          "output_type": "stream",
          "name": "stderr",
          "text": [
            "100%|██████████| 500/500 [00:04<00:00, 103.34it/s]\n"
          ]
        },
        {
          "output_type": "stream",
          "name": "stdout",
          "text": [
            "epoch 167 \n",
            " Training Loss: 0.04592950100451708\n",
            "Epoch 167 \n",
            " Validation Loss 0.09269944306463003\n"
          ]
        },
        {
          "output_type": "stream",
          "name": "stderr",
          "text": [
            "100%|██████████| 500/500 [00:04<00:00, 103.46it/s]\n"
          ]
        },
        {
          "output_type": "stream",
          "name": "stdout",
          "text": [
            "epoch 168 \n",
            " Training Loss: 0.04560826647095382\n",
            "Epoch 168 \n",
            " Validation Loss 0.09251606399193406\n"
          ]
        },
        {
          "output_type": "stream",
          "name": "stderr",
          "text": [
            "100%|██████████| 500/500 [00:04<00:00, 104.18it/s]\n"
          ]
        },
        {
          "output_type": "stream",
          "name": "stdout",
          "text": [
            "epoch 169 \n",
            " Training Loss: 0.04529200055450201\n",
            "Epoch 169 \n",
            " Validation Loss 0.09233749050647021\n"
          ]
        },
        {
          "output_type": "stream",
          "name": "stderr",
          "text": [
            "100%|██████████| 500/500 [00:04<00:00, 104.37it/s]\n"
          ]
        },
        {
          "output_type": "stream",
          "name": "stdout",
          "text": [
            "epoch 170 \n",
            " Training Loss: 0.04497863533906639\n",
            "Epoch 170 \n",
            " Validation Loss 0.09215726763010025\n"
          ]
        },
        {
          "output_type": "stream",
          "name": "stderr",
          "text": [
            "100%|██████████| 500/500 [00:04<00:00, 104.07it/s]\n"
          ]
        },
        {
          "output_type": "stream",
          "name": "stdout",
          "text": [
            "epoch 171 \n",
            " Training Loss: 0.04466975434310734\n",
            "Epoch 171 \n",
            " Validation Loss 0.09197507103905082\n"
          ]
        },
        {
          "output_type": "stream",
          "name": "stderr",
          "text": [
            "100%|██████████| 500/500 [00:04<00:00, 103.74it/s]\n"
          ]
        },
        {
          "output_type": "stream",
          "name": "stdout",
          "text": [
            "epoch 172 \n",
            " Training Loss: 0.044362238733097914\n",
            "Epoch 172 \n",
            " Validation Loss 0.09180303659290075\n"
          ]
        },
        {
          "output_type": "stream",
          "name": "stderr",
          "text": [
            "100%|██████████| 500/500 [00:04<00:00, 101.10it/s]\n"
          ]
        },
        {
          "output_type": "stream",
          "name": "stdout",
          "text": [
            "epoch 173 \n",
            " Training Loss: 0.0440598516985774\n",
            "Epoch 173 \n",
            " Validation Loss 0.09163144836202264\n"
          ]
        },
        {
          "output_type": "stream",
          "name": "stderr",
          "text": [
            "100%|██████████| 500/500 [00:04<00:00, 102.81it/s]\n"
          ]
        },
        {
          "output_type": "stream",
          "name": "stdout",
          "text": [
            "epoch 174 \n",
            " Training Loss: 0.04375854516774416\n",
            "Epoch 174 \n",
            " Validation Loss 0.09146263115108014\n"
          ]
        },
        {
          "output_type": "stream",
          "name": "stderr",
          "text": [
            "100%|██████████| 500/500 [00:04<00:00, 103.38it/s]\n"
          ]
        },
        {
          "output_type": "stream",
          "name": "stdout",
          "text": [
            "epoch 175 \n",
            " Training Loss: 0.04346020304597914\n",
            "Epoch 175 \n",
            " Validation Loss 0.09129054618999362\n"
          ]
        },
        {
          "output_type": "stream",
          "name": "stderr",
          "text": [
            "100%|██████████| 500/500 [00:05<00:00, 88.87it/s] \n"
          ]
        },
        {
          "output_type": "stream",
          "name": "stdout",
          "text": [
            "epoch 176 \n",
            " Training Loss: 0.043166624423116445\n",
            "Epoch 176 \n",
            " Validation Loss 0.0911287054605782\n"
          ]
        },
        {
          "output_type": "stream",
          "name": "stderr",
          "text": [
            "100%|██████████| 500/500 [00:04<00:00, 103.18it/s]\n"
          ]
        },
        {
          "output_type": "stream",
          "name": "stdout",
          "text": [
            "epoch 177 \n",
            " Training Loss: 0.042874301861971616\n",
            "Epoch 177 \n",
            " Validation Loss 0.09096545586362481\n"
          ]
        },
        {
          "output_type": "stream",
          "name": "stderr",
          "text": [
            "100%|██████████| 500/500 [00:04<00:00, 100.45it/s]\n"
          ]
        },
        {
          "output_type": "stream",
          "name": "stdout",
          "text": [
            "epoch 178 \n",
            " Training Loss: 0.04258684862591326\n",
            "Epoch 178 \n",
            " Validation Loss 0.09080331847071647\n"
          ]
        },
        {
          "output_type": "stream",
          "name": "stderr",
          "text": [
            "100%|██████████| 500/500 [00:04<00:00, 102.64it/s]\n"
          ]
        },
        {
          "output_type": "stream",
          "name": "stdout",
          "text": [
            "epoch 179 \n",
            " Training Loss: 0.04229926059395075\n",
            "Epoch 179 \n",
            " Validation Loss 0.09064162546768785\n"
          ]
        },
        {
          "output_type": "stream",
          "name": "stderr",
          "text": [
            "100%|██████████| 500/500 [00:04<00:00, 103.10it/s]\n"
          ]
        },
        {
          "output_type": "stream",
          "name": "stdout",
          "text": [
            "epoch 180 \n",
            " Training Loss: 0.04201755864359438\n",
            "Epoch 180 \n",
            " Validation Loss 0.09048598596826196\n"
          ]
        },
        {
          "output_type": "stream",
          "name": "stderr",
          "text": [
            "100%|██████████| 500/500 [00:04<00:00, 103.66it/s]\n"
          ]
        },
        {
          "output_type": "stream",
          "name": "stdout",
          "text": [
            "epoch 181 \n",
            " Training Loss: 0.041736940544098614\n",
            "Epoch 181 \n",
            " Validation Loss 0.09032959731295705\n"
          ]
        },
        {
          "output_type": "stream",
          "name": "stderr",
          "text": [
            "100%|██████████| 500/500 [00:04<00:00, 104.74it/s]\n"
          ]
        },
        {
          "output_type": "stream",
          "name": "stdout",
          "text": [
            "epoch 182 \n",
            " Training Loss: 0.0414587064050138\n",
            "Epoch 182 \n",
            " Validation Loss 0.09017860389314591\n"
          ]
        },
        {
          "output_type": "stream",
          "name": "stderr",
          "text": [
            "100%|██████████| 500/500 [00:04<00:00, 104.35it/s]\n"
          ]
        },
        {
          "output_type": "stream",
          "name": "stdout",
          "text": [
            "epoch 183 \n",
            " Training Loss: 0.04118386962544173\n",
            "Epoch 183 \n",
            " Validation Loss 0.09002418423071504\n"
          ]
        },
        {
          "output_type": "stream",
          "name": "stderr",
          "text": [
            "100%|██████████| 500/500 [00:04<00:00, 102.50it/s]\n"
          ]
        },
        {
          "output_type": "stream",
          "name": "stdout",
          "text": [
            "epoch 184 \n",
            " Training Loss: 0.04091114387847483\n",
            "Epoch 184 \n",
            " Validation Loss 0.0898803701158613\n"
          ]
        },
        {
          "output_type": "stream",
          "name": "stderr",
          "text": [
            "100%|██████████| 500/500 [00:04<00:00, 104.99it/s]\n"
          ]
        },
        {
          "output_type": "stream",
          "name": "stdout",
          "text": [
            "epoch 185 \n",
            " Training Loss: 0.04064186787232757\n",
            "Epoch 185 \n",
            " Validation Loss 0.08973316029645502\n"
          ]
        },
        {
          "output_type": "stream",
          "name": "stderr",
          "text": [
            "100%|██████████| 500/500 [00:04<00:00, 105.19it/s]\n"
          ]
        },
        {
          "output_type": "stream",
          "name": "stdout",
          "text": [
            "epoch 186 \n",
            " Training Loss: 0.04037492980714887\n",
            "Epoch 186 \n",
            " Validation Loss 0.08958922179415822\n"
          ]
        },
        {
          "output_type": "stream",
          "name": "stderr",
          "text": [
            "100%|██████████| 500/500 [00:04<00:00, 104.74it/s]\n"
          ]
        },
        {
          "output_type": "stream",
          "name": "stdout",
          "text": [
            "epoch 187 \n",
            " Training Loss: 0.04010956524405628\n",
            "Epoch 187 \n",
            " Validation Loss 0.08945109613239766\n"
          ]
        },
        {
          "output_type": "stream",
          "name": "stderr",
          "text": [
            "100%|██████████| 500/500 [00:04<00:00, 105.58it/s]\n"
          ]
        },
        {
          "output_type": "stream",
          "name": "stdout",
          "text": [
            "epoch 188 \n",
            " Training Loss: 0.03984725781343877\n",
            "Epoch 188 \n",
            " Validation Loss 0.08930070230737329\n"
          ]
        },
        {
          "output_type": "stream",
          "name": "stderr",
          "text": [
            "100%|██████████| 500/500 [00:04<00:00, 103.10it/s]\n"
          ]
        },
        {
          "output_type": "stream",
          "name": "stdout",
          "text": [
            "epoch 189 \n",
            " Training Loss: 0.039587036795914174\n",
            "Epoch 189 \n",
            " Validation Loss 0.08916780062951148\n"
          ]
        },
        {
          "output_type": "stream",
          "name": "stderr",
          "text": [
            "100%|██████████| 500/500 [00:04<00:00, 104.88it/s]\n"
          ]
        },
        {
          "output_type": "stream",
          "name": "stdout",
          "text": [
            "epoch 190 \n",
            " Training Loss: 0.03933070809673518\n",
            "Epoch 190 \n",
            " Validation Loss 0.08902845424599945\n"
          ]
        },
        {
          "output_type": "stream",
          "name": "stderr",
          "text": [
            "100%|██████████| 500/500 [00:04<00:00, 104.36it/s]\n"
          ]
        },
        {
          "output_type": "stream",
          "name": "stdout",
          "text": [
            "epoch 191 \n",
            " Training Loss: 0.03907478939369321\n",
            "Epoch 191 \n",
            " Validation Loss 0.08889462455175817\n"
          ]
        },
        {
          "output_type": "stream",
          "name": "stderr",
          "text": [
            "100%|██████████| 500/500 [00:04<00:00, 104.64it/s]\n"
          ]
        },
        {
          "output_type": "stream",
          "name": "stdout",
          "text": [
            "epoch 192 \n",
            " Training Loss: 0.038821879133582114\n",
            "Epoch 192 \n",
            " Validation Loss 0.08877160748466849\n"
          ]
        },
        {
          "output_type": "stream",
          "name": "stderr",
          "text": [
            "100%|██████████| 500/500 [00:04<00:00, 103.72it/s]\n"
          ]
        },
        {
          "output_type": "stream",
          "name": "stdout",
          "text": [
            "epoch 193 \n",
            " Training Loss: 0.038572101830504836\n",
            "Epoch 193 \n",
            " Validation Loss 0.08862754951231182\n"
          ]
        },
        {
          "output_type": "stream",
          "name": "stderr",
          "text": [
            "100%|██████████| 500/500 [00:04<00:00, 104.13it/s]\n"
          ]
        },
        {
          "output_type": "stream",
          "name": "stdout",
          "text": [
            "epoch 194 \n",
            " Training Loss: 0.0383246169378981\n",
            "Epoch 194 \n",
            " Validation Loss 0.08849547709338366\n"
          ]
        },
        {
          "output_type": "stream",
          "name": "stderr",
          "text": [
            "100%|██████████| 500/500 [00:04<00:00, 104.54it/s]\n"
          ]
        },
        {
          "output_type": "stream",
          "name": "stdout",
          "text": [
            "epoch 195 \n",
            " Training Loss: 0.03807711341418326\n",
            "Epoch 195 \n",
            " Validation Loss 0.0883687037229538\n"
          ]
        },
        {
          "output_type": "stream",
          "name": "stderr",
          "text": [
            "100%|██████████| 500/500 [00:04<00:00, 104.46it/s]\n"
          ]
        },
        {
          "output_type": "stream",
          "name": "stdout",
          "text": [
            "epoch 196 \n",
            " Training Loss: 0.037835295722819864\n",
            "Epoch 196 \n",
            " Validation Loss 0.08824314397759736\n"
          ]
        },
        {
          "output_type": "stream",
          "name": "stderr",
          "text": [
            "100%|██████████| 500/500 [00:04<00:00, 104.44it/s]\n"
          ]
        },
        {
          "output_type": "stream",
          "name": "stdout",
          "text": [
            "epoch 197 \n",
            " Training Loss: 0.03759282601810992\n",
            "Epoch 197 \n",
            " Validation Loss 0.08812236895784736\n"
          ]
        },
        {
          "output_type": "stream",
          "name": "stderr",
          "text": [
            "100%|██████████| 500/500 [00:05<00:00, 90.58it/s] \n"
          ]
        },
        {
          "output_type": "stream",
          "name": "stdout",
          "text": [
            "epoch 198 \n",
            " Training Loss: 0.037354863550513984\n",
            "Epoch 198 \n",
            " Validation Loss 0.08798805196769535\n"
          ]
        },
        {
          "output_type": "stream",
          "name": "stderr",
          "text": [
            "100%|██████████| 500/500 [00:04<00:00, 103.64it/s]\n"
          ]
        },
        {
          "output_type": "stream",
          "name": "stdout",
          "text": [
            "epoch 199 \n",
            " Training Loss: 0.03711753966473043\n",
            "Epoch 199 \n",
            " Validation Loss 0.08787658235989511\n"
          ]
        },
        {
          "output_type": "stream",
          "name": "stderr",
          "text": [
            "100%|██████████| 500/500 [00:04<00:00, 102.90it/s]\n"
          ]
        },
        {
          "output_type": "stream",
          "name": "stdout",
          "text": [
            "epoch 200 \n",
            " Training Loss: 0.03688385643623769\n",
            "Epoch 200 \n",
            " Validation Loss 0.08774868259206414\n"
          ]
        },
        {
          "output_type": "stream",
          "name": "stderr",
          "text": [
            "100%|██████████| 500/500 [00:04<00:00, 104.21it/s]\n"
          ]
        },
        {
          "output_type": "stream",
          "name": "stdout",
          "text": [
            "epoch 201 \n",
            " Training Loss: 0.03664980034716427\n",
            "Epoch 201 \n",
            " Validation Loss 0.08763145485892893\n"
          ]
        },
        {
          "output_type": "stream",
          "name": "stderr",
          "text": [
            "100%|██████████| 500/500 [00:04<00:00, 103.80it/s]\n"
          ]
        },
        {
          "output_type": "stream",
          "name": "stdout",
          "text": [
            "epoch 202 \n",
            " Training Loss: 0.03641930951550603\n",
            "Epoch 202 \n",
            " Validation Loss 0.0875138970091939\n"
          ]
        },
        {
          "output_type": "stream",
          "name": "stderr",
          "text": [
            "100%|██████████| 500/500 [00:04<00:00, 104.39it/s]\n"
          ]
        },
        {
          "output_type": "stream",
          "name": "stdout",
          "text": [
            "epoch 203 \n",
            " Training Loss: 0.036192312110215424\n",
            "Epoch 203 \n",
            " Validation Loss 0.08740069966763259\n"
          ]
        },
        {
          "output_type": "stream",
          "name": "stderr",
          "text": [
            "100%|██████████| 500/500 [00:04<00:00, 103.85it/s]\n"
          ]
        },
        {
          "output_type": "stream",
          "name": "stdout",
          "text": [
            "epoch 204 \n",
            " Training Loss: 0.035964460432529446\n",
            "Epoch 204 \n",
            " Validation Loss 0.08728457239456475\n"
          ]
        },
        {
          "output_type": "stream",
          "name": "stderr",
          "text": [
            "100%|██████████| 500/500 [00:04<00:00, 100.75it/s]\n"
          ]
        },
        {
          "output_type": "stream",
          "name": "stdout",
          "text": [
            "epoch 205 \n",
            " Training Loss: 0.035741425241343674\n",
            "Epoch 205 \n",
            " Validation Loss 0.08717012986540794\n"
          ]
        },
        {
          "output_type": "stream",
          "name": "stderr",
          "text": [
            "100%|██████████| 500/500 [00:04<00:00, 103.54it/s]\n"
          ]
        },
        {
          "output_type": "stream",
          "name": "stdout",
          "text": [
            "epoch 206 \n",
            " Training Loss: 0.0355177628416568\n",
            "Epoch 206 \n",
            " Validation Loss 0.08706101425923407\n"
          ]
        },
        {
          "output_type": "stream",
          "name": "stderr",
          "text": [
            "100%|██████████| 500/500 [00:04<00:00, 103.48it/s]\n"
          ]
        },
        {
          "output_type": "stream",
          "name": "stdout",
          "text": [
            "epoch 207 \n",
            " Training Loss: 0.035298724153079095\n",
            "Epoch 207 \n",
            " Validation Loss 0.08694404835812747\n"
          ]
        },
        {
          "output_type": "stream",
          "name": "stderr",
          "text": [
            "100%|██████████| 500/500 [00:04<00:00, 103.37it/s]\n"
          ]
        },
        {
          "output_type": "stream",
          "name": "stdout",
          "text": [
            "epoch 208 \n",
            " Training Loss: 0.035078269217163324\n",
            "Epoch 208 \n",
            " Validation Loss 0.0868391197733581\n"
          ]
        },
        {
          "output_type": "stream",
          "name": "stderr",
          "text": [
            "100%|██████████| 500/500 [00:04<00:00, 104.37it/s]\n"
          ]
        },
        {
          "output_type": "stream",
          "name": "stdout",
          "text": [
            "epoch 209 \n",
            " Training Loss: 0.03486298741865903\n",
            "Epoch 209 \n",
            " Validation Loss 0.08673825096338987\n"
          ]
        },
        {
          "output_type": "stream",
          "name": "stderr",
          "text": [
            "100%|██████████| 500/500 [00:04<00:00, 102.44it/s]\n"
          ]
        },
        {
          "output_type": "stream",
          "name": "stdout",
          "text": [
            "epoch 210 \n",
            " Training Loss: 0.03464804728422314\n",
            "Epoch 210 \n",
            " Validation Loss 0.08663460539653897\n"
          ]
        },
        {
          "output_type": "stream",
          "name": "stderr",
          "text": [
            "100%|██████████| 500/500 [00:04<00:00, 104.39it/s]\n"
          ]
        },
        {
          "output_type": "stream",
          "name": "stdout",
          "text": [
            "epoch 211 \n",
            " Training Loss: 0.03443565354403108\n",
            "Epoch 211 \n",
            " Validation Loss 0.08652441119775175\n"
          ]
        },
        {
          "output_type": "stream",
          "name": "stderr",
          "text": [
            "100%|██████████| 500/500 [00:04<00:00, 104.61it/s]\n"
          ]
        },
        {
          "output_type": "stream",
          "name": "stdout",
          "text": [
            "epoch 212 \n",
            " Training Loss: 0.03422394868824631\n",
            "Epoch 212 \n",
            " Validation Loss 0.08642118595540524\n"
          ]
        },
        {
          "output_type": "stream",
          "name": "stderr",
          "text": [
            "100%|██████████| 500/500 [00:04<00:00, 104.19it/s]\n"
          ]
        },
        {
          "output_type": "stream",
          "name": "stdout",
          "text": [
            "epoch 213 \n",
            " Training Loss: 0.034014579944312576\n",
            "Epoch 213 \n",
            " Validation Loss 0.08631820386275649\n"
          ]
        },
        {
          "output_type": "stream",
          "name": "stderr",
          "text": [
            "100%|██████████| 500/500 [00:04<00:00, 104.67it/s]\n"
          ]
        },
        {
          "output_type": "stream",
          "name": "stdout",
          "text": [
            "epoch 214 \n",
            " Training Loss: 0.03380686259642243\n",
            "Epoch 214 \n",
            " Validation Loss 0.08622678074985743\n"
          ]
        },
        {
          "output_type": "stream",
          "name": "stderr",
          "text": [
            "100%|██████████| 500/500 [00:04<00:00, 102.30it/s]\n"
          ]
        },
        {
          "output_type": "stream",
          "name": "stdout",
          "text": [
            "epoch 215 \n",
            " Training Loss: 0.03360082355607301\n",
            "Epoch 215 \n",
            " Validation Loss 0.08612761565484106\n"
          ]
        },
        {
          "output_type": "stream",
          "name": "stderr",
          "text": [
            "100%|██████████| 500/500 [00:04<00:00, 102.31it/s]\n"
          ]
        },
        {
          "output_type": "stream",
          "name": "stdout",
          "text": [
            "epoch 216 \n",
            " Training Loss: 0.03339749286416918\n",
            "Epoch 216 \n",
            " Validation Loss 0.08603818810544908\n"
          ]
        },
        {
          "output_type": "stream",
          "name": "stderr",
          "text": [
            "100%|██████████| 500/500 [00:04<00:00, 103.49it/s]\n"
          ]
        },
        {
          "output_type": "stream",
          "name": "stdout",
          "text": [
            "epoch 217 \n",
            " Training Loss: 0.03319523365143687\n",
            "Epoch 217 \n",
            " Validation Loss 0.08593660283833743\n"
          ]
        },
        {
          "output_type": "stream",
          "name": "stderr",
          "text": [
            "100%|██████████| 500/500 [00:04<00:00, 103.62it/s]\n"
          ]
        },
        {
          "output_type": "stream",
          "name": "stdout",
          "text": [
            "epoch 218 \n",
            " Training Loss: 0.03299536067061126\n",
            "Epoch 218 \n",
            " Validation Loss 0.08584841071628034\n"
          ]
        },
        {
          "output_type": "stream",
          "name": "stderr",
          "text": [
            "100%|██████████| 500/500 [00:04<00:00, 103.36it/s]\n"
          ]
        },
        {
          "output_type": "stream",
          "name": "stdout",
          "text": [
            "epoch 219 \n",
            " Training Loss: 0.03279747112467885\n",
            "Epoch 219 \n",
            " Validation Loss 0.08575474590994418\n"
          ]
        },
        {
          "output_type": "stream",
          "name": "stderr",
          "text": [
            "100%|██████████| 500/500 [00:05<00:00, 93.08it/s] \n"
          ]
        },
        {
          "output_type": "stream",
          "name": "stdout",
          "text": [
            "epoch 220 \n",
            " Training Loss: 0.03259935629554093\n",
            "Epoch 220 \n",
            " Validation Loss 0.08566631366498768\n"
          ]
        },
        {
          "output_type": "stream",
          "name": "stderr",
          "text": [
            "100%|██████████| 500/500 [00:04<00:00, 100.45it/s]\n"
          ]
        },
        {
          "output_type": "stream",
          "name": "stdout",
          "text": [
            "epoch 221 \n",
            " Training Loss: 0.03240372849442065\n",
            "Epoch 221 \n",
            " Validation Loss 0.0855759422108531\n"
          ]
        },
        {
          "output_type": "stream",
          "name": "stderr",
          "text": [
            "100%|██████████| 500/500 [00:04<00:00, 102.51it/s]\n"
          ]
        },
        {
          "output_type": "stream",
          "name": "stdout",
          "text": [
            "epoch 222 \n",
            " Training Loss: 0.032210375163704154\n",
            "Epoch 222 \n",
            " Validation Loss 0.0854891967959702\n"
          ]
        },
        {
          "output_type": "stream",
          "name": "stderr",
          "text": [
            "100%|██████████| 500/500 [00:04<00:00, 103.52it/s]\n"
          ]
        },
        {
          "output_type": "stream",
          "name": "stdout",
          "text": [
            "epoch 223 \n",
            " Training Loss: 0.03201795628853142\n",
            "Epoch 223 \n",
            " Validation Loss 0.08539832790382207\n"
          ]
        },
        {
          "output_type": "stream",
          "name": "stderr",
          "text": [
            "100%|██████████| 500/500 [00:04<00:00, 102.00it/s]\n"
          ]
        },
        {
          "output_type": "stream",
          "name": "stdout",
          "text": [
            "epoch 224 \n",
            " Training Loss: 0.03182746228761971\n",
            "Epoch 224 \n",
            " Validation Loss 0.085315533708781\n"
          ]
        },
        {
          "output_type": "stream",
          "name": "stderr",
          "text": [
            "100%|██████████| 500/500 [00:04<00:00, 105.32it/s]\n"
          ]
        },
        {
          "output_type": "stream",
          "name": "stdout",
          "text": [
            "epoch 225 \n",
            " Training Loss: 0.03163792668655515\n",
            "Epoch 225 \n",
            " Validation Loss 0.08523048591800034\n"
          ]
        },
        {
          "output_type": "stream",
          "name": "stderr",
          "text": [
            "100%|██████████| 500/500 [00:04<00:00, 101.31it/s]\n"
          ]
        },
        {
          "output_type": "stream",
          "name": "stdout",
          "text": [
            "epoch 226 \n",
            " Training Loss: 0.031450699293985966\n",
            "Epoch 226 \n",
            " Validation Loss 0.08514811532571911\n"
          ]
        },
        {
          "output_type": "stream",
          "name": "stderr",
          "text": [
            "100%|██████████| 500/500 [00:04<00:00, 103.77it/s]\n"
          ]
        },
        {
          "output_type": "stream",
          "name": "stdout",
          "text": [
            "epoch 227 \n",
            " Training Loss: 0.03126484053581953\n",
            "Epoch 227 \n",
            " Validation Loss 0.08506441535428166\n"
          ]
        },
        {
          "output_type": "stream",
          "name": "stderr",
          "text": [
            "100%|██████████| 500/500 [00:04<00:00, 102.94it/s]\n"
          ]
        },
        {
          "output_type": "stream",
          "name": "stdout",
          "text": [
            "epoch 228 \n",
            " Training Loss: 0.031080546473152934\n",
            "Epoch 228 \n",
            " Validation Loss 0.08498738626018167\n"
          ]
        },
        {
          "output_type": "stream",
          "name": "stderr",
          "text": [
            "100%|██████████| 500/500 [00:04<00:00, 102.94it/s]\n"
          ]
        },
        {
          "output_type": "stream",
          "name": "stdout",
          "text": [
            "epoch 229 \n",
            " Training Loss: 0.030897048552520574\n",
            "Epoch 229 \n",
            " Validation Loss 0.08490328441374004\n"
          ]
        },
        {
          "output_type": "stream",
          "name": "stderr",
          "text": [
            "100%|██████████| 500/500 [00:04<00:00, 102.60it/s]\n"
          ]
        },
        {
          "output_type": "stream",
          "name": "stdout",
          "text": [
            "epoch 230 \n",
            " Training Loss: 0.030716794945299625\n",
            "Epoch 230 \n",
            " Validation Loss 0.08482962881214917\n"
          ]
        },
        {
          "output_type": "stream",
          "name": "stderr",
          "text": [
            "100%|██████████| 500/500 [00:04<00:00, 100.43it/s]\n"
          ]
        },
        {
          "output_type": "stream",
          "name": "stdout",
          "text": [
            "epoch 231 \n",
            " Training Loss: 0.030537158655934035\n",
            "Epoch 231 \n",
            " Validation Loss 0.08474388839676976\n"
          ]
        },
        {
          "output_type": "stream",
          "name": "stderr",
          "text": [
            "100%|██████████| 500/500 [00:04<00:00, 102.89it/s]\n"
          ]
        },
        {
          "output_type": "stream",
          "name": "stdout",
          "text": [
            "epoch 232 \n",
            " Training Loss: 0.0303586464850232\n",
            "Epoch 232 \n",
            " Validation Loss 0.08467488230206072\n"
          ]
        },
        {
          "output_type": "stream",
          "name": "stderr",
          "text": [
            "100%|██████████| 500/500 [00:04<00:00, 102.01it/s]\n"
          ]
        },
        {
          "output_type": "stream",
          "name": "stdout",
          "text": [
            "epoch 233 \n",
            " Training Loss: 0.03018075958453119\n",
            "Epoch 233 \n",
            " Validation Loss 0.0845964948181063\n"
          ]
        },
        {
          "output_type": "stream",
          "name": "stderr",
          "text": [
            "100%|██████████| 500/500 [00:04<00:00, 102.19it/s]\n"
          ]
        },
        {
          "output_type": "stream",
          "name": "stdout",
          "text": [
            "epoch 234 \n",
            " Training Loss: 0.030005986913107335\n",
            "Epoch 234 \n",
            " Validation Loss 0.0845224665477872\n"
          ]
        },
        {
          "output_type": "stream",
          "name": "stderr",
          "text": [
            "100%|██████████| 500/500 [00:04<00:00, 101.89it/s]\n"
          ]
        },
        {
          "output_type": "stream",
          "name": "stdout",
          "text": [
            "epoch 235 \n",
            " Training Loss: 0.02983207824267447\n",
            "Epoch 235 \n",
            " Validation Loss 0.08444981663487852\n"
          ]
        },
        {
          "output_type": "stream",
          "name": "stderr",
          "text": [
            "100%|██████████| 500/500 [00:04<00:00, 101.67it/s]\n"
          ]
        },
        {
          "output_type": "stream",
          "name": "stdout",
          "text": [
            "epoch 236 \n",
            " Training Loss: 0.02965948267187923\n",
            "Epoch 236 \n",
            " Validation Loss 0.08437124173156917\n"
          ]
        },
        {
          "output_type": "stream",
          "name": "stderr",
          "text": [
            "100%|██████████| 500/500 [00:04<00:00, 101.21it/s]\n"
          ]
        },
        {
          "output_type": "stream",
          "name": "stdout",
          "text": [
            "epoch 237 \n",
            " Training Loss: 0.0294874613173306\n",
            "Epoch 237 \n",
            " Validation Loss 0.08430361732840538\n"
          ]
        },
        {
          "output_type": "stream",
          "name": "stderr",
          "text": [
            "100%|██████████| 500/500 [00:04<00:00, 101.45it/s]\n"
          ]
        },
        {
          "output_type": "stream",
          "name": "stdout",
          "text": [
            "epoch 238 \n",
            " Training Loss: 0.02931794967968017\n",
            "Epoch 238 \n",
            " Validation Loss 0.08423381842672825\n"
          ]
        },
        {
          "output_type": "stream",
          "name": "stderr",
          "text": [
            "100%|██████████| 500/500 [00:04<00:00, 102.37it/s]\n"
          ]
        },
        {
          "output_type": "stream",
          "name": "stdout",
          "text": [
            "epoch 239 \n",
            " Training Loss: 0.02914898157119751\n",
            "Epoch 239 \n",
            " Validation Loss 0.08416081484407187\n"
          ]
        },
        {
          "output_type": "stream",
          "name": "stderr",
          "text": [
            "100%|██████████| 500/500 [00:04<00:00, 102.23it/s]\n"
          ]
        },
        {
          "output_type": "stream",
          "name": "stdout",
          "text": [
            "epoch 240 \n",
            " Training Loss: 0.02898206939175725\n",
            "Epoch 240 \n",
            " Validation Loss 0.08409244348295034\n"
          ]
        },
        {
          "output_type": "stream",
          "name": "stderr",
          "text": [
            "100%|██████████| 500/500 [00:05<00:00, 86.86it/s] \n"
          ]
        },
        {
          "output_type": "stream",
          "name": "stdout",
          "text": [
            "epoch 241 \n",
            " Training Loss: 0.02881671351287514\n",
            "Epoch 241 \n",
            " Validation Loss 0.08402268651872874\n"
          ]
        },
        {
          "output_type": "stream",
          "name": "stderr",
          "text": [
            "100%|██████████| 500/500 [00:04<00:00, 101.51it/s]\n"
          ]
        },
        {
          "output_type": "stream",
          "name": "stdout",
          "text": [
            "epoch 242 \n",
            " Training Loss: 0.028651366190984844\n",
            "Epoch 242 \n",
            " Validation Loss 0.0839581804536283\n"
          ]
        },
        {
          "output_type": "stream",
          "name": "stderr",
          "text": [
            "100%|██████████| 500/500 [00:04<00:00, 103.34it/s]\n"
          ]
        },
        {
          "output_type": "stream",
          "name": "stdout",
          "text": [
            "epoch 243 \n",
            " Training Loss: 0.028488537405617534\n",
            "Epoch 243 \n",
            " Validation Loss 0.08388930251821876\n"
          ]
        },
        {
          "output_type": "stream",
          "name": "stderr",
          "text": [
            "100%|██████████| 500/500 [00:04<00:00, 102.76it/s]\n"
          ]
        },
        {
          "output_type": "stream",
          "name": "stdout",
          "text": [
            "epoch 244 \n",
            " Training Loss: 0.028325499530881645\n",
            "Epoch 244 \n",
            " Validation Loss 0.08382818831130862\n"
          ]
        },
        {
          "output_type": "stream",
          "name": "stderr",
          "text": [
            "100%|██████████| 500/500 [00:04<00:00, 101.15it/s]\n"
          ]
        },
        {
          "output_type": "stream",
          "name": "stdout",
          "text": [
            "epoch 245 \n",
            " Training Loss: 0.02816452077124268\n",
            "Epoch 245 \n",
            " Validation Loss 0.08376017053611577\n"
          ]
        },
        {
          "output_type": "stream",
          "name": "stderr",
          "text": [
            "100%|██████████| 500/500 [00:04<00:00, 102.03it/s]\n"
          ]
        },
        {
          "output_type": "stream",
          "name": "stdout",
          "text": [
            "epoch 246 \n",
            " Training Loss: 0.028005457213148476\n",
            "Epoch 246 \n",
            " Validation Loss 0.08370080741122365\n"
          ]
        },
        {
          "output_type": "stream",
          "name": "stderr",
          "text": [
            "100%|██████████| 500/500 [00:04<00:00, 101.69it/s]\n"
          ]
        },
        {
          "output_type": "stream",
          "name": "stdout",
          "text": [
            "epoch 247 \n",
            " Training Loss: 0.027847759107127786\n",
            "Epoch 247 \n",
            " Validation Loss 0.083634084276855\n"
          ]
        },
        {
          "output_type": "stream",
          "name": "stderr",
          "text": [
            "100%|██████████| 500/500 [00:05<00:00, 99.32it/s] \n"
          ]
        },
        {
          "output_type": "stream",
          "name": "stdout",
          "text": [
            "epoch 248 \n",
            " Training Loss: 0.02769045462552458\n",
            "Epoch 248 \n",
            " Validation Loss 0.08357081507332623\n"
          ]
        },
        {
          "output_type": "stream",
          "name": "stderr",
          "text": [
            "100%|██████████| 500/500 [00:04<00:00, 100.70it/s]\n"
          ]
        },
        {
          "output_type": "stream",
          "name": "stdout",
          "text": [
            "epoch 249 \n",
            " Training Loss: 0.027533888701349495\n",
            "Epoch 249 \n",
            " Validation Loss 0.08351713553071022\n"
          ]
        },
        {
          "output_type": "stream",
          "name": "stderr",
          "text": [
            "100%|██████████| 500/500 [00:04<00:00, 101.45it/s]\n"
          ]
        },
        {
          "output_type": "stream",
          "name": "stdout",
          "text": [
            "epoch 250 \n",
            " Training Loss: 0.027379862942732872\n",
            "Epoch 250 \n",
            " Validation Loss 0.08345003253780306\n",
            "\n",
            "\n"
          ]
        },
        {
          "output_type": "display_data",
          "data": {
            "text/plain": [
              "<Figure size 432x288 with 2 Axes>"
            ],
            "image/png": "[encoded data removed]"
          },
          "metadata": {
            "needs_background": "light"
          }
        }
      ]
    },
    {
      "cell_type": "code",
      "source": [
        "plt.title('Training vs. Validation Loss Over Epochs')\n",
        "plt.plot(valid_loss_capture, color='red')\n",
        "plt.plot(epoch_loss_capture, color='blue')\n",
        "plt.show()"
      ],
      "metadata": {
        "colab": {
          "base_uri": "https://localhost:8080/",
          "height": 281
        },
        "id": "oWbnJv8d8wKf",
        "outputId": "deecb909-11c3-4653-db94-fc9c658cc848"
      },
      "execution_count": 49,
      "outputs": [
        {
          "output_type": "display_data",
          "data": {
            "text/plain": [
              "<Figure size 432x288 with 1 Axes>"
            ],
            "image/png": "[encoded data removed]"
          },
          "metadata": {
            "needs_background": "light"
          }
        }
      ]
    },
    {
      "cell_type": "code",
      "source": [
        "y_pred, y_true = predict_val(model, testLoader)\n",
        "diffs = y_true - y_pred"
      ],
      "metadata": {
        "id": "O10oJwJ9bz77"
      },
      "execution_count": 50,
      "outputs": []
    },
    {
      "cell_type": "code",
      "source": [
        "100 - len([v for v in diffs if v != 0])/len(diffs)*100"
      ],
      "metadata": {
        "colab": {
          "base_uri": "https://localhost:8080/",
          "height": 0
        },
        "id": "Jl1TVy1Zb3OV",
        "outputId": "98e8e736-065c-453b-88be-a1b432fc3884"
      },
      "execution_count": 51,
      "outputs": [
        {
          "output_type": "execute_result",
          "data": {
            "text/plain": [
              "97.93"
            ]
          },
          "metadata": {},
          "execution_count": 51
        }
      ]
    },
    {
      "cell_type": "code",
      "source": [
        "pd.DataFrame(confusion_matrix(y_true, y_pred, labels=np.arange(0, 10)))"
      ],
      "metadata": {
        "colab": {
          "base_uri": "https://localhost:8080/",
          "height": 363
        },
        "id": "ymL0t1g5b561",
        "outputId": "9126c587-82a1-4322-b7c7-71cae1c97490"
      },
      "execution_count": 52,
      "outputs": [
        {
          "output_type": "execute_result",
          "data": {
            "text/plain": [
              "     0     1     2    3    4    5    6     7    8    9\n",
              "0  969     0     1    1    1    2    1     1    2    2\n",
              "1    0  1124     4    0    0    1    2     1    3    0\n",
              "2    4     2  1008    5    3    0    2     4    4    0\n",
              "3    0     0     3  996    0    1    0     3    3    4\n",
              "4    1     0     1    1  960    0    4     2    2   11\n",
              "5    3     1     0    8    1  867    4     1    4    3\n",
              "6    5     3     1    1    2    3  940     1    2    0\n",
              "7    0     5     9    4    0    0    0  1003    1    6\n",
              "8    5     1     4    4    3    2    6     3  945    1\n",
              "9    2     4     0    6    9    1    1     4    1  981"
            ],
            "text/html": [
              "\n",
              "  <div id=\"df-8df2ba71-1532-492b-9324-d8b7e3c67ed3\">\n",
              "    <div class=\"colab-df-container\">\n",
              "      <div>\n",
              "<style scoped>\n",
              "    .dataframe tbody tr th:only-of-type {\n",
              "        vertical-align: middle;\n",
              "    }\n",
              "\n",
              "    .dataframe tbody tr th {\n",
              "        vertical-align: top;\n",
              "    }\n",
              "\n",
              "    .dataframe thead th {\n",
              "        text-align: right;\n",
              "    }\n",
              "</style>\n",
              "<table border=\"1\" class=\"dataframe\">\n",
              "  <thead>\n",
              "    <tr style=\"text-align: right;\">\n",
              "      <th></th>\n",
              "      <th>0</th>\n",
              "      <th>1</th>\n",
              "      <th>2</th>\n",
              "      <th>3</th>\n",
              "      <th>4</th>\n",
              "      <th>5</th>\n",
              "      <th>6</th>\n",
              "      <th>7</th>\n",
              "      <th>8</th>\n",
              "      <th>9</th>\n",
              "    </tr>\n",
              "  </thead>\n",
              "  <tbody>\n",
              "    <tr>\n",
              "      <th>0</th>\n",
              "      <td>969</td>\n",
              "      <td>0</td>\n",
              "      <td>1</td>\n",
              "      <td>1</td>\n",
              "      <td>1</td>\n",
              "      <td>2</td>\n",
              "      <td>1</td>\n",
              "      <td>1</td>\n",
              "      <td>2</td>\n",
              "      <td>2</td>\n",
              "    </tr>\n",
              "    <tr>\n",
              "      <th>1</th>\n",
              "      <td>0</td>\n",
              "      <td>1124</td>\n",
              "      <td>4</td>\n",
              "      <td>0</td>\n",
              "      <td>0</td>\n",
              "      <td>1</td>\n",
              "      <td>2</td>\n",
              "      <td>1</td>\n",
              "      <td>3</td>\n",
              "      <td>0</td>\n",
              "    </tr>\n",
              "    <tr>\n",
              "      <th>2</th>\n",
              "      <td>4</td>\n",
              "      <td>2</td>\n",
              "      <td>1008</td>\n",
              "      <td>5</td>\n",
              "      <td>3</td>\n",
              "      <td>0</td>\n",
              "      <td>2</td>\n",
              "      <td>4</td>\n",
              "      <td>4</td>\n",
              "      <td>0</td>\n",
              "    </tr>\n",
              "    <tr>\n",
              "      <th>3</th>\n",
              "      <td>0</td>\n",
              "      <td>0</td>\n",
              "      <td>3</td>\n",
              "      <td>996</td>\n",
              "      <td>0</td>\n",
              "      <td>1</td>\n",
              "      <td>0</td>\n",
              "      <td>3</td>\n",
              "      <td>3</td>\n",
              "      <td>4</td>\n",
              "    </tr>\n",
              "    <tr>\n",
              "      <th>4</th>\n",
              "      <td>1</td>\n",
              "      <td>0</td>\n",
              "      <td>1</td>\n",
              "      <td>1</td>\n",
              "      <td>960</td>\n",
              "      <td>0</td>\n",
              "      <td>4</td>\n",
              "      <td>2</td>\n",
              "      <td>2</td>\n",
              "      <td>11</td>\n",
              "    </tr>\n",
              "    <tr>\n",
              "      <th>5</th>\n",
              "      <td>3</td>\n",
              "      <td>1</td>\n",
              "      <td>0</td>\n",
              "      <td>8</td>\n",
              "      <td>1</td>\n",
              "      <td>867</td>\n",
              "      <td>4</td>\n",
              "      <td>1</td>\n",
              "      <td>4</td>\n",
              "      <td>3</td>\n",
              "    </tr>\n",
              "    <tr>\n",
              "      <th>6</th>\n",
              "      <td>5</td>\n",
              "      <td>3</td>\n",
              "      <td>1</td>\n",
              "      <td>1</td>\n",
              "      <td>2</td>\n",
              "      <td>3</td>\n",
              "      <td>940</td>\n",
              "      <td>1</td>\n",
              "      <td>2</td>\n",
              "      <td>0</td>\n",
              "    </tr>\n",
              "    <tr>\n",
              "      <th>7</th>\n",
              "      <td>0</td>\n",
              "      <td>5</td>\n",
              "      <td>9</td>\n",
              "      <td>4</td>\n",
              "      <td>0</td>\n",
              "      <td>0</td>\n",
              "      <td>0</td>\n",
              "      <td>1003</td>\n",
              "      <td>1</td>\n",
              "      <td>6</td>\n",
              "    </tr>\n",
              "    <tr>\n",
              "      <th>8</th>\n",
              "      <td>5</td>\n",
              "      <td>1</td>\n",
              "      <td>4</td>\n",
              "      <td>4</td>\n",
              "      <td>3</td>\n",
              "      <td>2</td>\n",
              "      <td>6</td>\n",
              "      <td>3</td>\n",
              "      <td>945</td>\n",
              "      <td>1</td>\n",
              "    </tr>\n",
              "    <tr>\n",
              "      <th>9</th>\n",
              "      <td>2</td>\n",
              "      <td>4</td>\n",
              "      <td>0</td>\n",
              "      <td>6</td>\n",
              "      <td>9</td>\n",
              "      <td>1</td>\n",
              "      <td>1</td>\n",
              "      <td>4</td>\n",
              "      <td>1</td>\n",
              "      <td>981</td>\n",
              "    </tr>\n",
              "  </tbody>\n",
              "</table>\n",
              "</div>\n",
              "      <button class=\"colab-df-convert\" onclick=\"convertToInteractive('df-8df2ba71-1532-492b-9324-d8b7e3c67ed3')\"\n",
              "              title=\"Convert this dataframe to an interactive table.\"\n",
              "              style=\"display:none;\">\n",
              "        \n",
              "  <svg xmlns=\"http://www.w3.org/2000/svg\" height=\"24px\"viewBox=\"0 0 24 24\"\n",
              "       width=\"24px\">\n",
              "    <path d=\"M0 0h24v24H0V0z\" fill=\"none\"/>\n",
              "    <path d=\"M18.56 5.44l.94 2.06.94-2.06 2.06-.94-2.06-.94-.94-2.06-.94 2.06-2.06.94zm-11 1L8.5 8.5l.94-2.06 2.06-.94-2.06-.94L8.5 2.5l-.94 2.06-2.06.94zm10 10l.94 2.06.94-2.06 2.06-.94-2.06-.94-.94-2.06-.94 2.06-2.06.94z\"/><path d=\"M17.41 7.96l-1.37-1.37c-.4-.4-.92-.59-1.43-.59-.52 0-1.04.2-1.43.59L10.3 9.45l-7.72 7.72c-.78.78-.78 2.05 0 2.83L4 21.41c.39.39.9.59 1.41.59.51 0 1.02-.2 1.41-.59l7.78-7.78 2.81-2.81c.8-.78.8-2.07 0-2.86zM5.41 20L4 18.59l7.72-7.72 1.47 1.35L5.41 20z\"/>\n",
              "  </svg>\n",
              "      </button>\n",
              "      \n",
              "  <style>\n",
              "    .colab-df-container {\n",
              "      display:flex;\n",
              "      flex-wrap:wrap;\n",
              "      gap: 12px;\n",
              "    }\n",
              "\n",
              "    .colab-df-convert {\n",
              "      background-color: #E8F0FE;\n",
              "      border: none;\n",
              "      border-radius: 50%;\n",
              "      cursor: pointer;\n",
              "      display: none;\n",
              "      fill: #1967D2;\n",
              "      height: 32px;\n",
              "      padding: 0 0 0 0;\n",
              "      width: 32px;\n",
              "    }\n",
              "\n",
              "    .colab-df-convert:hover {\n",
              "      background-color: #E2EBFA;\n",
              "      box-shadow: 0px 1px 2px rgba(60, 64, 67, 0.3), 0px 1px 3px 1px rgba(60, 64, 67, 0.15);\n",
              "      fill: #174EA6;\n",
              "    }\n",
              "\n",
              "    [theme=dark] .colab-df-convert {\n",
              "      background-color: #3B4455;\n",
              "      fill: #D2E3FC;\n",
              "    }\n",
              "\n",
              "    [theme=dark] .colab-df-convert:hover {\n",
              "      background-color: #434B5C;\n",
              "      box-shadow: 0px 1px 3px 1px rgba(0, 0, 0, 0.15);\n",
              "      filter: drop-shadow(0px 1px 2px rgba(0, 0, 0, 0.3));\n",
              "      fill: #FFFFFF;\n",
              "    }\n",
              "  </style>\n",
              "\n",
              "      <script>\n",
              "        const buttonEl =\n",
              "          document.querySelector('#df-8df2ba71-1532-492b-9324-d8b7e3c67ed3 button.colab-df-convert');\n",
              "        buttonEl.style.display =\n",
              "          google.colab.kernel.accessAllowed ? 'block' : 'none';\n",
              "\n",
              "        async function convertToInteractive(key) {\n",
              "          const element = document.querySelector('#df-8df2ba71-1532-492b-9324-d8b7e3c67ed3');\n",
              "          const dataTable =\n",
              "            await google.colab.kernel.invokeFunction('convertToInteractive',\n",
              "                                                     [key], {});\n",
              "          if (!dataTable) return;\n",
              "\n",
              "          const docLinkHtml = 'Like what you see? Visit the ' +\n",
              "            '<a target=\"_blank\" href=https://colab.research.google.com/notebooks/data_table.ipynb>data table notebook</a>'\n",
              "            + ' to learn more about interactive tables.';\n",
              "          element.innerHTML = '';\n",
              "          dataTable['output_type'] = 'display_data';\n",
              "          await google.colab.output.renderOutput(dataTable, element);\n",
              "          const docLink = document.createElement('div');\n",
              "          docLink.innerHTML = docLinkHtml;\n",
              "          element.appendChild(docLink);\n",
              "        }\n",
              "      </script>\n",
              "    </div>\n",
              "  </div>\n",
              "  "
            ]
          },
          "metadata": {},
          "execution_count": 52
        }
      ]
    },
    {
      "cell_type": "markdown",
      "source": [
        "It appears that we obtain a slight improvement in accruacy by using the L2 regularization. \n",
        "\n",
        "We can see that training the MNIST dataset on a basic neural net we can obtain pretty good results. Possible next steps include running a different architecture or using CNN."
      ],
      "metadata": {
        "id": "OIo76V3A1ByM"
      }
    },
    {
      "cell_type": "code",
      "source": [],
      "metadata": {
        "id": "RQXP4JCE2vrR"
      },
      "execution_count": null,
      "outputs": []
    }
  ]
}